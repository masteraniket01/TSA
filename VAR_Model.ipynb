{
  "cells": [
    {
      "cell_type": "code",
      "execution_count": null,
      "id": "6a47e310",
      "metadata": {
        "id": "6a47e310"
      },
      "outputs": [],
      "source": [
        "import numpy as np\n",
        "import pandas as pd\n",
        "import warnings\n",
        "warnings.filterwarnings('ignore')\n",
        "import matplotlib as mpl\n",
        "mpl.rcParams['figure.figsize']=12,8\n",
        "import matplotlib.pyplot as plt\n",
        "import plotly.express as px\n",
        "import seaborn as sns\n",
        "from statsmodels.tsa.api import VAR"
      ]
    },
    {
      "cell_type": "code",
      "execution_count": null,
      "id": "5243ca9e",
      "metadata": {
        "id": "5243ca9e",
        "outputId": "8734dd09-5892-46da-a0e9-ff671166b3aa"
      },
      "outputs": [
        {
          "data": {
            "text/html": [
              "<div>\n",
              "<style scoped>\n",
              "    .dataframe tbody tr th:only-of-type {\n",
              "        vertical-align: middle;\n",
              "    }\n",
              "\n",
              "    .dataframe tbody tr th {\n",
              "        vertical-align: top;\n",
              "    }\n",
              "\n",
              "    .dataframe thead th {\n",
              "        text-align: right;\n",
              "    }\n",
              "</style>\n",
              "<table border=\"1\" class=\"dataframe\">\n",
              "  <thead>\n",
              "    <tr style=\"text-align: right;\">\n",
              "      <th></th>\n",
              "      <th>instant</th>\n",
              "      <th>dteday</th>\n",
              "      <th>season</th>\n",
              "      <th>yr</th>\n",
              "      <th>mnth</th>\n",
              "      <th>holiday</th>\n",
              "      <th>weekday</th>\n",
              "      <th>workingday</th>\n",
              "      <th>weathersit</th>\n",
              "      <th>temp</th>\n",
              "      <th>atemp</th>\n",
              "      <th>hum</th>\n",
              "      <th>windspeed</th>\n",
              "      <th>casual</th>\n",
              "      <th>registered</th>\n",
              "      <th>cnt</th>\n",
              "    </tr>\n",
              "  </thead>\n",
              "  <tbody>\n",
              "    <tr>\n",
              "      <th>0</th>\n",
              "      <td>1</td>\n",
              "      <td>01-01-2018</td>\n",
              "      <td>1</td>\n",
              "      <td>0</td>\n",
              "      <td>1</td>\n",
              "      <td>0</td>\n",
              "      <td>6</td>\n",
              "      <td>0</td>\n",
              "      <td>2</td>\n",
              "      <td>14.110847</td>\n",
              "      <td>18.18125</td>\n",
              "      <td>80.5833</td>\n",
              "      <td>10.749882</td>\n",
              "      <td>331</td>\n",
              "      <td>654</td>\n",
              "      <td>985</td>\n",
              "    </tr>\n",
              "    <tr>\n",
              "      <th>1</th>\n",
              "      <td>2</td>\n",
              "      <td>02-01-2018</td>\n",
              "      <td>1</td>\n",
              "      <td>0</td>\n",
              "      <td>1</td>\n",
              "      <td>0</td>\n",
              "      <td>0</td>\n",
              "      <td>0</td>\n",
              "      <td>2</td>\n",
              "      <td>14.902598</td>\n",
              "      <td>17.68695</td>\n",
              "      <td>69.6087</td>\n",
              "      <td>16.652113</td>\n",
              "      <td>131</td>\n",
              "      <td>670</td>\n",
              "      <td>801</td>\n",
              "    </tr>\n",
              "    <tr>\n",
              "      <th>2</th>\n",
              "      <td>3</td>\n",
              "      <td>03-01-2018</td>\n",
              "      <td>1</td>\n",
              "      <td>0</td>\n",
              "      <td>1</td>\n",
              "      <td>0</td>\n",
              "      <td>1</td>\n",
              "      <td>1</td>\n",
              "      <td>1</td>\n",
              "      <td>8.050924</td>\n",
              "      <td>9.47025</td>\n",
              "      <td>43.7273</td>\n",
              "      <td>16.636703</td>\n",
              "      <td>120</td>\n",
              "      <td>1229</td>\n",
              "      <td>1349</td>\n",
              "    </tr>\n",
              "    <tr>\n",
              "      <th>3</th>\n",
              "      <td>4</td>\n",
              "      <td>04-01-2018</td>\n",
              "      <td>1</td>\n",
              "      <td>0</td>\n",
              "      <td>1</td>\n",
              "      <td>0</td>\n",
              "      <td>2</td>\n",
              "      <td>1</td>\n",
              "      <td>1</td>\n",
              "      <td>8.200000</td>\n",
              "      <td>10.60610</td>\n",
              "      <td>59.0435</td>\n",
              "      <td>10.739832</td>\n",
              "      <td>108</td>\n",
              "      <td>1454</td>\n",
              "      <td>1562</td>\n",
              "    </tr>\n",
              "    <tr>\n",
              "      <th>4</th>\n",
              "      <td>5</td>\n",
              "      <td>05-01-2018</td>\n",
              "      <td>1</td>\n",
              "      <td>0</td>\n",
              "      <td>1</td>\n",
              "      <td>0</td>\n",
              "      <td>3</td>\n",
              "      <td>1</td>\n",
              "      <td>1</td>\n",
              "      <td>9.305237</td>\n",
              "      <td>11.46350</td>\n",
              "      <td>43.6957</td>\n",
              "      <td>12.522300</td>\n",
              "      <td>82</td>\n",
              "      <td>1518</td>\n",
              "      <td>1600</td>\n",
              "    </tr>\n",
              "  </tbody>\n",
              "</table>\n",
              "</div>"
            ],
            "text/plain": [
              "   instant      dteday  season  yr  mnth  holiday  weekday  workingday  \\\n",
              "0        1  01-01-2018       1   0     1        0        6           0   \n",
              "1        2  02-01-2018       1   0     1        0        0           0   \n",
              "2        3  03-01-2018       1   0     1        0        1           1   \n",
              "3        4  04-01-2018       1   0     1        0        2           1   \n",
              "4        5  05-01-2018       1   0     1        0        3           1   \n",
              "\n",
              "   weathersit       temp     atemp      hum  windspeed  casual  registered  \\\n",
              "0           2  14.110847  18.18125  80.5833  10.749882     331         654   \n",
              "1           2  14.902598  17.68695  69.6087  16.652113     131         670   \n",
              "2           1   8.050924   9.47025  43.7273  16.636703     120        1229   \n",
              "3           1   8.200000  10.60610  59.0435  10.739832     108        1454   \n",
              "4           1   9.305237  11.46350  43.6957  12.522300      82        1518   \n",
              "\n",
              "    cnt  \n",
              "0   985  \n",
              "1   801  \n",
              "2  1349  \n",
              "3  1562  \n",
              "4  1600  "
            ]
          },
          "execution_count": 29,
          "metadata": {},
          "output_type": "execute_result"
        }
      ],
      "source": [
        "df = pd.read_csv('day.csv')\n",
        "df.head()"
      ]
    },
    {
      "cell_type": "code",
      "execution_count": null,
      "id": "2379a87b",
      "metadata": {
        "id": "2379a87b",
        "outputId": "649fb927-2bdd-410e-dbcb-b1079ba68229"
      },
      "outputs": [
        {
          "data": {
            "text/html": [
              "<div>\n",
              "<style scoped>\n",
              "    .dataframe tbody tr th:only-of-type {\n",
              "        vertical-align: middle;\n",
              "    }\n",
              "\n",
              "    .dataframe tbody tr th {\n",
              "        vertical-align: top;\n",
              "    }\n",
              "\n",
              "    .dataframe thead th {\n",
              "        text-align: right;\n",
              "    }\n",
              "</style>\n",
              "<table border=\"1\" class=\"dataframe\">\n",
              "  <thead>\n",
              "    <tr style=\"text-align: right;\">\n",
              "      <th></th>\n",
              "      <th>dteday</th>\n",
              "      <th>season</th>\n",
              "      <th>mnth</th>\n",
              "      <th>hum</th>\n",
              "      <th>temp</th>\n",
              "      <th>windspeed</th>\n",
              "      <th>cnt</th>\n",
              "    </tr>\n",
              "  </thead>\n",
              "  <tbody>\n",
              "    <tr>\n",
              "      <th>0</th>\n",
              "      <td>01-01-2018</td>\n",
              "      <td>1</td>\n",
              "      <td>1</td>\n",
              "      <td>80.5833</td>\n",
              "      <td>14.110847</td>\n",
              "      <td>10.749882</td>\n",
              "      <td>985</td>\n",
              "    </tr>\n",
              "    <tr>\n",
              "      <th>1</th>\n",
              "      <td>02-01-2018</td>\n",
              "      <td>1</td>\n",
              "      <td>1</td>\n",
              "      <td>69.6087</td>\n",
              "      <td>14.902598</td>\n",
              "      <td>16.652113</td>\n",
              "      <td>801</td>\n",
              "    </tr>\n",
              "    <tr>\n",
              "      <th>2</th>\n",
              "      <td>03-01-2018</td>\n",
              "      <td>1</td>\n",
              "      <td>1</td>\n",
              "      <td>43.7273</td>\n",
              "      <td>8.050924</td>\n",
              "      <td>16.636703</td>\n",
              "      <td>1349</td>\n",
              "    </tr>\n",
              "    <tr>\n",
              "      <th>3</th>\n",
              "      <td>04-01-2018</td>\n",
              "      <td>1</td>\n",
              "      <td>1</td>\n",
              "      <td>59.0435</td>\n",
              "      <td>8.200000</td>\n",
              "      <td>10.739832</td>\n",
              "      <td>1562</td>\n",
              "    </tr>\n",
              "    <tr>\n",
              "      <th>4</th>\n",
              "      <td>05-01-2018</td>\n",
              "      <td>1</td>\n",
              "      <td>1</td>\n",
              "      <td>43.6957</td>\n",
              "      <td>9.305237</td>\n",
              "      <td>12.522300</td>\n",
              "      <td>1600</td>\n",
              "    </tr>\n",
              "  </tbody>\n",
              "</table>\n",
              "</div>"
            ],
            "text/plain": [
              "       dteday  season  mnth      hum       temp  windspeed   cnt\n",
              "0  01-01-2018       1     1  80.5833  14.110847  10.749882   985\n",
              "1  02-01-2018       1     1  69.6087  14.902598  16.652113   801\n",
              "2  03-01-2018       1     1  43.7273   8.050924  16.636703  1349\n",
              "3  04-01-2018       1     1  59.0435   8.200000  10.739832  1562\n",
              "4  05-01-2018       1     1  43.6957   9.305237  12.522300  1600"
            ]
          },
          "execution_count": 30,
          "metadata": {},
          "output_type": "execute_result"
        }
      ],
      "source": [
        "new = df[['dteday', 'season','mnth', 'hum','temp','windspeed','cnt']]\n",
        "new.head()"
      ]
    },
    {
      "cell_type": "code",
      "execution_count": null,
      "id": "23fd00c3",
      "metadata": {
        "id": "23fd00c3",
        "outputId": "3632961a-8dec-4333-ba76-89a200c78848"
      },
      "outputs": [
        {
          "data": {
            "text/html": [
              "<div>\n",
              "<style scoped>\n",
              "    .dataframe tbody tr th:only-of-type {\n",
              "        vertical-align: middle;\n",
              "    }\n",
              "\n",
              "    .dataframe tbody tr th {\n",
              "        vertical-align: top;\n",
              "    }\n",
              "\n",
              "    .dataframe thead th {\n",
              "        text-align: right;\n",
              "    }\n",
              "</style>\n",
              "<table border=\"1\" class=\"dataframe\">\n",
              "  <thead>\n",
              "    <tr style=\"text-align: right;\">\n",
              "      <th></th>\n",
              "      <th>dteday</th>\n",
              "      <th>season</th>\n",
              "      <th>mnth</th>\n",
              "      <th>hum</th>\n",
              "      <th>temp</th>\n",
              "      <th>windspeed</th>\n",
              "      <th>cnt</th>\n",
              "    </tr>\n",
              "  </thead>\n",
              "  <tbody>\n",
              "    <tr>\n",
              "      <th>725</th>\n",
              "      <td>27-12-2019</td>\n",
              "      <td>1</td>\n",
              "      <td>12</td>\n",
              "      <td>65.2917</td>\n",
              "      <td>10.420847</td>\n",
              "      <td>23.458911</td>\n",
              "      <td>2114</td>\n",
              "    </tr>\n",
              "    <tr>\n",
              "      <th>726</th>\n",
              "      <td>28-12-2019</td>\n",
              "      <td>1</td>\n",
              "      <td>12</td>\n",
              "      <td>59.0000</td>\n",
              "      <td>10.386653</td>\n",
              "      <td>10.416557</td>\n",
              "      <td>3095</td>\n",
              "    </tr>\n",
              "    <tr>\n",
              "      <th>727</th>\n",
              "      <td>29-12-2019</td>\n",
              "      <td>1</td>\n",
              "      <td>12</td>\n",
              "      <td>75.2917</td>\n",
              "      <td>10.386653</td>\n",
              "      <td>8.333661</td>\n",
              "      <td>1341</td>\n",
              "    </tr>\n",
              "    <tr>\n",
              "      <th>728</th>\n",
              "      <td>30-12-2019</td>\n",
              "      <td>1</td>\n",
              "      <td>12</td>\n",
              "      <td>48.3333</td>\n",
              "      <td>10.489153</td>\n",
              "      <td>23.500518</td>\n",
              "      <td>1796</td>\n",
              "    </tr>\n",
              "    <tr>\n",
              "      <th>729</th>\n",
              "      <td>31-12-2019</td>\n",
              "      <td>1</td>\n",
              "      <td>12</td>\n",
              "      <td>57.7500</td>\n",
              "      <td>8.849153</td>\n",
              "      <td>10.374682</td>\n",
              "      <td>2729</td>\n",
              "    </tr>\n",
              "  </tbody>\n",
              "</table>\n",
              "</div>"
            ],
            "text/plain": [
              "         dteday  season  mnth      hum       temp  windspeed   cnt\n",
              "725  27-12-2019       1    12  65.2917  10.420847  23.458911  2114\n",
              "726  28-12-2019       1    12  59.0000  10.386653  10.416557  3095\n",
              "727  29-12-2019       1    12  75.2917  10.386653   8.333661  1341\n",
              "728  30-12-2019       1    12  48.3333  10.489153  23.500518  1796\n",
              "729  31-12-2019       1    12  57.7500   8.849153  10.374682  2729"
            ]
          },
          "execution_count": 31,
          "metadata": {},
          "output_type": "execute_result"
        }
      ],
      "source": [
        "new.tail()"
      ]
    },
    {
      "cell_type": "code",
      "execution_count": null,
      "id": "20014110",
      "metadata": {
        "id": "20014110",
        "outputId": "dfce6d3a-6192-496a-cee1-a550d8a62eb4"
      },
      "outputs": [
        {
          "data": {
            "text/plain": [
              "(730, 7)"
            ]
          },
          "execution_count": 32,
          "metadata": {},
          "output_type": "execute_result"
        }
      ],
      "source": [
        "new.shape"
      ]
    },
    {
      "cell_type": "code",
      "execution_count": null,
      "id": "b753eab3",
      "metadata": {
        "id": "b753eab3",
        "outputId": "cc9d6879-32a2-4c2d-ba06-c0ec58162693"
      },
      "outputs": [
        {
          "name": "stdout",
          "output_type": "stream",
          "text": [
            "<class 'pandas.core.frame.DataFrame'>\n",
            "RangeIndex: 730 entries, 0 to 729\n",
            "Data columns (total 7 columns):\n",
            " #   Column     Non-Null Count  Dtype  \n",
            "---  ------     --------------  -----  \n",
            " 0   dteday     730 non-null    object \n",
            " 1   season     730 non-null    int64  \n",
            " 2   mnth       730 non-null    int64  \n",
            " 3   hum        730 non-null    float64\n",
            " 4   temp       730 non-null    float64\n",
            " 5   windspeed  730 non-null    float64\n",
            " 6   cnt        730 non-null    int64  \n",
            "dtypes: float64(3), int64(3), object(1)\n",
            "memory usage: 40.0+ KB\n"
          ]
        }
      ],
      "source": [
        "new.info()"
      ]
    },
    {
      "cell_type": "code",
      "execution_count": null,
      "id": "356dd433",
      "metadata": {
        "id": "356dd433",
        "outputId": "96a661f9-2e32-4192-9a25-fbb88e753117"
      },
      "outputs": [
        {
          "data": {
            "text/html": [
              "<div>\n",
              "<style scoped>\n",
              "    .dataframe tbody tr th:only-of-type {\n",
              "        vertical-align: middle;\n",
              "    }\n",
              "\n",
              "    .dataframe tbody tr th {\n",
              "        vertical-align: top;\n",
              "    }\n",
              "\n",
              "    .dataframe thead th {\n",
              "        text-align: right;\n",
              "    }\n",
              "</style>\n",
              "<table border=\"1\" class=\"dataframe\">\n",
              "  <thead>\n",
              "    <tr style=\"text-align: right;\">\n",
              "      <th></th>\n",
              "      <th>dteday</th>\n",
              "      <th>season</th>\n",
              "      <th>mnth</th>\n",
              "      <th>hum</th>\n",
              "      <th>temp</th>\n",
              "      <th>windspeed</th>\n",
              "      <th>cnt</th>\n",
              "    </tr>\n",
              "  </thead>\n",
              "  <tbody>\n",
              "    <tr>\n",
              "      <th>0</th>\n",
              "      <td>2018-01-01</td>\n",
              "      <td>1</td>\n",
              "      <td>1</td>\n",
              "      <td>80.5833</td>\n",
              "      <td>14.110847</td>\n",
              "      <td>10.749882</td>\n",
              "      <td>985</td>\n",
              "    </tr>\n",
              "    <tr>\n",
              "      <th>1</th>\n",
              "      <td>2018-01-02</td>\n",
              "      <td>1</td>\n",
              "      <td>1</td>\n",
              "      <td>69.6087</td>\n",
              "      <td>14.902598</td>\n",
              "      <td>16.652113</td>\n",
              "      <td>801</td>\n",
              "    </tr>\n",
              "    <tr>\n",
              "      <th>2</th>\n",
              "      <td>2018-01-03</td>\n",
              "      <td>1</td>\n",
              "      <td>1</td>\n",
              "      <td>43.7273</td>\n",
              "      <td>8.050924</td>\n",
              "      <td>16.636703</td>\n",
              "      <td>1349</td>\n",
              "    </tr>\n",
              "    <tr>\n",
              "      <th>3</th>\n",
              "      <td>2018-01-04</td>\n",
              "      <td>1</td>\n",
              "      <td>1</td>\n",
              "      <td>59.0435</td>\n",
              "      <td>8.200000</td>\n",
              "      <td>10.739832</td>\n",
              "      <td>1562</td>\n",
              "    </tr>\n",
              "    <tr>\n",
              "      <th>4</th>\n",
              "      <td>2018-01-05</td>\n",
              "      <td>1</td>\n",
              "      <td>1</td>\n",
              "      <td>43.6957</td>\n",
              "      <td>9.305237</td>\n",
              "      <td>12.522300</td>\n",
              "      <td>1600</td>\n",
              "    </tr>\n",
              "  </tbody>\n",
              "</table>\n",
              "</div>"
            ],
            "text/plain": [
              "      dteday  season  mnth      hum       temp  windspeed   cnt\n",
              "0 2018-01-01       1     1  80.5833  14.110847  10.749882   985\n",
              "1 2018-01-02       1     1  69.6087  14.902598  16.652113   801\n",
              "2 2018-01-03       1     1  43.7273   8.050924  16.636703  1349\n",
              "3 2018-01-04       1     1  59.0435   8.200000  10.739832  1562\n",
              "4 2018-01-05       1     1  43.6957   9.305237  12.522300  1600"
            ]
          },
          "execution_count": 34,
          "metadata": {},
          "output_type": "execute_result"
        }
      ],
      "source": [
        "# parsing string to Datetime\n",
        "\n",
        "new['dteday'] = pd.to_datetime(new['dteday'])\n",
        "new['dteday'] = pd.to_datetime(new['dteday'].dt.strftime('%d-%m-%y'))\n",
        "new = new.sort_values(by=['dteday'])\n",
        "new.head()"
      ]
    },
    {
      "cell_type": "code",
      "execution_count": null,
      "id": "930d257f",
      "metadata": {
        "id": "930d257f",
        "outputId": "5baa173d-5727-42cf-b62b-db41dedd16d3"
      },
      "outputs": [
        {
          "name": "stdout",
          "output_type": "stream",
          "text": [
            "<class 'pandas.core.frame.DataFrame'>\n",
            "Int64Index: 730 entries, 0 to 729\n",
            "Data columns (total 7 columns):\n",
            " #   Column     Non-Null Count  Dtype         \n",
            "---  ------     --------------  -----         \n",
            " 0   dteday     730 non-null    datetime64[ns]\n",
            " 1   season     730 non-null    int64         \n",
            " 2   mnth       730 non-null    int64         \n",
            " 3   hum        730 non-null    float64       \n",
            " 4   temp       730 non-null    float64       \n",
            " 5   windspeed  730 non-null    float64       \n",
            " 6   cnt        730 non-null    int64         \n",
            "dtypes: datetime64[ns](1), float64(3), int64(3)\n",
            "memory usage: 45.6 KB\n"
          ]
        }
      ],
      "source": [
        "new.info()"
      ]
    },
    {
      "cell_type": "code",
      "execution_count": null,
      "id": "ac1b7ce5",
      "metadata": {
        "id": "ac1b7ce5",
        "outputId": "c5a64fef-47a1-4631-f940-feceb9dfb9c7"
      },
      "outputs": [
        {
          "data": {
            "text/plain": [
              "array([<AxesSubplot:>, <AxesSubplot:>, <AxesSubplot:>, <AxesSubplot:>,\n",
              "       <AxesSubplot:>, <AxesSubplot:>, <AxesSubplot:>], dtype=object)"
            ]
          },
          "execution_count": 36,
          "metadata": {},
          "output_type": "execute_result"
        },
        {
          "data": {
            "image/png": "[encoded data removed]",
            "text/plain": [
              "<Figure size 864x576 with 7 Axes>"
            ]
          },
          "metadata": {
            "needs_background": "light"
          },
          "output_type": "display_data"
        }
      ],
      "source": [
        "new.plot(subplots=True)"
      ]
    },
    {
      "cell_type": "code",
      "execution_count": null,
      "id": "c810248d",
      "metadata": {
        "id": "c810248d",
        "outputId": "b5c9af54-31d0-43bc-9081-5191ce32baca"
      },
      "outputs": [
        {
          "data": {
            "application/vnd.plotly.v1+json": {
              "config": {
                "plotlyServerURL": "https://plot.ly"
              },
              "data": [
                {
                  "customdata": [
                    [
                      14.110847
                    ],
                    [
                      14.902598
                    ],
                    [
                      8.050924
                    ],
                    [
                      8.2
                    ],
                    [
                      9.305237
                    ],
                    [
                      8.378268
                    ],
                    [
                      8.057402
                    ],
                    [
                      6.765
                    ],
                    [
                      5.671653
                    ],
                    [
                      6.184153
                    ],
                    [
                      6.932731
                    ],
                    [
                      7.081807
                    ],
                    [
                      6.765
                    ],
                    [
                      6.59567
                    ],
                    [
                      9.566653
                    ],
                    [
                      9.498347
                    ],
                    [
                      7.209153
                    ],
                    [
                      8.883347
                    ],
                    [
                      11.979134
                    ],
                    [
                      10.728347
                    ],
                    [
                      7.2775
                    ],
                    [
                      2.4243464
                    ],
                    [
                      3.9573897
                    ],
                    [
                      3.9930433
                    ],
                    [
                      9.162598
                    ],
                    [
                      8.9175
                    ],
                    [
                      7.995
                    ],
                    [
                      8.342598
                    ],
                    [
                      8.057402
                    ],
                    [
                      8.877402
                    ],
                    [
                      7.414153
                    ],
                    [
                      7.879134
                    ],
                    [
                      10.66
                    ],
                    [
                      7.665237
                    ],
                    [
                      8.663464
                    ],
                    [
                      9.566653
                    ],
                    [
                      11.719153
                    ],
                    [
                      11.138347
                    ],
                    [
                      9.054153
                    ],
                    [
                      5.526103
                    ],
                    [
                      5.918268
                    ],
                    [
                      7.752731
                    ],
                    [
                      9.1225
                    ],
                    [
                      12.977402
                    ],
                    [
                      17.015
                    ],
                    [
                      10.909567
                    ],
                    [
                      13.048701
                    ],
                    [
                      17.869153
                    ],
                    [
                      21.388347
                    ],
                    [
                      16.365847
                    ],
                    [
                      11.693897
                    ],
                    [
                      12.436653
                    ],
                    [
                      7.471102
                    ],
                    [
                      9.091299
                    ],
                    [
                      12.121732
                    ],
                    [
                      14.938268
                    ],
                    [
                      11.5825
                    ],
                    [
                      14.082598
                    ],
                    [
                      16.698193
                    ],
                    [
                      10.933347
                    ],
                    [
                      13.735
                    ],
                    [
                      8.131653
                    ],
                    [
                      10.728347
                    ],
                    [
                      15.750847
                    ],
                    [
                      15.437402
                    ],
                    [
                      10.731299
                    ],
                    [
                      11.9925
                    ],
                    [
                      12.129153
                    ],
                    [
                      15.952731
                    ],
                    [
                      12.977402
                    ],
                    [
                      13.495847
                    ],
                    [
                      15.758268
                    ],
                    [
                      13.333897
                    ],
                    [
                      13.013031
                    ],
                    [
                      14.973897
                    ],
                    [
                      17.015
                    ],
                    [
                      22.14
                    ],
                    [
                      19.3725
                    ],
                    [
                      13.6325
                    ],
                    [
                      17.647835
                    ],
                    [
                      18.108347
                    ],
                    [
                      14.225237
                    ],
                    [
                      11.685
                    ],
                    [
                      10.830847
                    ],
                    [
                      10.899153
                    ],
                    [
                      10.374763
                    ],
                    [
                      10.838268
                    ],
                    [
                      12.4025
                    ],
                    [
                      12.3
                    ],
                    [
                      11.001653
                    ],
                    [
                      12.3
                    ],
                    [
                      12.915
                    ],
                    [
                      15.511653
                    ],
                    [
                      23.506653
                    ],
                    [
                      16.980847
                    ],
                    [
                      16.024153
                    ],
                    [
                      17.9375
                    ],
                    [
                      13.769153
                    ],
                    [
                      14.0425
                    ],
                    [
                      17.493347
                    ],
                    [
                      24.421732
                    ],
                    [
                      20.6025
                    ],
                    [
                      16.9125
                    ],
                    [
                      19.1675
                    ],
                    [
                      18.313347
                    ],
                    [
                      17.664153
                    ],
                    [
                      18.723347
                    ],
                    [
                      21.0125
                    ],
                    [
                      20.739153
                    ],
                    [
                      24.395
                    ],
                    [
                      18.825847
                    ],
                    [
                      13.803347
                    ],
                    [
                      18.86
                    ],
                    [
                      23.848347
                    ],
                    [
                      24.873347
                    ],
                    [
                      25.898347
                    ],
                    [
                      25.42
                    ],
                    [
                      25.3175
                    ],
                    [
                      20.91
                    ],
                    [
                      19.3725
                    ],
                    [
                      18.518347
                    ],
                    [
                      22.515847
                    ],
                    [
                      25.283347
                    ],
                    [
                      16.980847
                    ],
                    [
                      18.825847
                    ],
                    [
                      19.645847
                    ],
                    [
                      21.32
                    ],
                    [
                      21.661653
                    ],
                    [
                      21.8325
                    ],
                    [
                      21.8325
                    ],
                    [
                      22.2425
                    ],
                    [
                      21.935
                    ],
                    [
                      21.0125
                    ],
                    [
                      21.354153
                    ],
                    [
                      23.0625
                    ],
                    [
                      23.6775
                    ],
                    [
                      23.028347
                    ],
                    [
                      22.55
                    ],
                    [
                      21.764153
                    ],
                    [
                      22.003347
                    ],
                    [
                      24.7025
                    ],
                    [
                      24.770847
                    ],
                    [
                      25.898347
                    ],
                    [
                      27.06
                    ],
                    [
                      27.094153
                    ],
                    [
                      29.041653
                    ],
                    [
                      27.948347
                    ],
                    [
                      26.889153
                    ],
                    [
                      27.3675
                    ],
                    [
                      30.066653
                    ],
                    [
                      31.775
                    ],
                    [
                      31.330847
                    ],
                    [
                      29.315
                    ],
                    [
                      25.42
                    ],
                    [
                      26.035
                    ],
                    [
                      26.581653
                    ],
                    [
                      27.811653
                    ],
                    [
                      29.0075
                    ],
                    [
                      31.809153
                    ],
                    [
                      33.141653
                    ],
                    [
                      30.955
                    ],
                    [
                      29.725
                    ],
                    [
                      28.3925
                    ],
                    [
                      26.035
                    ],
                    [
                      24.770847
                    ],
                    [
                      25.693347
                    ],
                    [
                      25.761653
                    ],
                    [
                      26.615847
                    ],
                    [
                      28.563347
                    ],
                    [
                      28.665847
                    ],
                    [
                      26.035
                    ],
                    [
                      27.914153
                    ],
                    [
                      30.066653
                    ],
                    [
                      29.861653
                    ],
                    [
                      29.690847
                    ],
                    [
                      28.495
                    ],
                    [
                      27.88
                    ],
                    [
                      27.9825
                    ],
                    [
                      30.510847
                    ],
                    [
                      29.861653
                    ],
                    [
                      28.563347
                    ],
                    [
                      29.6225
                    ],
                    [
                      30.271653
                    ],
                    [
                      29.383347
                    ],
                    [
                      29.793347
                    ],
                    [
                      30.613347
                    ],
                    [
                      29.52
                    ],
                    [
                      30.75
                    ],
                    [
                      29.075847
                    ],
                    [
                      30.066653
                    ],
                    [
                      30.6475
                    ],
                    [
                      31.2625
                    ],
                    [
                      32.560847
                    ],
                    [
                      30.613347
                    ],
                    [
                      27.914153
                    ],
                    [
                      27.196653
                    ],
                    [
                      28.153347
                    ],
                    [
                      29.485847
                    ],
                    [
                      30.613347
                    ],
                    [
                      31.843347
                    ],
                    [
                      31.501653
                    ],
                    [
                      33.415
                    ],
                    [
                      34.781653
                    ],
                    [
                      34.815847
                    ],
                    [
                      34.03
                    ],
                    [
                      30.476653
                    ],
                    [
                      31.638347
                    ],
                    [
                      31.775
                    ],
                    [
                      31.945847
                    ],
                    [
                      34.371653
                    ],
                    [
                      32.970847
                    ],
                    [
                      33.039153
                    ],
                    [
                      31.638347
                    ],
                    [
                      32.116653
                    ],
                    [
                      29.998347
                    ],
                    [
                      29.11
                    ],
                    [
                      29.144153
                    ],
                    [
                      29.383347
                    ],
                    [
                      30.4425
                    ],
                    [
                      31.365
                    ],
                    [
                      31.775
                    ],
                    [
                      31.433347
                    ],
                    [
                      29.4175
                    ],
                    [
                      29.041653
                    ],
                    [
                      28.119153
                    ],
                    [
                      27.743347
                    ],
                    [
                      27.299153
                    ],
                    [
                      28.734153
                    ],
                    [
                      29.656653
                    ],
                    [
                      29.178347
                    ],
                    [
                      28.085
                    ],
                    [
                      28.5975
                    ],
                    [
                      29.144153
                    ],
                    [
                      28.358347
                    ],
                    [
                      26.274153
                    ],
                    [
                      27.606653
                    ],
                    [
                      28.050847
                    ],
                    [
                      28.7
                    ],
                    [
                      27.88
                    ],
                    [
                      28.989419
                    ],
                    [
                      26.103347
                    ],
                    [
                      26.205847
                    ],
                    [
                      26.923347
                    ],
                    [
                      26.855
                    ],
                    [
                      26.376653
                    ],
                    [
                      27.435847
                    ],
                    [
                      29.075847
                    ],
                    [
                      27.606653
                    ],
                    [
                      22.14
                    ],
                    [
                      24.565847
                    ],
                    [
                      25.990433
                    ],
                    [
                      26.65
                    ],
                    [
                      27.06
                    ],
                    [
                      26.786653
                    ],
                    [
                      26.418268
                    ],
                    [
                      26.684153
                    ],
                    [
                      27.606653
                    ],
                    [
                      23.6775
                    ],
                    [
                      19.235847
                    ],
                    [
                      20.158347
                    ],
                    [
                      20.8075
                    ],
                    [
                      22.515847
                    ],
                    [
                      23.028347
                    ],
                    [
                      24.395
                    ],
                    [
                      25.761653
                    ],
                    [
                      24.975847
                    ],
                    [
                      24.873347
                    ],
                    [
                      26.000847
                    ],
                    [
                      26.615847
                    ],
                    [
                      26.103347
                    ],
                    [
                      26.035
                    ],
                    [
                      25.283347
                    ],
                    [
                      23.130847
                    ],
                    [
                      16.81
                    ],
                    [
                      14.623347
                    ],
                    [
                      15.750847
                    ],
                    [
                      19.850847
                    ],
                    [
                      22.071653
                    ],
                    [
                      20.260847
                    ],
                    [
                      20.944153
                    ],
                    [
                      21.388347
                    ],
                    [
                      22.174153
                    ],
                    [
                      23.404153
                    ],
                    [
                      23.233347
                    ],
                    [
                      22.276653
                    ],
                    [
                      24.155847
                    ],
                    [
                      22.584153
                    ],
                    [
                      20.773347
                    ],
                    [
                      20.978347
                    ],
                    [
                      21.900847
                    ],
                    [
                      21.8325
                    ],
                    [
                      22.211299
                    ],
                    [
                      19.509153
                    ],
                    [
                      17.5275
                    ],
                    [
                      17.3225
                    ],
                    [
                      17.288347
                    ],
                    [
                      18.996653
                    ],
                    [
                      19.338347
                    ],
                    [
                      19.850847
                    ],
                    [
                      19.27
                    ],
                    [
                      13.564153
                    ],
                    [
                      10.420847
                    ],
                    [
                      13.085847
                    ],
                    [
                      13.94
                    ],
                    [
                      16.434153
                    ],
                    [
                      15.4775
                    ],
                    [
                      16.741653
                    ],
                    [
                      16.536653
                    ],
                    [
                      13.393347
                    ],
                    [
                      14.281653
                    ],
                    [
                      16.195
                    ],
                    [
                      16.741653
                    ],
                    [
                      16.4
                    ],
                    [
                      15.58
                    ],
                    [
                      13.290847
                    ],
                    [
                      14.623347
                    ],
                    [
                      18.074153
                    ],
                    [
                      21.73
                    ],
                    [
                      21.73
                    ],
                    [
                      18.723347
                    ],
                    [
                      14.008347
                    ],
                    [
                      11.240847
                    ],
                    [
                      13.495847
                    ],
                    [
                      18.996653
                    ],
                    [
                      18.3475
                    ],
                    [
                      17.083347
                    ],
                    [
                      18.074153
                    ],
                    [
                      15.306653
                    ],
                    [
                      15.375
                    ],
                    [
                      15.409153
                    ],
                    [
                      18.825847
                    ],
                    [
                      20.642598
                    ],
                    [
                      18.791653
                    ],
                    [
                      13.325
                    ],
                    [
                      12.8125
                    ],
                    [
                      12.880847
                    ],
                    [
                      12.265847
                    ],
                    [
                      13.564153
                    ],
                    [
                      15.819153
                    ],
                    [
                      18.9625
                    ],
                    [
                      16.81
                    ],
                    [
                      10.899153
                    ],
                    [
                      11.924153
                    ],
                    [
                      11.275
                    ],
                    [
                      9.054153
                    ],
                    [
                      9.771653
                    ],
                    [
                      11.5825
                    ],
                    [
                      13.0175
                    ],
                    [
                      17.3225
                    ],
                    [
                      15.375
                    ],
                    [
                      10.591653
                    ],
                    [
                      9.771653
                    ],
                    [
                      11.343347
                    ],
                    [
                      15.819153
                    ],
                    [
                      17.561653
                    ],
                    [
                      17.356653
                    ],
                    [
                      15.306653
                    ],
                    [
                      12.4025
                    ],
                    [
                      11.266103
                    ],
                    [
                      13.191299
                    ],
                    [
                      13.325
                    ],
                    [
                      12.26433
                    ],
                    [
                      10.181653
                    ],
                    [
                      12.778347
                    ],
                    [
                      16.81
                    ],
                    [
                      15.17
                    ],
                    [
                      11.194763
                    ],
                    [
                      6.15
                    ],
                    [
                      4.4075
                    ],
                    [
                      10.899153
                    ],
                    [
                      13.700847
                    ],
                    [
                      16.126653
                    ],
                    [
                      13.8375
                    ],
                    [
                      9.190847
                    ],
                    [
                      12.656536
                    ],
                    [
                      11.240847
                    ],
                    [
                      15.6825
                    ],
                    [
                      11.240847
                    ],
                    [
                      7.38
                    ],
                    [
                      6.833347
                    ],
                    [
                      7.79
                    ],
                    [
                      15.294763
                    ],
                    [
                      12.436653
                    ],
                    [
                      7.79
                    ],
                    [
                      8.9175
                    ],
                    [
                      7.106653
                    ],
                    [
                      6.6625
                    ],
                    [
                      8.951653
                    ],
                    [
                      14.0425
                    ],
                    [
                      12.060847
                    ],
                    [
                      14.008347
                    ],
                    [
                      17.425
                    ],
                    [
                      12.949153
                    ],
                    [
                      11.5825
                    ],
                    [
                      11.035847
                    ],
                    [
                      15.99
                    ],
                    [
                      19.235847
                    ],
                    [
                      16.365847
                    ],
                    [
                      12.846653
                    ],
                    [
                      10.830847
                    ],
                    [
                      10.899153
                    ],
                    [
                      11.586969
                    ],
                    [
                      14.520847
                    ],
                    [
                      10.523347
                    ],
                    [
                      10.865
                    ],
                    [
                      11.514153
                    ],
                    [
                      9.190847
                    ],
                    [
                      5.2275
                    ],
                    [
                      9.1225
                    ],
                    [
                      13.085847
                    ],
                    [
                      14.281653
                    ],
                    [
                      12.983347
                    ],
                    [
                      14.076653
                    ],
                    [
                      14.213347
                    ],
                    [
                      11.48
                    ],
                    [
                      11.48
                    ],
                    [
                      11.800866
                    ],
                    [
                      16.229153
                    ],
                    [
                      18.620847
                    ],
                    [
                      16.7075
                    ],
                    [
                      11.924153
                    ],
                    [
                      11.445847
                    ],
                    [
                      15.033347
                    ],
                    [
                      14.725847
                    ],
                    [
                      19.919153
                    ],
                    [
                      14.486653
                    ],
                    [
                      16.980847
                    ],
                    [
                      13.359153
                    ],
                    [
                      9.976653
                    ],
                    [
                      10.591653
                    ],
                    [
                      16.570847
                    ],
                    [
                      21.6275
                    ],
                    [
                      16.844153
                    ],
                    [
                      11.7875
                    ],
                    [
                      14.831299
                    ],
                    [
                      19.133347
                    ],
                    [
                      23.165
                    ],
                    [
                      23.4725
                    ],
                    [
                      22.8575
                    ],
                    [
                      17.869153
                    ],
                    [
                      21.080847
                    ],
                    [
                      19.3725
                    ],
                    [
                      22.345
                    ],
                    [
                      22.994153
                    ],
                    [
                      21.798347
                    ],
                    [
                      22.720847
                    ],
                    [
                      24.668347
                    ],
                    [
                      20.6025
                    ],
                    [
                      17.9375
                    ],
                    [
                      18.279153
                    ],
                    [
                      13.256653
                    ],
                    [
                      19.850847
                    ],
                    [
                      20.260847
                    ],
                    [
                      15.17
                    ],
                    [
                      17.390847
                    ],
                    [
                      17.459153
                    ],
                    [
                      17.790433
                    ],
                    [
                      19.133347
                    ],
                    [
                      22.208347
                    ],
                    [
                      17.835
                    ],
                    [
                      16.536653
                    ],
                    [
                      17.9375
                    ],
                    [
                      20.5
                    ],
                    [
                      20.055847
                    ],
                    [
                      18.313347
                    ],
                    [
                      14.296536
                    ],
                    [
                      16.2975
                    ],
                    [
                      18.1425
                    ],
                    [
                      20.295
                    ],
                    [
                      24.873347
                    ],
                    [
                      27.230847
                    ],
                    [
                      24.941653
                    ],
                    [
                      18.996653
                    ],
                    [
                      20.431653
                    ],
                    [
                      21.593347
                    ],
                    [
                      23.37
                    ],
                    [
                      16.263347
                    ],
                    [
                      13.188347
                    ],
                    [
                      16.946653
                    ],
                    [
                      19.543347
                    ],
                    [
                      20.431653
                    ],
                    [
                      18.7575
                    ],
                    [
                      15.443347
                    ],
                    [
                      18.791653
                    ],
                    [
                      19.030847
                    ],
                    [
                      25.146653
                    ],
                    [
                      23.130847
                    ],
                    [
                      22.96
                    ],
                    [
                      25.7275
                    ],
                    [
                      25.488347
                    ],
                    [
                      23.0625
                    ],
                    [
                      22.0375
                    ],
                    [
                      23.848347
                    ],
                    [
                      23.575
                    ],
                    [
                      20.739153
                    ],
                    [
                      21.866653
                    ],
                    [
                      23.130847
                    ],
                    [
                      25.1125
                    ],
                    [
                      23.506653
                    ],
                    [
                      25.078347
                    ],
                    [
                      26.103347
                    ],
                    [
                      24.326653
                    ],
                    [
                      23.130847
                    ],
                    [
                      24.6
                    ],
                    [
                      25.454153
                    ],
                    [
                      24.531653
                    ],
                    [
                      25.215
                    ],
                    [
                      25.488347
                    ],
                    [
                      26.855
                    ],
                    [
                      27.88
                    ],
                    [
                      28.3925
                    ],
                    [
                      28.29
                    ],
                    [
                      29.2125
                    ],
                    [
                      29.6225
                    ],
                    [
                      26.923347
                    ],
                    [
                      27.88
                    ],
                    [
                      26.820847
                    ],
                    [
                      23.916653
                    ],
                    [
                      24.7025
                    ],
                    [
                      24.4975
                    ],
                    [
                      22.174153
                    ],
                    [
                      22.720847
                    ],
                    [
                      24.7025
                    ],
                    [
                      26.615847
                    ],
                    [
                      29.144153
                    ],
                    [
                      29.793347
                    ],
                    [
                      29.554153
                    ],
                    [
                      26.786653
                    ],
                    [
                      26.889153
                    ],
                    [
                      26.581653
                    ],
                    [
                      26.205847
                    ],
                    [
                      25.898347
                    ],
                    [
                      24.2925
                    ],
                    [
                      23.301653
                    ],
                    [
                      28.221653
                    ],
                    [
                      32.0825
                    ],
                    [
                      33.039153
                    ],
                    [
                      31.8775
                    ],
                    [
                      29.998347
                    ],
                    [
                      30.476653
                    ],
                    [
                      29.349153
                    ],
                    [
                      25.864153
                    ],
                    [
                      28.5975
                    ],
                    [
                      30.715847
                    ],
                    [
                      34.200847
                    ],
                    [
                      31.365
                    ],
                    [
                      33.449153
                    ],
                    [
                      32.048347
                    ],
                    [
                      32.014153
                    ],
                    [
                      32.355847
                    ],
                    [
                      33.9275
                    ],
                    [
                      33.961653
                    ],
                    [
                      35.328347
                    ],
                    [
                      33.7225
                    ],
                    [
                      29.144153
                    ],
                    [
                      29.554153
                    ],
                    [
                      29.383347
                    ],
                    [
                      29.349153
                    ],
                    [
                      29.998347
                    ],
                    [
                      28.836653
                    ],
                    [
                      30.579153
                    ],
                    [
                      31.296653
                    ],
                    [
                      33.551653
                    ],
                    [
                      32.526653
                    ],
                    [
                      31.57
                    ],
                    [
                      27.299153
                    ],
                    [
                      24.429153
                    ],
                    [
                      27.3675
                    ],
                    [
                      30.408347
                    ],
                    [
                      30.784153
                    ],
                    [
                      29.690847
                    ],
                    [
                      31.843347
                    ],
                    [
                      32.048347
                    ],
                    [
                      30.989153
                    ],
                    [
                      29.588347
                    ],
                    [
                      29.964153
                    ],
                    [
                      29.246653
                    ],
                    [
                      29.4175
                    ],
                    [
                      30.8525
                    ],
                    [
                      31.399153
                    ],
                    [
                      32.526653
                    ],
                    [
                      31.535847
                    ],
                    [
                      30.8525
                    ],
                    [
                      30.169153
                    ],
                    [
                      30.75
                    ],
                    [
                      30.989153
                    ],
                    [
                      29.349153
                    ],
                    [
                      28.3925
                    ],
                    [
                      28.734153
                    ],
                    [
                      29.554153
                    ],
                    [
                      29.793347
                    ],
                    [
                      28.973347
                    ],
                    [
                      29.485847
                    ],
                    [
                      29.656653
                    ],
                    [
                      27.811653
                    ],
                    [
                      26.069153
                    ],
                    [
                      26.069153
                    ],
                    [
                      26.615847
                    ],
                    [
                      27.3675
                    ],
                    [
                      28.529153
                    ],
                    [
                      28.8025
                    ],
                    [
                      27.128347
                    ],
                    [
                      26.786653
                    ],
                    [
                      28.836653
                    ],
                    [
                      29.861653
                    ],
                    [
                      28.085
                    ],
                    [
                      28.973347
                    ],
                    [
                      31.330847
                    ],
                    [
                      30.886653
                    ],
                    [
                      28.563347
                    ],
                    [
                      29.0075
                    ],
                    [
                      29.759153
                    ],
                    [
                      30.203347
                    ],
                    [
                      28.563347
                    ],
                    [
                      28.836653
                    ],
                    [
                      27.025847
                    ],
                    [
                      25.01
                    ],
                    [
                      23.916653
                    ],
                    [
                      23.6775
                    ],
                    [
                      24.565847
                    ],
                    [
                      25.1125
                    ],
                    [
                      25.966653
                    ],
                    [
                      24.941653
                    ],
                    [
                      23.78
                    ],
                    [
                      23.814153
                    ],
                    [
                      25.556653
                    ],
                    [
                      22.6525
                    ],
                    [
                      22.413347
                    ],
                    [
                      24.565847
                    ],
                    [
                      26.65
                    ],
                    [
                      21.695847
                    ],
                    [
                      21.080847
                    ],
                    [
                      22.55
                    ],
                    [
                      26.035
                    ],
                    [
                      26.65
                    ],
                    [
                      25.385847
                    ],
                    [
                      22.2425
                    ],
                    [
                      21.593347
                    ],
                    [
                      21.354153
                    ],
                    [
                      24.224153
                    ],
                    [
                      26.9575
                    ],
                    [
                      26.9575
                    ],
                    [
                      25.215
                    ],
                    [
                      22.720847
                    ],
                    [
                      17.049153
                    ],
                    [
                      15.716653
                    ],
                    [
                      18.313347
                    ],
                    [
                      21.080847
                    ],
                    [
                      17.835
                    ],
                    [
                      17.9375
                    ],
                    [
                      16.126653
                    ],
                    [
                      21.388347
                    ],
                    [
                      23.028347
                    ],
                    [
                      19.201653
                    ],
                    [
                      18.689153
                    ],
                    [
                      21.4225
                    ],
                    [
                      23.096653
                    ],
                    [
                      19.850847
                    ],
                    [
                      19.030847
                    ],
                    [
                      19.9875
                    ],
                    [
                      22.310847
                    ],
                    [
                      24.0875
                    ],
                    [
                      22.55
                    ],
                    [
                      22.379153
                    ],
                    [
                      21.73
                    ],
                    [
                      19.5775
                    ],
                    [
                      18.04
                    ],
                    [
                      13.045462
                    ],
                    [
                      14.6575
                    ],
                    [
                      14.999153
                    ],
                    [
                      14.555
                    ],
                    [
                      14.076653
                    ],
                    [
                      13.359153
                    ],
                    [
                      13.085847
                    ],
                    [
                      11.514153
                    ],
                    [
                      12.129153
                    ],
                    [
                      14.439134
                    ],
                    [
                      14.828347
                    ],
                    [
                      15.955847
                    ],
                    [
                      17.254153
                    ],
                    [
                      19.885
                    ],
                    [
                      14.076653
                    ],
                    [
                      11.855847
                    ],
                    [
                      13.188347
                    ],
                    [
                      14.145
                    ],
                    [
                      13.325
                    ],
                    [
                      14.0425
                    ],
                    [
                      15.614153
                    ],
                    [
                      15.340847
                    ],
                    [
                      14.486653
                    ],
                    [
                      13.94
                    ],
                    [
                      15.101653
                    ],
                    [
                      11.411653
                    ],
                    [
                      10.079153
                    ],
                    [
                      12.846653
                    ],
                    [
                      11.958347
                    ],
                    [
                      12.163347
                    ],
                    [
                      11.51567
                    ],
                    [
                      12.231653
                    ],
                    [
                      12.231653
                    ],
                    [
                      14.2475
                    ],
                    [
                      18.5525
                    ],
                    [
                      19.509153
                    ],
                    [
                      17.971653
                    ],
                    [
                      10.489153
                    ],
                    [
                      13.154153
                    ],
                    [
                      15.648347
                    ],
                    [
                      15.750847
                    ],
                    [
                      17.869153
                    ],
                    [
                      14.486653
                    ],
                    [
                      12.1975
                    ],
                    [
                      12.129153
                    ],
                    [
                      11.548347
                    ],
                    [
                      13.290847
                    ],
                    [
                      14.8625
                    ],
                    [
                      16.126653
                    ],
                    [
                      16.844153
                    ],
                    [
                      13.6325
                    ],
                    [
                      13.53
                    ],
                    [
                      13.393347
                    ],
                    [
                      10.899153
                    ],
                    [
                      10.079153
                    ],
                    [
                      9.483464
                    ],
                    [
                      11.943464
                    ],
                    [
                      9.976653
                    ],
                    [
                      10.420847
                    ],
                    [
                      10.386653
                    ],
                    [
                      10.386653
                    ],
                    [
                      10.489153
                    ],
                    [
                      8.849153
                    ]
                  ],
                  "hovertemplate": "dteday=%{x}<br>cnt=%{y}<br>temp=%{customdata[0]}<extra></extra>",
                  "legendgroup": "",
                  "line": {
                    "color": "#636efa",
                    "dash": "solid"
                  },
                  "marker": {
                    "symbol": "circle"
                  },
                  "mode": "lines",
                  "name": "",
                  "orientation": "v",
                  "showlegend": false,
                  "type": "scatter",
                  "x": [
                    "2018-01-01T00:00:00",
                    "2018-01-02T00:00:00",
                    "2018-01-03T00:00:00",
                    "2018-01-04T00:00:00",
                    "2018-01-05T00:00:00",
                    "2018-01-06T00:00:00",
                    "2018-01-07T00:00:00",
                    "2018-01-08T00:00:00",
                    "2018-01-09T00:00:00",
                    "2018-01-10T00:00:00",
                    "2018-01-11T00:00:00",
                    "2018-01-12T00:00:00",
                    "2018-01-13T00:00:00",
                    "2018-01-14T00:00:00",
                    "2018-01-15T00:00:00",
                    "2018-01-16T00:00:00",
                    "2018-01-17T00:00:00",
                    "2018-01-18T00:00:00",
                    "2018-01-19T00:00:00",
                    "2018-01-20T00:00:00",
                    "2018-01-21T00:00:00",
                    "2018-01-22T00:00:00",
                    "2018-01-23T00:00:00",
                    "2018-01-24T00:00:00",
                    "2018-01-25T00:00:00",
                    "2018-01-26T00:00:00",
                    "2018-01-27T00:00:00",
                    "2018-01-28T00:00:00",
                    "2018-01-29T00:00:00",
                    "2018-01-30T00:00:00",
                    "2018-01-31T00:00:00",
                    "2018-02-01T00:00:00",
                    "2018-02-02T00:00:00",
                    "2018-02-03T00:00:00",
                    "2018-02-04T00:00:00",
                    "2018-02-05T00:00:00",
                    "2018-02-06T00:00:00",
                    "2018-02-07T00:00:00",
                    "2018-02-08T00:00:00",
                    "2018-02-09T00:00:00",
                    "2018-02-10T00:00:00",
                    "2018-02-11T00:00:00",
                    "2018-02-12T00:00:00",
                    "2018-02-13T00:00:00",
                    "2018-02-14T00:00:00",
                    "2018-02-15T00:00:00",
                    "2018-02-16T00:00:00",
                    "2018-02-17T00:00:00",
                    "2018-02-18T00:00:00",
                    "2018-02-19T00:00:00",
                    "2018-02-20T00:00:00",
                    "2018-02-21T00:00:00",
                    "2018-02-22T00:00:00",
                    "2018-02-23T00:00:00",
                    "2018-02-24T00:00:00",
                    "2018-02-25T00:00:00",
                    "2018-02-26T00:00:00",
                    "2018-02-27T00:00:00",
                    "2018-02-28T00:00:00",
                    "2018-03-01T00:00:00",
                    "2018-03-02T00:00:00",
                    "2018-03-03T00:00:00",
                    "2018-03-04T00:00:00",
                    "2018-03-05T00:00:00",
                    "2018-03-06T00:00:00",
                    "2018-03-07T00:00:00",
                    "2018-03-08T00:00:00",
                    "2018-03-09T00:00:00",
                    "2018-03-10T00:00:00",
                    "2018-03-11T00:00:00",
                    "2018-03-12T00:00:00",
                    "2018-03-13T00:00:00",
                    "2018-03-14T00:00:00",
                    "2018-03-15T00:00:00",
                    "2018-03-16T00:00:00",
                    "2018-03-17T00:00:00",
                    "2018-03-18T00:00:00",
                    "2018-03-19T00:00:00",
                    "2018-03-20T00:00:00",
                    "2018-03-21T00:00:00",
                    "2018-03-22T00:00:00",
                    "2018-03-23T00:00:00",
                    "2018-03-24T00:00:00",
                    "2018-03-25T00:00:00",
                    "2018-03-26T00:00:00",
                    "2018-03-27T00:00:00",
                    "2018-03-28T00:00:00",
                    "2018-03-29T00:00:00",
                    "2018-03-30T00:00:00",
                    "2018-03-31T00:00:00",
                    "2018-04-01T00:00:00",
                    "2018-04-02T00:00:00",
                    "2018-04-03T00:00:00",
                    "2018-04-04T00:00:00",
                    "2018-04-05T00:00:00",
                    "2018-04-06T00:00:00",
                    "2018-04-07T00:00:00",
                    "2018-04-08T00:00:00",
                    "2018-04-09T00:00:00",
                    "2018-04-10T00:00:00",
                    "2018-04-11T00:00:00",
                    "2018-04-12T00:00:00",
                    "2018-04-13T00:00:00",
                    "2018-04-14T00:00:00",
                    "2018-04-15T00:00:00",
                    "2018-04-16T00:00:00",
                    "2018-04-17T00:00:00",
                    "2018-04-18T00:00:00",
                    "2018-04-19T00:00:00",
                    "2018-04-20T00:00:00",
                    "2018-04-21T00:00:00",
                    "2018-04-22T00:00:00",
                    "2018-04-23T00:00:00",
                    "2018-04-24T00:00:00",
                    "2018-04-25T00:00:00",
                    "2018-04-26T00:00:00",
                    "2018-04-27T00:00:00",
                    "2018-04-28T00:00:00",
                    "2018-04-29T00:00:00",
                    "2018-04-30T00:00:00",
                    "2018-05-01T00:00:00",
                    "2018-05-02T00:00:00",
                    "2018-05-03T00:00:00",
                    "2018-05-04T00:00:00",
                    "2018-05-05T00:00:00",
                    "2018-05-06T00:00:00",
                    "2018-05-07T00:00:00",
                    "2018-05-08T00:00:00",
                    "2018-05-09T00:00:00",
                    "2018-05-10T00:00:00",
                    "2018-05-11T00:00:00",
                    "2018-05-12T00:00:00",
                    "2018-05-13T00:00:00",
                    "2018-05-14T00:00:00",
                    "2018-05-15T00:00:00",
                    "2018-05-16T00:00:00",
                    "2018-05-17T00:00:00",
                    "2018-05-18T00:00:00",
                    "2018-05-19T00:00:00",
                    "2018-05-20T00:00:00",
                    "2018-05-21T00:00:00",
                    "2018-05-22T00:00:00",
                    "2018-05-23T00:00:00",
                    "2018-05-24T00:00:00",
                    "2018-05-25T00:00:00",
                    "2018-05-26T00:00:00",
                    "2018-05-27T00:00:00",
                    "2018-05-28T00:00:00",
                    "2018-05-29T00:00:00",
                    "2018-05-30T00:00:00",
                    "2018-05-31T00:00:00",
                    "2018-06-01T00:00:00",
                    "2018-06-02T00:00:00",
                    "2018-06-03T00:00:00",
                    "2018-06-04T00:00:00",
                    "2018-06-05T00:00:00",
                    "2018-06-06T00:00:00",
                    "2018-06-07T00:00:00",
                    "2018-06-08T00:00:00",
                    "2018-06-09T00:00:00",
                    "2018-06-10T00:00:00",
                    "2018-06-11T00:00:00",
                    "2018-06-12T00:00:00",
                    "2018-06-13T00:00:00",
                    "2018-06-14T00:00:00",
                    "2018-06-15T00:00:00",
                    "2018-06-16T00:00:00",
                    "2018-06-17T00:00:00",
                    "2018-06-18T00:00:00",
                    "2018-06-19T00:00:00",
                    "2018-06-20T00:00:00",
                    "2018-06-21T00:00:00",
                    "2018-06-22T00:00:00",
                    "2018-06-23T00:00:00",
                    "2018-06-24T00:00:00",
                    "2018-06-25T00:00:00",
                    "2018-06-26T00:00:00",
                    "2018-06-27T00:00:00",
                    "2018-06-28T00:00:00",
                    "2018-06-29T00:00:00",
                    "2018-06-30T00:00:00",
                    "2018-07-01T00:00:00",
                    "2018-07-02T00:00:00",
                    "2018-07-03T00:00:00",
                    "2018-07-04T00:00:00",
                    "2018-07-05T00:00:00",
                    "2018-07-06T00:00:00",
                    "2018-07-07T00:00:00",
                    "2018-07-08T00:00:00",
                    "2018-07-09T00:00:00",
                    "2018-07-10T00:00:00",
                    "2018-07-11T00:00:00",
                    "2018-07-12T00:00:00",
                    "2018-07-13T00:00:00",
                    "2018-07-14T00:00:00",
                    "2018-07-15T00:00:00",
                    "2018-07-16T00:00:00",
                    "2018-07-17T00:00:00",
                    "2018-07-18T00:00:00",
                    "2018-07-19T00:00:00",
                    "2018-07-20T00:00:00",
                    "2018-07-21T00:00:00",
                    "2018-07-22T00:00:00",
                    "2018-07-23T00:00:00",
                    "2018-07-24T00:00:00",
                    "2018-07-25T00:00:00",
                    "2018-07-26T00:00:00",
                    "2018-07-27T00:00:00",
                    "2018-07-28T00:00:00",
                    "2018-07-29T00:00:00",
                    "2018-07-30T00:00:00",
                    "2018-07-31T00:00:00",
                    "2018-08-01T00:00:00",
                    "2018-08-02T00:00:00",
                    "2018-08-03T00:00:00",
                    "2018-08-04T00:00:00",
                    "2018-08-05T00:00:00",
                    "2018-08-06T00:00:00",
                    "2018-08-07T00:00:00",
                    "2018-08-08T00:00:00",
                    "2018-08-09T00:00:00",
                    "2018-08-10T00:00:00",
                    "2018-08-11T00:00:00",
                    "2018-08-12T00:00:00",
                    "2018-08-13T00:00:00",
                    "2018-08-14T00:00:00",
                    "2018-08-15T00:00:00",
                    "2018-08-16T00:00:00",
                    "2018-08-17T00:00:00",
                    "2018-08-18T00:00:00",
                    "2018-08-19T00:00:00",
                    "2018-08-20T00:00:00",
                    "2018-08-21T00:00:00",
                    "2018-08-22T00:00:00",
                    "2018-08-23T00:00:00",
                    "2018-08-24T00:00:00",
                    "2018-08-25T00:00:00",
                    "2018-08-26T00:00:00",
                    "2018-08-27T00:00:00",
                    "2018-08-28T00:00:00",
                    "2018-08-29T00:00:00",
                    "2018-08-30T00:00:00",
                    "2018-08-31T00:00:00",
                    "2018-09-01T00:00:00",
                    "2018-09-02T00:00:00",
                    "2018-09-03T00:00:00",
                    "2018-09-04T00:00:00",
                    "2018-09-05T00:00:00",
                    "2018-09-06T00:00:00",
                    "2018-09-07T00:00:00",
                    "2018-09-08T00:00:00",
                    "2018-09-09T00:00:00",
                    "2018-09-10T00:00:00",
                    "2018-09-11T00:00:00",
                    "2018-09-12T00:00:00",
                    "2018-09-13T00:00:00",
                    "2018-09-14T00:00:00",
                    "2018-09-15T00:00:00",
                    "2018-09-16T00:00:00",
                    "2018-09-17T00:00:00",
                    "2018-09-18T00:00:00",
                    "2018-09-19T00:00:00",
                    "2018-09-20T00:00:00",
                    "2018-09-21T00:00:00",
                    "2018-09-22T00:00:00",
                    "2018-09-23T00:00:00",
                    "2018-09-24T00:00:00",
                    "2018-09-25T00:00:00",
                    "2018-09-26T00:00:00",
                    "2018-09-27T00:00:00",
                    "2018-09-28T00:00:00",
                    "2018-09-29T00:00:00",
                    "2018-09-30T00:00:00",
                    "2018-10-01T00:00:00",
                    "2018-10-02T00:00:00",
                    "2018-10-03T00:00:00",
                    "2018-10-04T00:00:00",
                    "2018-10-05T00:00:00",
                    "2018-10-06T00:00:00",
                    "2018-10-07T00:00:00",
                    "2018-10-08T00:00:00",
                    "2018-10-09T00:00:00",
                    "2018-10-10T00:00:00",
                    "2018-10-11T00:00:00",
                    "2018-10-12T00:00:00",
                    "2018-10-13T00:00:00",
                    "2018-10-14T00:00:00",
                    "2018-10-15T00:00:00",
                    "2018-10-16T00:00:00",
                    "2018-10-17T00:00:00",
                    "2018-10-18T00:00:00",
                    "2018-10-19T00:00:00",
                    "2018-10-20T00:00:00",
                    "2018-10-21T00:00:00",
                    "2018-10-22T00:00:00",
                    "2018-10-23T00:00:00",
                    "2018-10-24T00:00:00",
                    "2018-10-25T00:00:00",
                    "2018-10-26T00:00:00",
                    "2018-10-27T00:00:00",
                    "2018-10-28T00:00:00",
                    "2018-10-29T00:00:00",
                    "2018-10-30T00:00:00",
                    "2018-10-31T00:00:00",
                    "2018-11-01T00:00:00",
                    "2018-11-02T00:00:00",
                    "2018-11-03T00:00:00",
                    "2018-11-04T00:00:00",
                    "2018-11-05T00:00:00",
                    "2018-11-06T00:00:00",
                    "2018-11-07T00:00:00",
                    "2018-11-08T00:00:00",
                    "2018-11-09T00:00:00",
                    "2018-11-10T00:00:00",
                    "2018-11-11T00:00:00",
                    "2018-11-12T00:00:00",
                    "2018-11-13T00:00:00",
                    "2018-11-14T00:00:00",
                    "2018-11-15T00:00:00",
                    "2018-11-16T00:00:00",
                    "2018-11-17T00:00:00",
                    "2018-11-18T00:00:00",
                    "2018-11-19T00:00:00",
                    "2018-11-20T00:00:00",
                    "2018-11-21T00:00:00",
                    "2018-11-22T00:00:00",
                    "2018-11-23T00:00:00",
                    "2018-11-24T00:00:00",
                    "2018-11-25T00:00:00",
                    "2018-11-26T00:00:00",
                    "2018-11-27T00:00:00",
                    "2018-11-28T00:00:00",
                    "2018-11-29T00:00:00",
                    "2018-11-30T00:00:00",
                    "2018-12-01T00:00:00",
                    "2018-12-02T00:00:00",
                    "2018-12-03T00:00:00",
                    "2018-12-04T00:00:00",
                    "2018-12-05T00:00:00",
                    "2018-12-06T00:00:00",
                    "2018-12-07T00:00:00",
                    "2018-12-08T00:00:00",
                    "2018-12-09T00:00:00",
                    "2018-12-10T00:00:00",
                    "2018-12-11T00:00:00",
                    "2018-12-12T00:00:00",
                    "2018-12-13T00:00:00",
                    "2018-12-14T00:00:00",
                    "2018-12-15T00:00:00",
                    "2018-12-16T00:00:00",
                    "2018-12-17T00:00:00",
                    "2018-12-18T00:00:00",
                    "2018-12-19T00:00:00",
                    "2018-12-20T00:00:00",
                    "2018-12-21T00:00:00",
                    "2018-12-22T00:00:00",
                    "2018-12-23T00:00:00",
                    "2018-12-24T00:00:00",
                    "2018-12-25T00:00:00",
                    "2018-12-26T00:00:00",
                    "2018-12-27T00:00:00",
                    "2018-12-28T00:00:00",
                    "2018-12-29T00:00:00",
                    "2018-12-30T00:00:00",
                    "2018-12-31T00:00:00",
                    "2019-01-01T00:00:00",
                    "2019-01-02T00:00:00",
                    "2019-01-03T00:00:00",
                    "2019-01-04T00:00:00",
                    "2019-01-05T00:00:00",
                    "2019-01-06T00:00:00",
                    "2019-01-07T00:00:00",
                    "2019-01-08T00:00:00",
                    "2019-01-09T00:00:00",
                    "2019-01-10T00:00:00",
                    "2019-01-11T00:00:00",
                    "2019-01-12T00:00:00",
                    "2019-01-13T00:00:00",
                    "2019-01-14T00:00:00",
                    "2019-01-15T00:00:00",
                    "2019-01-16T00:00:00",
                    "2019-01-17T00:00:00",
                    "2019-01-18T00:00:00",
                    "2019-01-19T00:00:00",
                    "2019-01-20T00:00:00",
                    "2019-01-21T00:00:00",
                    "2019-01-22T00:00:00",
                    "2019-01-23T00:00:00",
                    "2019-01-24T00:00:00",
                    "2019-01-25T00:00:00",
                    "2019-01-26T00:00:00",
                    "2019-01-27T00:00:00",
                    "2019-01-28T00:00:00",
                    "2019-01-29T00:00:00",
                    "2019-01-30T00:00:00",
                    "2019-01-31T00:00:00",
                    "2019-02-01T00:00:00",
                    "2019-02-02T00:00:00",
                    "2019-02-03T00:00:00",
                    "2019-02-04T00:00:00",
                    "2019-02-05T00:00:00",
                    "2019-02-06T00:00:00",
                    "2019-02-07T00:00:00",
                    "2019-02-08T00:00:00",
                    "2019-02-09T00:00:00",
                    "2019-02-10T00:00:00",
                    "2019-02-11T00:00:00",
                    "2019-02-12T00:00:00",
                    "2019-02-13T00:00:00",
                    "2019-02-14T00:00:00",
                    "2019-02-15T00:00:00",
                    "2019-02-16T00:00:00",
                    "2019-02-17T00:00:00",
                    "2019-02-18T00:00:00",
                    "2019-02-19T00:00:00",
                    "2019-02-20T00:00:00",
                    "2019-02-21T00:00:00",
                    "2019-02-22T00:00:00",
                    "2019-02-23T00:00:00",
                    "2019-02-24T00:00:00",
                    "2019-02-25T00:00:00",
                    "2019-02-26T00:00:00",
                    "2019-02-27T00:00:00",
                    "2019-02-28T00:00:00",
                    "2019-03-01T00:00:00",
                    "2019-03-02T00:00:00",
                    "2019-03-03T00:00:00",
                    "2019-03-04T00:00:00",
                    "2019-03-05T00:00:00",
                    "2019-03-06T00:00:00",
                    "2019-03-07T00:00:00",
                    "2019-03-08T00:00:00",
                    "2019-03-09T00:00:00",
                    "2019-03-10T00:00:00",
                    "2019-03-11T00:00:00",
                    "2019-03-12T00:00:00",
                    "2019-03-13T00:00:00",
                    "2019-03-14T00:00:00",
                    "2019-03-15T00:00:00",
                    "2019-03-16T00:00:00",
                    "2019-03-17T00:00:00",
                    "2019-03-18T00:00:00",
                    "2019-03-19T00:00:00",
                    "2019-03-20T00:00:00",
                    "2019-03-21T00:00:00",
                    "2019-03-22T00:00:00",
                    "2019-03-23T00:00:00",
                    "2019-03-24T00:00:00",
                    "2019-03-25T00:00:00",
                    "2019-03-26T00:00:00",
                    "2019-03-27T00:00:00",
                    "2019-03-28T00:00:00",
                    "2019-03-29T00:00:00",
                    "2019-03-30T00:00:00",
                    "2019-03-31T00:00:00",
                    "2019-04-01T00:00:00",
                    "2019-04-02T00:00:00",
                    "2019-04-03T00:00:00",
                    "2019-04-04T00:00:00",
                    "2019-04-05T00:00:00",
                    "2019-04-06T00:00:00",
                    "2019-04-07T00:00:00",
                    "2019-04-08T00:00:00",
                    "2019-04-09T00:00:00",
                    "2019-04-10T00:00:00",
                    "2019-04-11T00:00:00",
                    "2019-04-12T00:00:00",
                    "2019-04-13T00:00:00",
                    "2019-04-14T00:00:00",
                    "2019-04-15T00:00:00",
                    "2019-04-16T00:00:00",
                    "2019-04-17T00:00:00",
                    "2019-04-18T00:00:00",
                    "2019-04-19T00:00:00",
                    "2019-04-20T00:00:00",
                    "2019-04-21T00:00:00",
                    "2019-04-22T00:00:00",
                    "2019-04-23T00:00:00",
                    "2019-04-24T00:00:00",
                    "2019-04-25T00:00:00",
                    "2019-04-26T00:00:00",
                    "2019-04-27T00:00:00",
                    "2019-04-28T00:00:00",
                    "2019-04-29T00:00:00",
                    "2019-04-30T00:00:00",
                    "2019-05-01T00:00:00",
                    "2019-05-02T00:00:00",
                    "2019-05-03T00:00:00",
                    "2019-05-04T00:00:00",
                    "2019-05-05T00:00:00",
                    "2019-05-06T00:00:00",
                    "2019-05-07T00:00:00",
                    "2019-05-08T00:00:00",
                    "2019-05-09T00:00:00",
                    "2019-05-10T00:00:00",
                    "2019-05-11T00:00:00",
                    "2019-05-12T00:00:00",
                    "2019-05-13T00:00:00",
                    "2019-05-14T00:00:00",
                    "2019-05-15T00:00:00",
                    "2019-05-16T00:00:00",
                    "2019-05-17T00:00:00",
                    "2019-05-18T00:00:00",
                    "2019-05-19T00:00:00",
                    "2019-05-20T00:00:00",
                    "2019-05-21T00:00:00",
                    "2019-05-22T00:00:00",
                    "2019-05-23T00:00:00",
                    "2019-05-24T00:00:00",
                    "2019-05-25T00:00:00",
                    "2019-05-26T00:00:00",
                    "2019-05-27T00:00:00",
                    "2019-05-28T00:00:00",
                    "2019-05-29T00:00:00",
                    "2019-05-30T00:00:00",
                    "2019-05-31T00:00:00",
                    "2019-06-01T00:00:00",
                    "2019-06-02T00:00:00",
                    "2019-06-03T00:00:00",
                    "2019-06-04T00:00:00",
                    "2019-06-05T00:00:00",
                    "2019-06-06T00:00:00",
                    "2019-06-07T00:00:00",
                    "2019-06-08T00:00:00",
                    "2019-06-09T00:00:00",
                    "2019-06-10T00:00:00",
                    "2019-06-11T00:00:00",
                    "2019-06-12T00:00:00",
                    "2019-06-13T00:00:00",
                    "2019-06-14T00:00:00",
                    "2019-06-15T00:00:00",
                    "2019-06-16T00:00:00",
                    "2019-06-17T00:00:00",
                    "2019-06-18T00:00:00",
                    "2019-06-19T00:00:00",
                    "2019-06-20T00:00:00",
                    "2019-06-21T00:00:00",
                    "2019-06-22T00:00:00",
                    "2019-06-23T00:00:00",
                    "2019-06-24T00:00:00",
                    "2019-06-25T00:00:00",
                    "2019-06-26T00:00:00",
                    "2019-06-27T00:00:00",
                    "2019-06-28T00:00:00",
                    "2019-06-29T00:00:00",
                    "2019-06-30T00:00:00",
                    "2019-07-01T00:00:00",
                    "2019-07-02T00:00:00",
                    "2019-07-03T00:00:00",
                    "2019-07-04T00:00:00",
                    "2019-07-05T00:00:00",
                    "2019-07-06T00:00:00",
                    "2019-07-07T00:00:00",
                    "2019-07-08T00:00:00",
                    "2019-07-09T00:00:00",
                    "2019-07-10T00:00:00",
                    "2019-07-11T00:00:00",
                    "2019-07-12T00:00:00",
                    "2019-07-13T00:00:00",
                    "2019-07-14T00:00:00",
                    "2019-07-15T00:00:00",
                    "2019-07-16T00:00:00",
                    "2019-07-17T00:00:00",
                    "2019-07-18T00:00:00",
                    "2019-07-19T00:00:00",
                    "2019-07-20T00:00:00",
                    "2019-07-21T00:00:00",
                    "2019-07-22T00:00:00",
                    "2019-07-23T00:00:00",
                    "2019-07-24T00:00:00",
                    "2019-07-25T00:00:00",
                    "2019-07-26T00:00:00",
                    "2019-07-27T00:00:00",
                    "2019-07-28T00:00:00",
                    "2019-07-29T00:00:00",
                    "2019-07-30T00:00:00",
                    "2019-07-31T00:00:00",
                    "2019-08-01T00:00:00",
                    "2019-08-02T00:00:00",
                    "2019-08-03T00:00:00",
                    "2019-08-04T00:00:00",
                    "2019-08-05T00:00:00",
                    "2019-08-06T00:00:00",
                    "2019-08-07T00:00:00",
                    "2019-08-08T00:00:00",
                    "2019-08-09T00:00:00",
                    "2019-08-10T00:00:00",
                    "2019-08-11T00:00:00",
                    "2019-08-12T00:00:00",
                    "2019-08-13T00:00:00",
                    "2019-08-14T00:00:00",
                    "2019-08-15T00:00:00",
                    "2019-08-16T00:00:00",
                    "2019-08-17T00:00:00",
                    "2019-08-18T00:00:00",
                    "2019-08-19T00:00:00",
                    "2019-08-20T00:00:00",
                    "2019-08-21T00:00:00",
                    "2019-08-22T00:00:00",
                    "2019-08-23T00:00:00",
                    "2019-08-24T00:00:00",
                    "2019-08-25T00:00:00",
                    "2019-08-26T00:00:00",
                    "2019-08-27T00:00:00",
                    "2019-08-28T00:00:00",
                    "2019-08-29T00:00:00",
                    "2019-08-30T00:00:00",
                    "2019-08-31T00:00:00",
                    "2019-09-01T00:00:00",
                    "2019-09-02T00:00:00",
                    "2019-09-03T00:00:00",
                    "2019-09-04T00:00:00",
                    "2019-09-05T00:00:00",
                    "2019-09-06T00:00:00",
                    "2019-09-07T00:00:00",
                    "2019-09-08T00:00:00",
                    "2019-09-09T00:00:00",
                    "2019-09-10T00:00:00",
                    "2019-09-11T00:00:00",
                    "2019-09-12T00:00:00",
                    "2019-09-13T00:00:00",
                    "2019-09-14T00:00:00",
                    "2019-09-15T00:00:00",
                    "2019-09-16T00:00:00",
                    "2019-09-17T00:00:00",
                    "2019-09-18T00:00:00",
                    "2019-09-19T00:00:00",
                    "2019-09-20T00:00:00",
                    "2019-09-21T00:00:00",
                    "2019-09-22T00:00:00",
                    "2019-09-23T00:00:00",
                    "2019-09-24T00:00:00",
                    "2019-09-25T00:00:00",
                    "2019-09-26T00:00:00",
                    "2019-09-27T00:00:00",
                    "2019-09-28T00:00:00",
                    "2019-09-29T00:00:00",
                    "2019-09-30T00:00:00",
                    "2019-10-01T00:00:00",
                    "2019-10-02T00:00:00",
                    "2019-10-03T00:00:00",
                    "2019-10-04T00:00:00",
                    "2019-10-05T00:00:00",
                    "2019-10-06T00:00:00",
                    "2019-10-07T00:00:00",
                    "2019-10-08T00:00:00",
                    "2019-10-09T00:00:00",
                    "2019-10-10T00:00:00",
                    "2019-10-11T00:00:00",
                    "2019-10-12T00:00:00",
                    "2019-10-13T00:00:00",
                    "2019-10-14T00:00:00",
                    "2019-10-15T00:00:00",
                    "2019-10-16T00:00:00",
                    "2019-10-17T00:00:00",
                    "2019-10-18T00:00:00",
                    "2019-10-19T00:00:00",
                    "2019-10-20T00:00:00",
                    "2019-10-21T00:00:00",
                    "2019-10-22T00:00:00",
                    "2019-10-23T00:00:00",
                    "2019-10-24T00:00:00",
                    "2019-10-25T00:00:00",
                    "2019-10-26T00:00:00",
                    "2019-10-27T00:00:00",
                    "2019-10-28T00:00:00",
                    "2019-10-29T00:00:00",
                    "2019-10-30T00:00:00",
                    "2019-10-31T00:00:00",
                    "2019-11-01T00:00:00",
                    "2019-11-02T00:00:00",
                    "2019-11-03T00:00:00",
                    "2019-11-04T00:00:00",
                    "2019-11-05T00:00:00",
                    "2019-11-06T00:00:00",
                    "2019-11-07T00:00:00",
                    "2019-11-08T00:00:00",
                    "2019-11-09T00:00:00",
                    "2019-11-10T00:00:00",
                    "2019-11-11T00:00:00",
                    "2019-11-12T00:00:00",
                    "2019-11-13T00:00:00",
                    "2019-11-14T00:00:00",
                    "2019-11-15T00:00:00",
                    "2019-11-16T00:00:00",
                    "2019-11-17T00:00:00",
                    "2019-11-18T00:00:00",
                    "2019-11-19T00:00:00",
                    "2019-11-20T00:00:00",
                    "2019-11-21T00:00:00",
                    "2019-11-22T00:00:00",
                    "2019-11-23T00:00:00",
                    "2019-11-24T00:00:00",
                    "2019-11-25T00:00:00",
                    "2019-11-26T00:00:00",
                    "2019-11-27T00:00:00",
                    "2019-11-28T00:00:00",
                    "2019-11-29T00:00:00",
                    "2019-11-30T00:00:00",
                    "2019-12-01T00:00:00",
                    "2019-12-02T00:00:00",
                    "2019-12-03T00:00:00",
                    "2019-12-04T00:00:00",
                    "2019-12-05T00:00:00",
                    "2019-12-06T00:00:00",
                    "2019-12-07T00:00:00",
                    "2019-12-08T00:00:00",
                    "2019-12-09T00:00:00",
                    "2019-12-10T00:00:00",
                    "2019-12-11T00:00:00",
                    "2019-12-12T00:00:00",
                    "2019-12-13T00:00:00",
                    "2019-12-14T00:00:00",
                    "2019-12-15T00:00:00",
                    "2019-12-16T00:00:00",
                    "2019-12-17T00:00:00",
                    "2019-12-18T00:00:00",
                    "2019-12-19T00:00:00",
                    "2019-12-20T00:00:00",
                    "2019-12-21T00:00:00",
                    "2019-12-22T00:00:00",
                    "2019-12-23T00:00:00",
                    "2019-12-24T00:00:00",
                    "2019-12-25T00:00:00",
                    "2019-12-26T00:00:00",
                    "2019-12-27T00:00:00",
                    "2019-12-28T00:00:00",
                    "2019-12-29T00:00:00",
                    "2019-12-30T00:00:00",
                    "2019-12-31T00:00:00"
                  ],
                  "xaxis": "x",
                  "y": [
                    985,
                    801,
                    1349,
                    1562,
                    1600,
                    1606,
                    1510,
                    959,
                    822,
                    1321,
                    1263,
                    1162,
                    1406,
                    1421,
                    1248,
                    1204,
                    1000,
                    683,
                    1650,
                    1927,
                    1543,
                    981,
                    986,
                    1416,
                    1985,
                    506,
                    431,
                    1167,
                    1098,
                    1096,
                    1501,
                    1360,
                    1526,
                    1550,
                    1708,
                    1005,
                    1623,
                    1712,
                    1530,
                    1605,
                    1538,
                    1746,
                    1472,
                    1589,
                    1913,
                    1815,
                    2115,
                    2475,
                    2927,
                    1635,
                    1812,
                    1107,
                    1450,
                    1917,
                    1807,
                    1461,
                    1969,
                    2402,
                    1446,
                    1851,
                    2134,
                    1685,
                    1944,
                    2077,
                    605,
                    1872,
                    2133,
                    1891,
                    623,
                    1977,
                    2132,
                    2417,
                    2046,
                    2056,
                    2192,
                    2744,
                    3239,
                    3117,
                    2471,
                    2077,
                    2703,
                    2121,
                    1865,
                    2210,
                    2496,
                    1693,
                    2028,
                    2425,
                    1536,
                    1685,
                    2227,
                    2252,
                    3249,
                    3115,
                    1795,
                    2808,
                    3141,
                    1471,
                    2455,
                    2895,
                    3348,
                    2034,
                    2162,
                    3267,
                    3126,
                    795,
                    3744,
                    3429,
                    3204,
                    3944,
                    4189,
                    1683,
                    4036,
                    4191,
                    4073,
                    4400,
                    3872,
                    4058,
                    4595,
                    5312,
                    3351,
                    4401,
                    4451,
                    2633,
                    4433,
                    4608,
                    4714,
                    4333,
                    4362,
                    4803,
                    4182,
                    4864,
                    4105,
                    3409,
                    4553,
                    3958,
                    4123,
                    3855,
                    4575,
                    4917,
                    5805,
                    4660,
                    4274,
                    4492,
                    4978,
                    4677,
                    4679,
                    4758,
                    4788,
                    4098,
                    3982,
                    3974,
                    4968,
                    5312,
                    5342,
                    4906,
                    4548,
                    4833,
                    4401,
                    3915,
                    4586,
                    4966,
                    4460,
                    5020,
                    4891,
                    5180,
                    3767,
                    4844,
                    5119,
                    4744,
                    4010,
                    4835,
                    4507,
                    4790,
                    4991,
                    5202,
                    5305,
                    4708,
                    4648,
                    5225,
                    5515,
                    5362,
                    5119,
                    4649,
                    6043,
                    4665,
                    4629,
                    4592,
                    4040,
                    5336,
                    4881,
                    4086,
                    4258,
                    4342,
                    5084,
                    5538,
                    5923,
                    5302,
                    4458,
                    4541,
                    4332,
                    3784,
                    3387,
                    3285,
                    3606,
                    3840,
                    4590,
                    4656,
                    4390,
                    3846,
                    4475,
                    4302,
                    4266,
                    4845,
                    3574,
                    4576,
                    4866,
                    4294,
                    3785,
                    4326,
                    4602,
                    4780,
                    4792,
                    4905,
                    4150,
                    3820,
                    4338,
                    4725,
                    4694,
                    3805,
                    4153,
                    5191,
                    3873,
                    4758,
                    5895,
                    5130,
                    3542,
                    4661,
                    1115,
                    4334,
                    4634,
                    5204,
                    5058,
                    5115,
                    4727,
                    4484,
                    4940,
                    3351,
                    2710,
                    1996,
                    1842,
                    3544,
                    5345,
                    5046,
                    4713,
                    4763,
                    4785,
                    3659,
                    4760,
                    4511,
                    4274,
                    4539,
                    3641,
                    4352,
                    4795,
                    2395,
                    5423,
                    5010,
                    4630,
                    4120,
                    3907,
                    4839,
                    5202,
                    2429,
                    2918,
                    3570,
                    4456,
                    4826,
                    4765,
                    4985,
                    5409,
                    5511,
                    5117,
                    4563,
                    2416,
                    2913,
                    3644,
                    5217,
                    5041,
                    4570,
                    4748,
                    2424,
                    4195,
                    4304,
                    4308,
                    4381,
                    4187,
                    4687,
                    3894,
                    2659,
                    3747,
                    627,
                    3331,
                    3669,
                    4068,
                    4186,
                    3974,
                    4046,
                    3926,
                    3649,
                    4035,
                    4205,
                    4109,
                    2933,
                    3368,
                    4067,
                    3717,
                    4486,
                    4195,
                    1817,
                    3053,
                    3392,
                    3663,
                    3520,
                    2765,
                    1607,
                    2566,
                    1495,
                    2792,
                    3068,
                    3071,
                    3867,
                    2914,
                    3613,
                    3727,
                    3940,
                    3614,
                    3485,
                    3811,
                    2594,
                    705,
                    3322,
                    3620,
                    3190,
                    2743,
                    3310,
                    3523,
                    3740,
                    3709,
                    3577,
                    2739,
                    2431,
                    3403,
                    3750,
                    2660,
                    3068,
                    2209,
                    1011,
                    754,
                    1317,
                    1162,
                    2302,
                    2423,
                    2999,
                    2485,
                    2294,
                    1951,
                    2236,
                    2368,
                    3272,
                    4098,
                    4521,
                    3425,
                    2376,
                    3598,
                    2177,
                    4097,
                    3214,
                    2493,
                    2311,
                    2298,
                    2935,
                    3376,
                    3292,
                    3163,
                    1301,
                    1977,
                    2432,
                    4339,
                    4270,
                    4075,
                    3456,
                    4023,
                    3243,
                    3624,
                    4509,
                    4579,
                    3761,
                    4151,
                    2832,
                    2947,
                    3784,
                    4375,
                    2802,
                    3830,
                    3831,
                    2169,
                    1529,
                    3422,
                    3922,
                    4169,
                    3005,
                    4154,
                    4318,
                    2689,
                    3129,
                    3777,
                    4773,
                    5062,
                    3487,
                    2732,
                    3389,
                    4322,
                    4363,
                    4990,
                    3194,
                    4066,
                    3423,
                    3333,
                    3956,
                    4916,
                    5382,
                    4569,
                    4118,
                    4911,
                    5298,
                    5847,
                    6312,
                    6192,
                    4378,
                    7836,
                    5892,
                    6153,
                    6093,
                    6230,
                    6871,
                    8362,
                    3372,
                    4996,
                    5558,
                    5102,
                    5698,
                    6133,
                    5459,
                    6235,
                    6041,
                    5936,
                    6772,
                    6436,
                    6457,
                    6460,
                    6857,
                    5169,
                    5585,
                    5918,
                    4862,
                    5409,
                    6398,
                    7460,
                    7132,
                    6370,
                    6691,
                    4367,
                    6565,
                    7290,
                    6624,
                    1027,
                    3214,
                    5633,
                    6196,
                    5026,
                    6233,
                    4220,
                    6304,
                    5572,
                    5740,
                    6169,
                    6421,
                    6296,
                    6883,
                    6359,
                    6273,
                    5728,
                    4717,
                    6572,
                    7030,
                    7429,
                    6118,
                    2843,
                    5115,
                    7424,
                    7384,
                    7639,
                    8294,
                    7129,
                    4359,
                    6073,
                    5260,
                    6770,
                    6734,
                    6536,
                    6591,
                    6043,
                    5743,
                    6855,
                    7338,
                    4127,
                    8120,
                    7641,
                    6998,
                    7001,
                    7055,
                    7494,
                    7736,
                    7498,
                    6598,
                    6664,
                    4972,
                    7421,
                    7363,
                    7665,
                    7702,
                    6978,
                    5099,
                    6825,
                    6211,
                    5905,
                    5823,
                    7458,
                    6891,
                    6779,
                    7442,
                    7335,
                    6879,
                    5463,
                    5687,
                    5531,
                    6227,
                    6660,
                    7403,
                    6241,
                    6207,
                    4840,
                    4672,
                    6569,
                    6290,
                    7264,
                    7446,
                    7499,
                    6969,
                    6031,
                    6830,
                    6786,
                    5713,
                    6591,
                    5870,
                    4459,
                    7410,
                    6966,
                    7592,
                    8173,
                    6861,
                    6904,
                    6685,
                    6597,
                    7105,
                    7216,
                    7580,
                    7261,
                    7175,
                    6824,
                    5464,
                    7013,
                    7273,
                    7534,
                    7286,
                    5786,
                    6299,
                    6544,
                    6883,
                    6784,
                    7347,
                    7605,
                    7148,
                    7865,
                    4549,
                    6530,
                    7006,
                    7375,
                    7765,
                    7582,
                    6053,
                    5255,
                    6917,
                    7040,
                    7697,
                    7713,
                    7350,
                    6140,
                    5810,
                    6034,
                    6864,
                    7112,
                    6203,
                    7504,
                    5976,
                    8227,
                    7525,
                    7767,
                    7870,
                    7804,
                    8009,
                    8714,
                    7333,
                    6869,
                    4073,
                    7591,
                    7720,
                    8167,
                    8395,
                    7907,
                    7436,
                    7538,
                    7733,
                    7393,
                    7415,
                    8555,
                    6889,
                    6778,
                    4639,
                    7572,
                    7328,
                    8156,
                    7965,
                    3510,
                    5478,
                    6392,
                    7691,
                    7570,
                    7282,
                    7109,
                    6639,
                    5875,
                    7534,
                    7461,
                    7509,
                    5424,
                    8090,
                    6824,
                    7058,
                    7466,
                    7693,
                    7359,
                    7444,
                    7852,
                    4459,
                    22,
                    1096,
                    5566,
                    5986,
                    5847,
                    5138,
                    5107,
                    5259,
                    5686,
                    5035,
                    5315,
                    5992,
                    6536,
                    6852,
                    6269,
                    4094,
                    5495,
                    5445,
                    5698,
                    5629,
                    4669,
                    5499,
                    5634,
                    5146,
                    2425,
                    3910,
                    2277,
                    2424,
                    5087,
                    3959,
                    5260,
                    5323,
                    5668,
                    5191,
                    4649,
                    6234,
                    6606,
                    5729,
                    5375,
                    5008,
                    5582,
                    3228,
                    5170,
                    5501,
                    5319,
                    5532,
                    5611,
                    5047,
                    3786,
                    4585,
                    5557,
                    5267,
                    4128,
                    3623,
                    1749,
                    1787,
                    920,
                    1013,
                    441,
                    2114,
                    3095,
                    1341,
                    1796,
                    2729
                  ],
                  "yaxis": "y"
                }
              ],
              "layout": {
                "legend": {
                  "tracegroupgap": 0
                },
                "template": {
                  "data": {
                    "bar": [
                      {
                        "error_x": {
                          "color": "#2a3f5f"
                        },
                        "error_y": {
                          "color": "#2a3f5f"
                        },
                        "marker": {
                          "line": {
                            "color": "#E5ECF6",
                            "width": 0.5
                          },
                          "pattern": {
                            "fillmode": "overlay",
                            "size": 10,
                            "solidity": 0.2
                          }
                        },
                        "type": "bar"
                      }
                    ],
                    "barpolar": [
                      {
                        "marker": {
                          "line": {
                            "color": "#E5ECF6",
                            "width": 0.5
                          },
                          "pattern": {
                            "fillmode": "overlay",
                            "size": 10,
                            "solidity": 0.2
                          }
                        },
                        "type": "barpolar"
                      }
                    ],
                    "carpet": [
                      {
                        "aaxis": {
                          "endlinecolor": "#2a3f5f",
                          "gridcolor": "white",
                          "linecolor": "white",
                          "minorgridcolor": "white",
                          "startlinecolor": "#2a3f5f"
                        },
                        "baxis": {
                          "endlinecolor": "#2a3f5f",
                          "gridcolor": "white",
                          "linecolor": "white",
                          "minorgridcolor": "white",
                          "startlinecolor": "#2a3f5f"
                        },
                        "type": "carpet"
                      }
                    ],
                    "choropleth": [
                      {
                        "colorbar": {
                          "outlinewidth": 0,
                          "ticks": ""
                        },
                        "type": "choropleth"
                      }
                    ],
                    "contour": [
                      {
                        "colorbar": {
                          "outlinewidth": 0,
                          "ticks": ""
                        },
                        "colorscale": [
                          [
                            0,
                            "#0d0887"
                          ],
                          [
                            0.1111111111111111,
                            "#46039f"
                          ],
                          [
                            0.2222222222222222,
                            "#7201a8"
                          ],
                          [
                            0.3333333333333333,
                            "#9c179e"
                          ],
                          [
                            0.4444444444444444,
                            "#bd3786"
                          ],
                          [
                            0.5555555555555556,
                            "#d8576b"
                          ],
                          [
                            0.6666666666666666,
                            "#ed7953"
                          ],
                          [
                            0.7777777777777778,
                            "#fb9f3a"
                          ],
                          [
                            0.8888888888888888,
                            "#fdca26"
                          ],
                          [
                            1,
                            "#f0f921"
                          ]
                        ],
                        "type": "contour"
                      }
                    ],
                    "contourcarpet": [
                      {
                        "colorbar": {
                          "outlinewidth": 0,
                          "ticks": ""
                        },
                        "type": "contourcarpet"
                      }
                    ],
                    "heatmap": [
                      {
                        "colorbar": {
                          "outlinewidth": 0,
                          "ticks": ""
                        },
                        "colorscale": [
                          [
                            0,
                            "#0d0887"
                          ],
                          [
                            0.1111111111111111,
                            "#46039f"
                          ],
                          [
                            0.2222222222222222,
                            "#7201a8"
                          ],
                          [
                            0.3333333333333333,
                            "#9c179e"
                          ],
                          [
                            0.4444444444444444,
                            "#bd3786"
                          ],
                          [
                            0.5555555555555556,
                            "#d8576b"
                          ],
                          [
                            0.6666666666666666,
                            "#ed7953"
                          ],
                          [
                            0.7777777777777778,
                            "#fb9f3a"
                          ],
                          [
                            0.8888888888888888,
                            "#fdca26"
                          ],
                          [
                            1,
                            "#f0f921"
                          ]
                        ],
                        "type": "heatmap"
                      }
                    ],
                    "heatmapgl": [
                      {
                        "colorbar": {
                          "outlinewidth": 0,
                          "ticks": ""
                        },
                        "colorscale": [
                          [
                            0,
                            "#0d0887"
                          ],
                          [
                            0.1111111111111111,
                            "#46039f"
                          ],
                          [
                            0.2222222222222222,
                            "#7201a8"
                          ],
                          [
                            0.3333333333333333,
                            "#9c179e"
                          ],
                          [
                            0.4444444444444444,
                            "#bd3786"
                          ],
                          [
                            0.5555555555555556,
                            "#d8576b"
                          ],
                          [
                            0.6666666666666666,
                            "#ed7953"
                          ],
                          [
                            0.7777777777777778,
                            "#fb9f3a"
                          ],
                          [
                            0.8888888888888888,
                            "#fdca26"
                          ],
                          [
                            1,
                            "#f0f921"
                          ]
                        ],
                        "type": "heatmapgl"
                      }
                    ],
                    "histogram": [
                      {
                        "marker": {
                          "pattern": {
                            "fillmode": "overlay",
                            "size": 10,
                            "solidity": 0.2
                          }
                        },
                        "type": "histogram"
                      }
                    ],
                    "histogram2d": [
                      {
                        "colorbar": {
                          "outlinewidth": 0,
                          "ticks": ""
                        },
                        "colorscale": [
                          [
                            0,
                            "#0d0887"
                          ],
                          [
                            0.1111111111111111,
                            "#46039f"
                          ],
                          [
                            0.2222222222222222,
                            "#7201a8"
                          ],
                          [
                            0.3333333333333333,
                            "#9c179e"
                          ],
                          [
                            0.4444444444444444,
                            "#bd3786"
                          ],
                          [
                            0.5555555555555556,
                            "#d8576b"
                          ],
                          [
                            0.6666666666666666,
                            "#ed7953"
                          ],
                          [
                            0.7777777777777778,
                            "#fb9f3a"
                          ],
                          [
                            0.8888888888888888,
                            "#fdca26"
                          ],
                          [
                            1,
                            "#f0f921"
                          ]
                        ],
                        "type": "histogram2d"
                      }
                    ],
                    "histogram2dcontour": [
                      {
                        "colorbar": {
                          "outlinewidth": 0,
                          "ticks": ""
                        },
                        "colorscale": [
                          [
                            0,
                            "#0d0887"
                          ],
                          [
                            0.1111111111111111,
                            "#46039f"
                          ],
                          [
                            0.2222222222222222,
                            "#7201a8"
                          ],
                          [
                            0.3333333333333333,
                            "#9c179e"
                          ],
                          [
                            0.4444444444444444,
                            "#bd3786"
                          ],
                          [
                            0.5555555555555556,
                            "#d8576b"
                          ],
                          [
                            0.6666666666666666,
                            "#ed7953"
                          ],
                          [
                            0.7777777777777778,
                            "#fb9f3a"
                          ],
                          [
                            0.8888888888888888,
                            "#fdca26"
                          ],
                          [
                            1,
                            "#f0f921"
                          ]
                        ],
                        "type": "histogram2dcontour"
                      }
                    ],
                    "mesh3d": [
                      {
                        "colorbar": {
                          "outlinewidth": 0,
                          "ticks": ""
                        },
                        "type": "mesh3d"
                      }
                    ],
                    "parcoords": [
                      {
                        "line": {
                          "colorbar": {
                            "outlinewidth": 0,
                            "ticks": ""
                          }
                        },
                        "type": "parcoords"
                      }
                    ],
                    "pie": [
                      {
                        "automargin": true,
                        "type": "pie"
                      }
                    ],
                    "scatter": [
                      {
                        "marker": {
                          "colorbar": {
                            "outlinewidth": 0,
                            "ticks": ""
                          }
                        },
                        "type": "scatter"
                      }
                    ],
                    "scatter3d": [
                      {
                        "line": {
                          "colorbar": {
                            "outlinewidth": 0,
                            "ticks": ""
                          }
                        },
                        "marker": {
                          "colorbar": {
                            "outlinewidth": 0,
                            "ticks": ""
                          }
                        },
                        "type": "scatter3d"
                      }
                    ],
                    "scattercarpet": [
                      {
                        "marker": {
                          "colorbar": {
                            "outlinewidth": 0,
                            "ticks": ""
                          }
                        },
                        "type": "scattercarpet"
                      }
                    ],
                    "scattergeo": [
                      {
                        "marker": {
                          "colorbar": {
                            "outlinewidth": 0,
                            "ticks": ""
                          }
                        },
                        "type": "scattergeo"
                      }
                    ],
                    "scattergl": [
                      {
                        "marker": {
                          "colorbar": {
                            "outlinewidth": 0,
                            "ticks": ""
                          }
                        },
                        "type": "scattergl"
                      }
                    ],
                    "scattermapbox": [
                      {
                        "marker": {
                          "colorbar": {
                            "outlinewidth": 0,
                            "ticks": ""
                          }
                        },
                        "type": "scattermapbox"
                      }
                    ],
                    "scatterpolar": [
                      {
                        "marker": {
                          "colorbar": {
                            "outlinewidth": 0,
                            "ticks": ""
                          }
                        },
                        "type": "scatterpolar"
                      }
                    ],
                    "scatterpolargl": [
                      {
                        "marker": {
                          "colorbar": {
                            "outlinewidth": 0,
                            "ticks": ""
                          }
                        },
                        "type": "scatterpolargl"
                      }
                    ],
                    "scatterternary": [
                      {
                        "marker": {
                          "colorbar": {
                            "outlinewidth": 0,
                            "ticks": ""
                          }
                        },
                        "type": "scatterternary"
                      }
                    ],
                    "surface": [
                      {
                        "colorbar": {
                          "outlinewidth": 0,
                          "ticks": ""
                        },
                        "colorscale": [
                          [
                            0,
                            "#0d0887"
                          ],
                          [
                            0.1111111111111111,
                            "#46039f"
                          ],
                          [
                            0.2222222222222222,
                            "#7201a8"
                          ],
                          [
                            0.3333333333333333,
                            "#9c179e"
                          ],
                          [
                            0.4444444444444444,
                            "#bd3786"
                          ],
                          [
                            0.5555555555555556,
                            "#d8576b"
                          ],
                          [
                            0.6666666666666666,
                            "#ed7953"
                          ],
                          [
                            0.7777777777777778,
                            "#fb9f3a"
                          ],
                          [
                            0.8888888888888888,
                            "#fdca26"
                          ],
                          [
                            1,
                            "#f0f921"
                          ]
                        ],
                        "type": "surface"
                      }
                    ],
                    "table": [
                      {
                        "cells": {
                          "fill": {
                            "color": "#EBF0F8"
                          },
                          "line": {
                            "color": "white"
                          }
                        },
                        "header": {
                          "fill": {
                            "color": "#C8D4E3"
                          },
                          "line": {
                            "color": "white"
                          }
                        },
                        "type": "table"
                      }
                    ]
                  },
                  "layout": {
                    "annotationdefaults": {
                      "arrowcolor": "#2a3f5f",
                      "arrowhead": 0,
                      "arrowwidth": 1
                    },
                    "autotypenumbers": "strict",
                    "coloraxis": {
                      "colorbar": {
                        "outlinewidth": 0,
                        "ticks": ""
                      }
                    },
                    "colorscale": {
                      "diverging": [
                        [
                          0,
                          "#8e0152"
                        ],
                        [
                          0.1,
                          "#c51b7d"
                        ],
                        [
                          0.2,
                          "#de77ae"
                        ],
                        [
                          0.3,
                          "#f1b6da"
                        ],
                        [
                          0.4,
                          "#fde0ef"
                        ],
                        [
                          0.5,
                          "#f7f7f7"
                        ],
                        [
                          0.6,
                          "#e6f5d0"
                        ],
                        [
                          0.7,
                          "#b8e186"
                        ],
                        [
                          0.8,
                          "#7fbc41"
                        ],
                        [
                          0.9,
                          "#4d9221"
                        ],
                        [
                          1,
                          "#276419"
                        ]
                      ],
                      "sequential": [
                        [
                          0,
                          "#0d0887"
                        ],
                        [
                          0.1111111111111111,
                          "#46039f"
                        ],
                        [
                          0.2222222222222222,
                          "#7201a8"
                        ],
                        [
                          0.3333333333333333,
                          "#9c179e"
                        ],
                        [
                          0.4444444444444444,
                          "#bd3786"
                        ],
                        [
                          0.5555555555555556,
                          "#d8576b"
                        ],
                        [
                          0.6666666666666666,
                          "#ed7953"
                        ],
                        [
                          0.7777777777777778,
                          "#fb9f3a"
                        ],
                        [
                          0.8888888888888888,
                          "#fdca26"
                        ],
                        [
                          1,
                          "#f0f921"
                        ]
                      ],
                      "sequentialminus": [
                        [
                          0,
                          "#0d0887"
                        ],
                        [
                          0.1111111111111111,
                          "#46039f"
                        ],
                        [
                          0.2222222222222222,
                          "#7201a8"
                        ],
                        [
                          0.3333333333333333,
                          "#9c179e"
                        ],
                        [
                          0.4444444444444444,
                          "#bd3786"
                        ],
                        [
                          0.5555555555555556,
                          "#d8576b"
                        ],
                        [
                          0.6666666666666666,
                          "#ed7953"
                        ],
                        [
                          0.7777777777777778,
                          "#fb9f3a"
                        ],
                        [
                          0.8888888888888888,
                          "#fdca26"
                        ],
                        [
                          1,
                          "#f0f921"
                        ]
                      ]
                    },
                    "colorway": [
                      "#636efa",
                      "#EF553B",
                      "#00cc96",
                      "#ab63fa",
                      "#FFA15A",
                      "#19d3f3",
                      "#FF6692",
                      "#B6E880",
                      "#FF97FF",
                      "#FECB52"
                    ],
                    "font": {
                      "color": "#2a3f5f"
                    },
                    "geo": {
                      "bgcolor": "white",
                      "lakecolor": "white",
                      "landcolor": "#E5ECF6",
                      "showlakes": true,
                      "showland": true,
                      "subunitcolor": "white"
                    },
                    "hoverlabel": {
                      "align": "left"
                    },
                    "hovermode": "closest",
                    "mapbox": {
                      "style": "light"
                    },
                    "paper_bgcolor": "white",
                    "plot_bgcolor": "#E5ECF6",
                    "polar": {
                      "angularaxis": {
                        "gridcolor": "white",
                        "linecolor": "white",
                        "ticks": ""
                      },
                      "bgcolor": "#E5ECF6",
                      "radialaxis": {
                        "gridcolor": "white",
                        "linecolor": "white",
                        "ticks": ""
                      }
                    },
                    "scene": {
                      "xaxis": {
                        "backgroundcolor": "#E5ECF6",
                        "gridcolor": "white",
                        "gridwidth": 2,
                        "linecolor": "white",
                        "showbackground": true,
                        "ticks": "",
                        "zerolinecolor": "white"
                      },
                      "yaxis": {
                        "backgroundcolor": "#E5ECF6",
                        "gridcolor": "white",
                        "gridwidth": 2,
                        "linecolor": "white",
                        "showbackground": true,
                        "ticks": "",
                        "zerolinecolor": "white"
                      },
                      "zaxis": {
                        "backgroundcolor": "#E5ECF6",
                        "gridcolor": "white",
                        "gridwidth": 2,
                        "linecolor": "white",
                        "showbackground": true,
                        "ticks": "",
                        "zerolinecolor": "white"
                      }
                    },
                    "shapedefaults": {
                      "line": {
                        "color": "#2a3f5f"
                      }
                    },
                    "ternary": {
                      "aaxis": {
                        "gridcolor": "white",
                        "linecolor": "white",
                        "ticks": ""
                      },
                      "baxis": {
                        "gridcolor": "white",
                        "linecolor": "white",
                        "ticks": ""
                      },
                      "bgcolor": "#E5ECF6",
                      "caxis": {
                        "gridcolor": "white",
                        "linecolor": "white",
                        "ticks": ""
                      }
                    },
                    "title": {
                      "x": 0.05
                    },
                    "xaxis": {
                      "automargin": true,
                      "gridcolor": "white",
                      "linecolor": "white",
                      "ticks": "",
                      "title": {
                        "standoff": 15
                      },
                      "zerolinecolor": "white",
                      "zerolinewidth": 2
                    },
                    "yaxis": {
                      "automargin": true,
                      "gridcolor": "white",
                      "linecolor": "white",
                      "ticks": "",
                      "title": {
                        "standoff": 15
                      },
                      "zerolinecolor": "white",
                      "zerolinewidth": 2
                    }
                  }
                },
                "title": {
                  "text": "B-Bikes"
                },
                "xaxis": {
                  "anchor": "y",
                  "domain": [
                    0,
                    1
                  ],
                  "rangeselector": {
                    "buttons": [
                      {
                        "count": 1,
                        "label": "1y",
                        "step": "year",
                        "stepmode": "backward"
                      },
                      {
                        "count": 2,
                        "label": "3y",
                        "step": "year",
                        "stepmode": "backward"
                      },
                      {
                        "count": 3,
                        "label": "5y",
                        "step": "year",
                        "stepmode": "backward"
                      },
                      {
                        "step": "all"
                      }
                    ]
                  },
                  "rangeslider": {
                    "visible": true
                  },
                  "title": {
                    "text": "dteday"
                  }
                },
                "yaxis": {
                  "anchor": "x",
                  "domain": [
                    0,
                    1
                  ],
                  "title": {
                    "text": "cnt"
                  }
                }
              }
            },
            "text/html": [
              "<div>                            <div id=\"57da21d3-624b-42cd-95da-099ae08f31db\" class=\"plotly-graph-div\" style=\"height:525px; width:100%;\"></div>            <script type=\"text/javascript\">                require([\"plotly\"], function(Plotly) {                    window.PLOTLYENV=window.PLOTLYENV || {};                                    if (document.getElementById(\"57da21d3-624b-42cd-95da-099ae08f31db\")) {                    Plotly.newPlot(                        \"57da21d3-624b-42cd-95da-099ae08f31db\",                        [{\"customdata\":[[14.110847],[14.902598],[8.050924],[8.2],[9.305237],[8.378268],[8.057402],[6.765],[5.671653],[6.184153],[6.932731],[7.081807],[6.765],[6.59567],[9.566653],[9.498347],[7.209153],[8.883347],[11.979134],[10.728347],[7.2775],[2.4243464],[3.9573897],[3.9930433],[9.162598],[8.9175],[7.995],[8.342598],[8.057402],[8.877402],[7.414153],[7.879134],[10.66],[7.665237],[8.663464],[9.566653],[11.719153],[11.138347],[9.054153],[5.526103],[5.918268],[7.752731],[9.1225],[12.977402],[17.015],[10.909567],[13.048701],[17.869153],[21.388347],[16.365847],[11.693897],[12.436653],[7.471102],[9.091299],[12.121732],[14.938268],[11.5825],[14.082598],[16.698193],[10.933347],[13.735],[8.131653],[10.728347],[15.750847],[15.437402],[10.731299],[11.9925],[12.129153],[15.952731],[12.977402],[13.495847],[15.758268],[13.333897],[13.013031],[14.973897],[17.015],[22.14],[19.3725],[13.6325],[17.647835],[18.108347],[14.225237],[11.685],[10.830847],[10.899153],[10.374763],[10.838268],[12.4025],[12.3],[11.001653],[12.3],[12.915],[15.511653],[23.506653],[16.980847],[16.024153],[17.9375],[13.769153],[14.0425],[17.493347],[24.421732],[20.6025],[16.9125],[19.1675],[18.313347],[17.664153],[18.723347],[21.0125],[20.739153],[24.395],[18.825847],[13.803347],[18.86],[23.848347],[24.873347],[25.898347],[25.42],[25.3175],[20.91],[19.3725],[18.518347],[22.515847],[25.283347],[16.980847],[18.825847],[19.645847],[21.32],[21.661653],[21.8325],[21.8325],[22.2425],[21.935],[21.0125],[21.354153],[23.0625],[23.6775],[23.028347],[22.55],[21.764153],[22.003347],[24.7025],[24.770847],[25.898347],[27.06],[27.094153],[29.041653],[27.948347],[26.889153],[27.3675],[30.066653],[31.775],[31.330847],[29.315],[25.42],[26.035],[26.581653],[27.811653],[29.0075],[31.809153],[33.141653],[30.955],[29.725],[28.3925],[26.035],[24.770847],[25.693347],[25.761653],[26.615847],[28.563347],[28.665847],[26.035],[27.914153],[30.066653],[29.861653],[29.690847],[28.495],[27.88],[27.9825],[30.510847],[29.861653],[28.563347],[29.6225],[30.271653],[29.383347],[29.793347],[30.613347],[29.52],[30.75],[29.075847],[30.066653],[30.6475],[31.2625],[32.560847],[30.613347],[27.914153],[27.196653],[28.153347],[29.485847],[30.613347],[31.843347],[31.501653],[33.415],[34.781653],[34.815847],[34.03],[30.476653],[31.638347],[31.775],[31.945847],[34.371653],[32.970847],[33.039153],[31.638347],[32.116653],[29.998347],[29.11],[29.144153],[29.383347],[30.4425],[31.365],[31.775],[31.433347],[29.4175],[29.041653],[28.119153],[27.743347],[27.299153],[28.734153],[29.656653],[29.178347],[28.085],[28.5975],[29.144153],[28.358347],[26.274153],[27.606653],[28.050847],[28.7],[27.88],[28.989419],[26.103347],[26.205847],[26.923347],[26.855],[26.376653],[27.435847],[29.075847],[27.606653],[22.14],[24.565847],[25.990433],[26.65],[27.06],[26.786653],[26.418268],[26.684153],[27.606653],[23.6775],[19.235847],[20.158347],[20.8075],[22.515847],[23.028347],[24.395],[25.761653],[24.975847],[24.873347],[26.000847],[26.615847],[26.103347],[26.035],[25.283347],[23.130847],[16.81],[14.623347],[15.750847],[19.850847],[22.071653],[20.260847],[20.944153],[21.388347],[22.174153],[23.404153],[23.233347],[22.276653],[24.155847],[22.584153],[20.773347],[20.978347],[21.900847],[21.8325],[22.211299],[19.509153],[17.5275],[17.3225],[17.288347],[18.996653],[19.338347],[19.850847],[19.27],[13.564153],[10.420847],[13.085847],[13.94],[16.434153],[15.4775],[16.741653],[16.536653],[13.393347],[14.281653],[16.195],[16.741653],[16.4],[15.58],[13.290847],[14.623347],[18.074153],[21.73],[21.73],[18.723347],[14.008347],[11.240847],[13.495847],[18.996653],[18.3475],[17.083347],[18.074153],[15.306653],[15.375],[15.409153],[18.825847],[20.642598],[18.791653],[13.325],[12.8125],[12.880847],[12.265847],[13.564153],[15.819153],[18.9625],[16.81],[10.899153],[11.924153],[11.275],[9.054153],[9.771653],[11.5825],[13.0175],[17.3225],[15.375],[10.591653],[9.771653],[11.343347],[15.819153],[17.561653],[17.356653],[15.306653],[12.4025],[11.266103],[13.191299],[13.325],[12.26433],[10.181653],[12.778347],[16.81],[15.17],[11.194763],[6.15],[4.4075],[10.899153],[13.700847],[16.126653],[13.8375],[9.190847],[12.656536],[11.240847],[15.6825],[11.240847],[7.38],[6.833347],[7.79],[15.294763],[12.436653],[7.79],[8.9175],[7.106653],[6.6625],[8.951653],[14.0425],[12.060847],[14.008347],[17.425],[12.949153],[11.5825],[11.035847],[15.99],[19.235847],[16.365847],[12.846653],[10.830847],[10.899153],[11.586969],[14.520847],[10.523347],[10.865],[11.514153],[9.190847],[5.2275],[9.1225],[13.085847],[14.281653],[12.983347],[14.076653],[14.213347],[11.48],[11.48],[11.800866],[16.229153],[18.620847],[16.7075],[11.924153],[11.445847],[15.033347],[14.725847],[19.919153],[14.486653],[16.980847],[13.359153],[9.976653],[10.591653],[16.570847],[21.6275],[16.844153],[11.7875],[14.831299],[19.133347],[23.165],[23.4725],[22.8575],[17.869153],[21.080847],[19.3725],[22.345],[22.994153],[21.798347],[22.720847],[24.668347],[20.6025],[17.9375],[18.279153],[13.256653],[19.850847],[20.260847],[15.17],[17.390847],[17.459153],[17.790433],[19.133347],[22.208347],[17.835],[16.536653],[17.9375],[20.5],[20.055847],[18.313347],[14.296536],[16.2975],[18.1425],[20.295],[24.873347],[27.230847],[24.941653],[18.996653],[20.431653],[21.593347],[23.37],[16.263347],[13.188347],[16.946653],[19.543347],[20.431653],[18.7575],[15.443347],[18.791653],[19.030847],[25.146653],[23.130847],[22.96],[25.7275],[25.488347],[23.0625],[22.0375],[23.848347],[23.575],[20.739153],[21.866653],[23.130847],[25.1125],[23.506653],[25.078347],[26.103347],[24.326653],[23.130847],[24.6],[25.454153],[24.531653],[25.215],[25.488347],[26.855],[27.88],[28.3925],[28.29],[29.2125],[29.6225],[26.923347],[27.88],[26.820847],[23.916653],[24.7025],[24.4975],[22.174153],[22.720847],[24.7025],[26.615847],[29.144153],[29.793347],[29.554153],[26.786653],[26.889153],[26.581653],[26.205847],[25.898347],[24.2925],[23.301653],[28.221653],[32.0825],[33.039153],[31.8775],[29.998347],[30.476653],[29.349153],[25.864153],[28.5975],[30.715847],[34.200847],[31.365],[33.449153],[32.048347],[32.014153],[32.355847],[33.9275],[33.961653],[35.328347],[33.7225],[29.144153],[29.554153],[29.383347],[29.349153],[29.998347],[28.836653],[30.579153],[31.296653],[33.551653],[32.526653],[31.57],[27.299153],[24.429153],[27.3675],[30.408347],[30.784153],[29.690847],[31.843347],[32.048347],[30.989153],[29.588347],[29.964153],[29.246653],[29.4175],[30.8525],[31.399153],[32.526653],[31.535847],[30.8525],[30.169153],[30.75],[30.989153],[29.349153],[28.3925],[28.734153],[29.554153],[29.793347],[28.973347],[29.485847],[29.656653],[27.811653],[26.069153],[26.069153],[26.615847],[27.3675],[28.529153],[28.8025],[27.128347],[26.786653],[28.836653],[29.861653],[28.085],[28.973347],[31.330847],[30.886653],[28.563347],[29.0075],[29.759153],[30.203347],[28.563347],[28.836653],[27.025847],[25.01],[23.916653],[23.6775],[24.565847],[25.1125],[25.966653],[24.941653],[23.78],[23.814153],[25.556653],[22.6525],[22.413347],[24.565847],[26.65],[21.695847],[21.080847],[22.55],[26.035],[26.65],[25.385847],[22.2425],[21.593347],[21.354153],[24.224153],[26.9575],[26.9575],[25.215],[22.720847],[17.049153],[15.716653],[18.313347],[21.080847],[17.835],[17.9375],[16.126653],[21.388347],[23.028347],[19.201653],[18.689153],[21.4225],[23.096653],[19.850847],[19.030847],[19.9875],[22.310847],[24.0875],[22.55],[22.379153],[21.73],[19.5775],[18.04],[13.045462],[14.6575],[14.999153],[14.555],[14.076653],[13.359153],[13.085847],[11.514153],[12.129153],[14.439134],[14.828347],[15.955847],[17.254153],[19.885],[14.076653],[11.855847],[13.188347],[14.145],[13.325],[14.0425],[15.614153],[15.340847],[14.486653],[13.94],[15.101653],[11.411653],[10.079153],[12.846653],[11.958347],[12.163347],[11.51567],[12.231653],[12.231653],[14.2475],[18.5525],[19.509153],[17.971653],[10.489153],[13.154153],[15.648347],[15.750847],[17.869153],[14.486653],[12.1975],[12.129153],[11.548347],[13.290847],[14.8625],[16.126653],[16.844153],[13.6325],[13.53],[13.393347],[10.899153],[10.079153],[9.483464],[11.943464],[9.976653],[10.420847],[10.386653],[10.386653],[10.489153],[8.849153]],\"hovertemplate\":\"dteday=%{x}<br>cnt=%{y}<br>temp=%{customdata[0]}<extra></extra>\",\"legendgroup\":\"\",\"line\":{\"color\":\"#636efa\",\"dash\":\"solid\"},\"marker\":{\"symbol\":\"circle\"},\"mode\":\"lines\",\"name\":\"\",\"orientation\":\"v\",\"showlegend\":false,\"x\":[\"2018-01-01T00:00:00\",\"2018-01-02T00:00:00\",\"2018-01-03T00:00:00\",\"2018-01-04T00:00:00\",\"2018-01-05T00:00:00\",\"2018-01-06T00:00:00\",\"2018-01-07T00:00:00\",\"2018-01-08T00:00:00\",\"2018-01-09T00:00:00\",\"2018-01-10T00:00:00\",\"2018-01-11T00:00:00\",\"2018-01-12T00:00:00\",\"2018-01-13T00:00:00\",\"2018-01-14T00:00:00\",\"2018-01-15T00:00:00\",\"2018-01-16T00:00:00\",\"2018-01-17T00:00:00\",\"2018-01-18T00:00:00\",\"2018-01-19T00:00:00\",\"2018-01-20T00:00:00\",\"2018-01-21T00:00:00\",\"2018-01-22T00:00:00\",\"2018-01-23T00:00:00\",\"2018-01-24T00:00:00\",\"2018-01-25T00:00:00\",\"2018-01-26T00:00:00\",\"2018-01-27T00:00:00\",\"2018-01-28T00:00:00\",\"2018-01-29T00:00:00\",\"2018-01-30T00:00:00\",\"2018-01-31T00:00:00\",\"2018-02-01T00:00:00\",\"2018-02-02T00:00:00\",\"2018-02-03T00:00:00\",\"2018-02-04T00:00:00\",\"2018-02-05T00:00:00\",\"2018-02-06T00:00:00\",\"2018-02-07T00:00:00\",\"2018-02-08T00:00:00\",\"2018-02-09T00:00:00\",\"2018-02-10T00:00:00\",\"2018-02-11T00:00:00\",\"2018-02-12T00:00:00\",\"2018-02-13T00:00:00\",\"2018-02-14T00:00:00\",\"2018-02-15T00:00:00\",\"2018-02-16T00:00:00\",\"2018-02-17T00:00:00\",\"2018-02-18T00:00:00\",\"2018-02-19T00:00:00\",\"2018-02-20T00:00:00\",\"2018-02-21T00:00:00\",\"2018-02-22T00:00:00\",\"2018-02-23T00:00:00\",\"2018-02-24T00:00:00\",\"2018-02-25T00:00:00\",\"2018-02-26T00:00:00\",\"2018-02-27T00:00:00\",\"2018-02-28T00:00:00\",\"2018-03-01T00:00:00\",\"2018-03-02T00:00:00\",\"2018-03-03T00:00:00\",\"2018-03-04T00:00:00\",\"2018-03-05T00:00:00\",\"2018-03-06T00:00:00\",\"2018-03-07T00:00:00\",\"2018-03-08T00:00:00\",\"2018-03-09T00:00:00\",\"2018-03-10T00:00:00\",\"2018-03-11T00:00:00\",\"2018-03-12T00:00:00\",\"2018-03-13T00:00:00\",\"2018-03-14T00:00:00\",\"2018-03-15T00:00:00\",\"2018-03-16T00:00:00\",\"2018-03-17T00:00:00\",\"2018-03-18T00:00:00\",\"2018-03-19T00:00:00\",\"2018-03-20T00:00:00\",\"2018-03-21T00:00:00\",\"2018-03-22T00:00:00\",\"2018-03-23T00:00:00\",\"2018-03-24T00:00:00\",\"2018-03-25T00:00:00\",\"2018-03-26T00:00:00\",\"2018-03-27T00:00:00\",\"2018-03-28T00:00:00\",\"2018-03-29T00:00:00\",\"2018-03-30T00:00:00\",\"2018-03-31T00:00:00\",\"2018-04-01T00:00:00\",\"2018-04-02T00:00:00\",\"2018-04-03T00:00:00\",\"2018-04-04T00:00:00\",\"2018-04-05T00:00:00\",\"2018-04-06T00:00:00\",\"2018-04-07T00:00:00\",\"2018-04-08T00:00:00\",\"2018-04-09T00:00:00\",\"2018-04-10T00:00:00\",\"2018-04-11T00:00:00\",\"2018-04-12T00:00:00\",\"2018-04-13T00:00:00\",\"2018-04-14T00:00:00\",\"2018-04-15T00:00:00\",\"2018-04-16T00:00:00\",\"2018-04-17T00:00:00\",\"2018-04-18T00:00:00\",\"2018-04-19T00:00:00\",\"2018-04-20T00:00:00\",\"2018-04-21T00:00:00\",\"2018-04-22T00:00:00\",\"2018-04-23T00:00:00\",\"2018-04-24T00:00:00\",\"2018-04-25T00:00:00\",\"2018-04-26T00:00:00\",\"2018-04-27T00:00:00\",\"2018-04-28T00:00:00\",\"2018-04-29T00:00:00\",\"2018-04-30T00:00:00\",\"2018-05-01T00:00:00\",\"2018-05-02T00:00:00\",\"2018-05-03T00:00:00\",\"2018-05-04T00:00:00\",\"2018-05-05T00:00:00\",\"2018-05-06T00:00:00\",\"2018-05-07T00:00:00\",\"2018-05-08T00:00:00\",\"2018-05-09T00:00:00\",\"2018-05-10T00:00:00\",\"2018-05-11T00:00:00\",\"2018-05-12T00:00:00\",\"2018-05-13T00:00:00\",\"2018-05-14T00:00:00\",\"2018-05-15T00:00:00\",\"2018-05-16T00:00:00\",\"2018-05-17T00:00:00\",\"2018-05-18T00:00:00\",\"2018-05-19T00:00:00\",\"2018-05-20T00:00:00\",\"2018-05-21T00:00:00\",\"2018-05-22T00:00:00\",\"2018-05-23T00:00:00\",\"2018-05-24T00:00:00\",\"2018-05-25T00:00:00\",\"2018-05-26T00:00:00\",\"2018-05-27T00:00:00\",\"2018-05-28T00:00:00\",\"2018-05-29T00:00:00\",\"2018-05-30T00:00:00\",\"2018-05-31T00:00:00\",\"2018-06-01T00:00:00\",\"2018-06-02T00:00:00\",\"2018-06-03T00:00:00\",\"2018-06-04T00:00:00\",\"2018-06-05T00:00:00\",\"2018-06-06T00:00:00\",\"2018-06-07T00:00:00\",\"2018-06-08T00:00:00\",\"2018-06-09T00:00:00\",\"2018-06-10T00:00:00\",\"2018-06-11T00:00:00\",\"2018-06-12T00:00:00\",\"2018-06-13T00:00:00\",\"2018-06-14T00:00:00\",\"2018-06-15T00:00:00\",\"2018-06-16T00:00:00\",\"2018-06-17T00:00:00\",\"2018-06-18T00:00:00\",\"2018-06-19T00:00:00\",\"2018-06-20T00:00:00\",\"2018-06-21T00:00:00\",\"2018-06-22T00:00:00\",\"2018-06-23T00:00:00\",\"2018-06-24T00:00:00\",\"2018-06-25T00:00:00\",\"2018-06-26T00:00:00\",\"2018-06-27T00:00:00\",\"2018-06-28T00:00:00\",\"2018-06-29T00:00:00\",\"2018-06-30T00:00:00\",\"2018-07-01T00:00:00\",\"2018-07-02T00:00:00\",\"2018-07-03T00:00:00\",\"2018-07-04T00:00:00\",\"2018-07-05T00:00:00\",\"2018-07-06T00:00:00\",\"2018-07-07T00:00:00\",\"2018-07-08T00:00:00\",\"2018-07-09T00:00:00\",\"2018-07-10T00:00:00\",\"2018-07-11T00:00:00\",\"2018-07-12T00:00:00\",\"2018-07-13T00:00:00\",\"2018-07-14T00:00:00\",\"2018-07-15T00:00:00\",\"2018-07-16T00:00:00\",\"2018-07-17T00:00:00\",\"2018-07-18T00:00:00\",\"2018-07-19T00:00:00\",\"2018-07-20T00:00:00\",\"2018-07-21T00:00:00\",\"2018-07-22T00:00:00\",\"2018-07-23T00:00:00\",\"2018-07-24T00:00:00\",\"2018-07-25T00:00:00\",\"2018-07-26T00:00:00\",\"2018-07-27T00:00:00\",\"2018-07-28T00:00:00\",\"2018-07-29T00:00:00\",\"2018-07-30T00:00:00\",\"2018-07-31T00:00:00\",\"2018-08-01T00:00:00\",\"2018-08-02T00:00:00\",\"2018-08-03T00:00:00\",\"2018-08-04T00:00:00\",\"2018-08-05T00:00:00\",\"2018-08-06T00:00:00\",\"2018-08-07T00:00:00\",\"2018-08-08T00:00:00\",\"2018-08-09T00:00:00\",\"2018-08-10T00:00:00\",\"2018-08-11T00:00:00\",\"2018-08-12T00:00:00\",\"2018-08-13T00:00:00\",\"2018-08-14T00:00:00\",\"2018-08-15T00:00:00\",\"2018-08-16T00:00:00\",\"2018-08-17T00:00:00\",\"2018-08-18T00:00:00\",\"2018-08-19T00:00:00\",\"2018-08-20T00:00:00\",\"2018-08-21T00:00:00\",\"2018-08-22T00:00:00\",\"2018-08-23T00:00:00\",\"2018-08-24T00:00:00\",\"2018-08-25T00:00:00\",\"2018-08-26T00:00:00\",\"2018-08-27T00:00:00\",\"2018-08-28T00:00:00\",\"2018-08-29T00:00:00\",\"2018-08-30T00:00:00\",\"2018-08-31T00:00:00\",\"2018-09-01T00:00:00\",\"2018-09-02T00:00:00\",\"2018-09-03T00:00:00\",\"2018-09-04T00:00:00\",\"2018-09-05T00:00:00\",\"2018-09-06T00:00:00\",\"2018-09-07T00:00:00\",\"2018-09-08T00:00:00\",\"2018-09-09T00:00:00\",\"2018-09-10T00:00:00\",\"2018-09-11T00:00:00\",\"2018-09-12T00:00:00\",\"2018-09-13T00:00:00\",\"2018-09-14T00:00:00\",\"2018-09-15T00:00:00\",\"2018-09-16T00:00:00\",\"2018-09-17T00:00:00\",\"2018-09-18T00:00:00\",\"2018-09-19T00:00:00\",\"2018-09-20T00:00:00\",\"2018-09-21T00:00:00\",\"2018-09-22T00:00:00\",\"2018-09-23T00:00:00\",\"2018-09-24T00:00:00\",\"2018-09-25T00:00:00\",\"2018-09-26T00:00:00\",\"2018-09-27T00:00:00\",\"2018-09-28T00:00:00\",\"2018-09-29T00:00:00\",\"2018-09-30T00:00:00\",\"2018-10-01T00:00:00\",\"2018-10-02T00:00:00\",\"2018-10-03T00:00:00\",\"2018-10-04T00:00:00\",\"2018-10-05T00:00:00\",\"2018-10-06T00:00:00\",\"2018-10-07T00:00:00\",\"2018-10-08T00:00:00\",\"2018-10-09T00:00:00\",\"2018-10-10T00:00:00\",\"2018-10-11T00:00:00\",\"2018-10-12T00:00:00\",\"2018-10-13T00:00:00\",\"2018-10-14T00:00:00\",\"2018-10-15T00:00:00\",\"2018-10-16T00:00:00\",\"2018-10-17T00:00:00\",\"2018-10-18T00:00:00\",\"2018-10-19T00:00:00\",\"2018-10-20T00:00:00\",\"2018-10-21T00:00:00\",\"2018-10-22T00:00:00\",\"2018-10-23T00:00:00\",\"2018-10-24T00:00:00\",\"2018-10-25T00:00:00\",\"2018-10-26T00:00:00\",\"2018-10-27T00:00:00\",\"2018-10-28T00:00:00\",\"2018-10-29T00:00:00\",\"2018-10-30T00:00:00\",\"2018-10-31T00:00:00\",\"2018-11-01T00:00:00\",\"2018-11-02T00:00:00\",\"2018-11-03T00:00:00\",\"2018-11-04T00:00:00\",\"2018-11-05T00:00:00\",\"2018-11-06T00:00:00\",\"2018-11-07T00:00:00\",\"2018-11-08T00:00:00\",\"2018-11-09T00:00:00\",\"2018-11-10T00:00:00\",\"2018-11-11T00:00:00\",\"2018-11-12T00:00:00\",\"2018-11-13T00:00:00\",\"2018-11-14T00:00:00\",\"2018-11-15T00:00:00\",\"2018-11-16T00:00:00\",\"2018-11-17T00:00:00\",\"2018-11-18T00:00:00\",\"2018-11-19T00:00:00\",\"2018-11-20T00:00:00\",\"2018-11-21T00:00:00\",\"2018-11-22T00:00:00\",\"2018-11-23T00:00:00\",\"2018-11-24T00:00:00\",\"2018-11-25T00:00:00\",\"2018-11-26T00:00:00\",\"2018-11-27T00:00:00\",\"2018-11-28T00:00:00\",\"2018-11-29T00:00:00\",\"2018-11-30T00:00:00\",\"2018-12-01T00:00:00\",\"2018-12-02T00:00:00\",\"2018-12-03T00:00:00\",\"2018-12-04T00:00:00\",\"2018-12-05T00:00:00\",\"2018-12-06T00:00:00\",\"2018-12-07T00:00:00\",\"2018-12-08T00:00:00\",\"2018-12-09T00:00:00\",\"2018-12-10T00:00:00\",\"2018-12-11T00:00:00\",\"2018-12-12T00:00:00\",\"2018-12-13T00:00:00\",\"2018-12-14T00:00:00\",\"2018-12-15T00:00:00\",\"2018-12-16T00:00:00\",\"2018-12-17T00:00:00\",\"2018-12-18T00:00:00\",\"2018-12-19T00:00:00\",\"2018-12-20T00:00:00\",\"2018-12-21T00:00:00\",\"2018-12-22T00:00:00\",\"2018-12-23T00:00:00\",\"2018-12-24T00:00:00\",\"2018-12-25T00:00:00\",\"2018-12-26T00:00:00\",\"2018-12-27T00:00:00\",\"2018-12-28T00:00:00\",\"2018-12-29T00:00:00\",\"2018-12-30T00:00:00\",\"2018-12-31T00:00:00\",\"2019-01-01T00:00:00\",\"2019-01-02T00:00:00\",\"2019-01-03T00:00:00\",\"2019-01-04T00:00:00\",\"2019-01-05T00:00:00\",\"2019-01-06T00:00:00\",\"2019-01-07T00:00:00\",\"2019-01-08T00:00:00\",\"2019-01-09T00:00:00\",\"2019-01-10T00:00:00\",\"2019-01-11T00:00:00\",\"2019-01-12T00:00:00\",\"2019-01-13T00:00:00\",\"2019-01-14T00:00:00\",\"2019-01-15T00:00:00\",\"2019-01-16T00:00:00\",\"2019-01-17T00:00:00\",\"2019-01-18T00:00:00\",\"2019-01-19T00:00:00\",\"2019-01-20T00:00:00\",\"2019-01-21T00:00:00\",\"2019-01-22T00:00:00\",\"2019-01-23T00:00:00\",\"2019-01-24T00:00:00\",\"2019-01-25T00:00:00\",\"2019-01-26T00:00:00\",\"2019-01-27T00:00:00\",\"2019-01-28T00:00:00\",\"2019-01-29T00:00:00\",\"2019-01-30T00:00:00\",\"2019-01-31T00:00:00\",\"2019-02-01T00:00:00\",\"2019-02-02T00:00:00\",\"2019-02-03T00:00:00\",\"2019-02-04T00:00:00\",\"2019-02-05T00:00:00\",\"2019-02-06T00:00:00\",\"2019-02-07T00:00:00\",\"2019-02-08T00:00:00\",\"2019-02-09T00:00:00\",\"2019-02-10T00:00:00\",\"2019-02-11T00:00:00\",\"2019-02-12T00:00:00\",\"2019-02-13T00:00:00\",\"2019-02-14T00:00:00\",\"2019-02-15T00:00:00\",\"2019-02-16T00:00:00\",\"2019-02-17T00:00:00\",\"2019-02-18T00:00:00\",\"2019-02-19T00:00:00\",\"2019-02-20T00:00:00\",\"2019-02-21T00:00:00\",\"2019-02-22T00:00:00\",\"2019-02-23T00:00:00\",\"2019-02-24T00:00:00\",\"2019-02-25T00:00:00\",\"2019-02-26T00:00:00\",\"2019-02-27T00:00:00\",\"2019-02-28T00:00:00\",\"2019-03-01T00:00:00\",\"2019-03-02T00:00:00\",\"2019-03-03T00:00:00\",\"2019-03-04T00:00:00\",\"2019-03-05T00:00:00\",\"2019-03-06T00:00:00\",\"2019-03-07T00:00:00\",\"2019-03-08T00:00:00\",\"2019-03-09T00:00:00\",\"2019-03-10T00:00:00\",\"2019-03-11T00:00:00\",\"2019-03-12T00:00:00\",\"2019-03-13T00:00:00\",\"2019-03-14T00:00:00\",\"2019-03-15T00:00:00\",\"2019-03-16T00:00:00\",\"2019-03-17T00:00:00\",\"2019-03-18T00:00:00\",\"2019-03-19T00:00:00\",\"2019-03-20T00:00:00\",\"2019-03-21T00:00:00\",\"2019-03-22T00:00:00\",\"2019-03-23T00:00:00\",\"2019-03-24T00:00:00\",\"2019-03-25T00:00:00\",\"2019-03-26T00:00:00\",\"2019-03-27T00:00:00\",\"2019-03-28T00:00:00\",\"2019-03-29T00:00:00\",\"2019-03-30T00:00:00\",\"2019-03-31T00:00:00\",\"2019-04-01T00:00:00\",\"2019-04-02T00:00:00\",\"2019-04-03T00:00:00\",\"2019-04-04T00:00:00\",\"2019-04-05T00:00:00\",\"2019-04-06T00:00:00\",\"2019-04-07T00:00:00\",\"2019-04-08T00:00:00\",\"2019-04-09T00:00:00\",\"2019-04-10T00:00:00\",\"2019-04-11T00:00:00\",\"2019-04-12T00:00:00\",\"2019-04-13T00:00:00\",\"2019-04-14T00:00:00\",\"2019-04-15T00:00:00\",\"2019-04-16T00:00:00\",\"2019-04-17T00:00:00\",\"2019-04-18T00:00:00\",\"2019-04-19T00:00:00\",\"2019-04-20T00:00:00\",\"2019-04-21T00:00:00\",\"2019-04-22T00:00:00\",\"2019-04-23T00:00:00\",\"2019-04-24T00:00:00\",\"2019-04-25T00:00:00\",\"2019-04-26T00:00:00\",\"2019-04-27T00:00:00\",\"2019-04-28T00:00:00\",\"2019-04-29T00:00:00\",\"2019-04-30T00:00:00\",\"2019-05-01T00:00:00\",\"2019-05-02T00:00:00\",\"2019-05-03T00:00:00\",\"2019-05-04T00:00:00\",\"2019-05-05T00:00:00\",\"2019-05-06T00:00:00\",\"2019-05-07T00:00:00\",\"2019-05-08T00:00:00\",\"2019-05-09T00:00:00\",\"2019-05-10T00:00:00\",\"2019-05-11T00:00:00\",\"2019-05-12T00:00:00\",\"2019-05-13T00:00:00\",\"2019-05-14T00:00:00\",\"2019-05-15T00:00:00\",\"2019-05-16T00:00:00\",\"2019-05-17T00:00:00\",\"2019-05-18T00:00:00\",\"2019-05-19T00:00:00\",\"2019-05-20T00:00:00\",\"2019-05-21T00:00:00\",\"2019-05-22T00:00:00\",\"2019-05-23T00:00:00\",\"2019-05-24T00:00:00\",\"2019-05-25T00:00:00\",\"2019-05-26T00:00:00\",\"2019-05-27T00:00:00\",\"2019-05-28T00:00:00\",\"2019-05-29T00:00:00\",\"2019-05-30T00:00:00\",\"2019-05-31T00:00:00\",\"2019-06-01T00:00:00\",\"2019-06-02T00:00:00\",\"2019-06-03T00:00:00\",\"2019-06-04T00:00:00\",\"2019-06-05T00:00:00\",\"2019-06-06T00:00:00\",\"2019-06-07T00:00:00\",\"2019-06-08T00:00:00\",\"2019-06-09T00:00:00\",\"2019-06-10T00:00:00\",\"2019-06-11T00:00:00\",\"2019-06-12T00:00:00\",\"2019-06-13T00:00:00\",\"2019-06-14T00:00:00\",\"2019-06-15T00:00:00\",\"2019-06-16T00:00:00\",\"2019-06-17T00:00:00\",\"2019-06-18T00:00:00\",\"2019-06-19T00:00:00\",\"2019-06-20T00:00:00\",\"2019-06-21T00:00:00\",\"2019-06-22T00:00:00\",\"2019-06-23T00:00:00\",\"2019-06-24T00:00:00\",\"2019-06-25T00:00:00\",\"2019-06-26T00:00:00\",\"2019-06-27T00:00:00\",\"2019-06-28T00:00:00\",\"2019-06-29T00:00:00\",\"2019-06-30T00:00:00\",\"2019-07-01T00:00:00\",\"2019-07-02T00:00:00\",\"2019-07-03T00:00:00\",\"2019-07-04T00:00:00\",\"2019-07-05T00:00:00\",\"2019-07-06T00:00:00\",\"2019-07-07T00:00:00\",\"2019-07-08T00:00:00\",\"2019-07-09T00:00:00\",\"2019-07-10T00:00:00\",\"2019-07-11T00:00:00\",\"2019-07-12T00:00:00\",\"2019-07-13T00:00:00\",\"2019-07-14T00:00:00\",\"2019-07-15T00:00:00\",\"2019-07-16T00:00:00\",\"2019-07-17T00:00:00\",\"2019-07-18T00:00:00\",\"2019-07-19T00:00:00\",\"2019-07-20T00:00:00\",\"2019-07-21T00:00:00\",\"2019-07-22T00:00:00\",\"2019-07-23T00:00:00\",\"2019-07-24T00:00:00\",\"2019-07-25T00:00:00\",\"2019-07-26T00:00:00\",\"2019-07-27T00:00:00\",\"2019-07-28T00:00:00\",\"2019-07-29T00:00:00\",\"2019-07-30T00:00:00\",\"2019-07-31T00:00:00\",\"2019-08-01T00:00:00\",\"2019-08-02T00:00:00\",\"2019-08-03T00:00:00\",\"2019-08-04T00:00:00\",\"2019-08-05T00:00:00\",\"2019-08-06T00:00:00\",\"2019-08-07T00:00:00\",\"2019-08-08T00:00:00\",\"2019-08-09T00:00:00\",\"2019-08-10T00:00:00\",\"2019-08-11T00:00:00\",\"2019-08-12T00:00:00\",\"2019-08-13T00:00:00\",\"2019-08-14T00:00:00\",\"2019-08-15T00:00:00\",\"2019-08-16T00:00:00\",\"2019-08-17T00:00:00\",\"2019-08-18T00:00:00\",\"2019-08-19T00:00:00\",\"2019-08-20T00:00:00\",\"2019-08-21T00:00:00\",\"2019-08-22T00:00:00\",\"2019-08-23T00:00:00\",\"2019-08-24T00:00:00\",\"2019-08-25T00:00:00\",\"2019-08-26T00:00:00\",\"2019-08-27T00:00:00\",\"2019-08-28T00:00:00\",\"2019-08-29T00:00:00\",\"2019-08-30T00:00:00\",\"2019-08-31T00:00:00\",\"2019-09-01T00:00:00\",\"2019-09-02T00:00:00\",\"2019-09-03T00:00:00\",\"2019-09-04T00:00:00\",\"2019-09-05T00:00:00\",\"2019-09-06T00:00:00\",\"2019-09-07T00:00:00\",\"2019-09-08T00:00:00\",\"2019-09-09T00:00:00\",\"2019-09-10T00:00:00\",\"2019-09-11T00:00:00\",\"2019-09-12T00:00:00\",\"2019-09-13T00:00:00\",\"2019-09-14T00:00:00\",\"2019-09-15T00:00:00\",\"2019-09-16T00:00:00\",\"2019-09-17T00:00:00\",\"2019-09-18T00:00:00\",\"2019-09-19T00:00:00\",\"2019-09-20T00:00:00\",\"2019-09-21T00:00:00\",\"2019-09-22T00:00:00\",\"2019-09-23T00:00:00\",\"2019-09-24T00:00:00\",\"2019-09-25T00:00:00\",\"2019-09-26T00:00:00\",\"2019-09-27T00:00:00\",\"2019-09-28T00:00:00\",\"2019-09-29T00:00:00\",\"2019-09-30T00:00:00\",\"2019-10-01T00:00:00\",\"2019-10-02T00:00:00\",\"2019-10-03T00:00:00\",\"2019-10-04T00:00:00\",\"2019-10-05T00:00:00\",\"2019-10-06T00:00:00\",\"2019-10-07T00:00:00\",\"2019-10-08T00:00:00\",\"2019-10-09T00:00:00\",\"2019-10-10T00:00:00\",\"2019-10-11T00:00:00\",\"2019-10-12T00:00:00\",\"2019-10-13T00:00:00\",\"2019-10-14T00:00:00\",\"2019-10-15T00:00:00\",\"2019-10-16T00:00:00\",\"2019-10-17T00:00:00\",\"2019-10-18T00:00:00\",\"2019-10-19T00:00:00\",\"2019-10-20T00:00:00\",\"2019-10-21T00:00:00\",\"2019-10-22T00:00:00\",\"2019-10-23T00:00:00\",\"2019-10-24T00:00:00\",\"2019-10-25T00:00:00\",\"2019-10-26T00:00:00\",\"2019-10-27T00:00:00\",\"2019-10-28T00:00:00\",\"2019-10-29T00:00:00\",\"2019-10-30T00:00:00\",\"2019-10-31T00:00:00\",\"2019-11-01T00:00:00\",\"2019-11-02T00:00:00\",\"2019-11-03T00:00:00\",\"2019-11-04T00:00:00\",\"2019-11-05T00:00:00\",\"2019-11-06T00:00:00\",\"2019-11-07T00:00:00\",\"2019-11-08T00:00:00\",\"2019-11-09T00:00:00\",\"2019-11-10T00:00:00\",\"2019-11-11T00:00:00\",\"2019-11-12T00:00:00\",\"2019-11-13T00:00:00\",\"2019-11-14T00:00:00\",\"2019-11-15T00:00:00\",\"2019-11-16T00:00:00\",\"2019-11-17T00:00:00\",\"2019-11-18T00:00:00\",\"2019-11-19T00:00:00\",\"2019-11-20T00:00:00\",\"2019-11-21T00:00:00\",\"2019-11-22T00:00:00\",\"2019-11-23T00:00:00\",\"2019-11-24T00:00:00\",\"2019-11-25T00:00:00\",\"2019-11-26T00:00:00\",\"2019-11-27T00:00:00\",\"2019-11-28T00:00:00\",\"2019-11-29T00:00:00\",\"2019-11-30T00:00:00\",\"2019-12-01T00:00:00\",\"2019-12-02T00:00:00\",\"2019-12-03T00:00:00\",\"2019-12-04T00:00:00\",\"2019-12-05T00:00:00\",\"2019-12-06T00:00:00\",\"2019-12-07T00:00:00\",\"2019-12-08T00:00:00\",\"2019-12-09T00:00:00\",\"2019-12-10T00:00:00\",\"2019-12-11T00:00:00\",\"2019-12-12T00:00:00\",\"2019-12-13T00:00:00\",\"2019-12-14T00:00:00\",\"2019-12-15T00:00:00\",\"2019-12-16T00:00:00\",\"2019-12-17T00:00:00\",\"2019-12-18T00:00:00\",\"2019-12-19T00:00:00\",\"2019-12-20T00:00:00\",\"2019-12-21T00:00:00\",\"2019-12-22T00:00:00\",\"2019-12-23T00:00:00\",\"2019-12-24T00:00:00\",\"2019-12-25T00:00:00\",\"2019-12-26T00:00:00\",\"2019-12-27T00:00:00\",\"2019-12-28T00:00:00\",\"2019-12-29T00:00:00\",\"2019-12-30T00:00:00\",\"2019-12-31T00:00:00\"],\"xaxis\":\"x\",\"y\":[985,801,1349,1562,1600,1606,1510,959,822,1321,1263,1162,1406,1421,1248,1204,1000,683,1650,1927,1543,981,986,1416,1985,506,431,1167,1098,1096,1501,1360,1526,1550,1708,1005,1623,1712,1530,1605,1538,1746,1472,1589,1913,1815,2115,2475,2927,1635,1812,1107,1450,1917,1807,1461,1969,2402,1446,1851,2134,1685,1944,2077,605,1872,2133,1891,623,1977,2132,2417,2046,2056,2192,2744,3239,3117,2471,2077,2703,2121,1865,2210,2496,1693,2028,2425,1536,1685,2227,2252,3249,3115,1795,2808,3141,1471,2455,2895,3348,2034,2162,3267,3126,795,3744,3429,3204,3944,4189,1683,4036,4191,4073,4400,3872,4058,4595,5312,3351,4401,4451,2633,4433,4608,4714,4333,4362,4803,4182,4864,4105,3409,4553,3958,4123,3855,4575,4917,5805,4660,4274,4492,4978,4677,4679,4758,4788,4098,3982,3974,4968,5312,5342,4906,4548,4833,4401,3915,4586,4966,4460,5020,4891,5180,3767,4844,5119,4744,4010,4835,4507,4790,4991,5202,5305,4708,4648,5225,5515,5362,5119,4649,6043,4665,4629,4592,4040,5336,4881,4086,4258,4342,5084,5538,5923,5302,4458,4541,4332,3784,3387,3285,3606,3840,4590,4656,4390,3846,4475,4302,4266,4845,3574,4576,4866,4294,3785,4326,4602,4780,4792,4905,4150,3820,4338,4725,4694,3805,4153,5191,3873,4758,5895,5130,3542,4661,1115,4334,4634,5204,5058,5115,4727,4484,4940,3351,2710,1996,1842,3544,5345,5046,4713,4763,4785,3659,4760,4511,4274,4539,3641,4352,4795,2395,5423,5010,4630,4120,3907,4839,5202,2429,2918,3570,4456,4826,4765,4985,5409,5511,5117,4563,2416,2913,3644,5217,5041,4570,4748,2424,4195,4304,4308,4381,4187,4687,3894,2659,3747,627,3331,3669,4068,4186,3974,4046,3926,3649,4035,4205,4109,2933,3368,4067,3717,4486,4195,1817,3053,3392,3663,3520,2765,1607,2566,1495,2792,3068,3071,3867,2914,3613,3727,3940,3614,3485,3811,2594,705,3322,3620,3190,2743,3310,3523,3740,3709,3577,2739,2431,3403,3750,2660,3068,2209,1011,754,1317,1162,2302,2423,2999,2485,2294,1951,2236,2368,3272,4098,4521,3425,2376,3598,2177,4097,3214,2493,2311,2298,2935,3376,3292,3163,1301,1977,2432,4339,4270,4075,3456,4023,3243,3624,4509,4579,3761,4151,2832,2947,3784,4375,2802,3830,3831,2169,1529,3422,3922,4169,3005,4154,4318,2689,3129,3777,4773,5062,3487,2732,3389,4322,4363,4990,3194,4066,3423,3333,3956,4916,5382,4569,4118,4911,5298,5847,6312,6192,4378,7836,5892,6153,6093,6230,6871,8362,3372,4996,5558,5102,5698,6133,5459,6235,6041,5936,6772,6436,6457,6460,6857,5169,5585,5918,4862,5409,6398,7460,7132,6370,6691,4367,6565,7290,6624,1027,3214,5633,6196,5026,6233,4220,6304,5572,5740,6169,6421,6296,6883,6359,6273,5728,4717,6572,7030,7429,6118,2843,5115,7424,7384,7639,8294,7129,4359,6073,5260,6770,6734,6536,6591,6043,5743,6855,7338,4127,8120,7641,6998,7001,7055,7494,7736,7498,6598,6664,4972,7421,7363,7665,7702,6978,5099,6825,6211,5905,5823,7458,6891,6779,7442,7335,6879,5463,5687,5531,6227,6660,7403,6241,6207,4840,4672,6569,6290,7264,7446,7499,6969,6031,6830,6786,5713,6591,5870,4459,7410,6966,7592,8173,6861,6904,6685,6597,7105,7216,7580,7261,7175,6824,5464,7013,7273,7534,7286,5786,6299,6544,6883,6784,7347,7605,7148,7865,4549,6530,7006,7375,7765,7582,6053,5255,6917,7040,7697,7713,7350,6140,5810,6034,6864,7112,6203,7504,5976,8227,7525,7767,7870,7804,8009,8714,7333,6869,4073,7591,7720,8167,8395,7907,7436,7538,7733,7393,7415,8555,6889,6778,4639,7572,7328,8156,7965,3510,5478,6392,7691,7570,7282,7109,6639,5875,7534,7461,7509,5424,8090,6824,7058,7466,7693,7359,7444,7852,4459,22,1096,5566,5986,5847,5138,5107,5259,5686,5035,5315,5992,6536,6852,6269,4094,5495,5445,5698,5629,4669,5499,5634,5146,2425,3910,2277,2424,5087,3959,5260,5323,5668,5191,4649,6234,6606,5729,5375,5008,5582,3228,5170,5501,5319,5532,5611,5047,3786,4585,5557,5267,4128,3623,1749,1787,920,1013,441,2114,3095,1341,1796,2729],\"yaxis\":\"y\",\"type\":\"scatter\"}],                        {\"template\":{\"data\":{\"bar\":[{\"error_x\":{\"color\":\"#2a3f5f\"},\"error_y\":{\"color\":\"#2a3f5f\"},\"marker\":{\"line\":{\"color\":\"#E5ECF6\",\"width\":0.5},\"pattern\":{\"fillmode\":\"overlay\",\"size\":10,\"solidity\":0.2}},\"type\":\"bar\"}],\"barpolar\":[{\"marker\":{\"line\":{\"color\":\"#E5ECF6\",\"width\":0.5},\"pattern\":{\"fillmode\":\"overlay\",\"size\":10,\"solidity\":0.2}},\"type\":\"barpolar\"}],\"carpet\":[{\"aaxis\":{\"endlinecolor\":\"#2a3f5f\",\"gridcolor\":\"white\",\"linecolor\":\"white\",\"minorgridcolor\":\"white\",\"startlinecolor\":\"#2a3f5f\"},\"baxis\":{\"endlinecolor\":\"#2a3f5f\",\"gridcolor\":\"white\",\"linecolor\":\"white\",\"minorgridcolor\":\"white\",\"startlinecolor\":\"#2a3f5f\"},\"type\":\"carpet\"}],\"choropleth\":[{\"colorbar\":{\"outlinewidth\":0,\"ticks\":\"\"},\"type\":\"choropleth\"}],\"contour\":[{\"colorbar\":{\"outlinewidth\":0,\"ticks\":\"\"},\"colorscale\":[[0.0,\"#0d0887\"],[0.1111111111111111,\"#46039f\"],[0.2222222222222222,\"#7201a8\"],[0.3333333333333333,\"#9c179e\"],[0.4444444444444444,\"#bd3786\"],[0.5555555555555556,\"#d8576b\"],[0.6666666666666666,\"#ed7953\"],[0.7777777777777778,\"#fb9f3a\"],[0.8888888888888888,\"#fdca26\"],[1.0,\"#f0f921\"]],\"type\":\"contour\"}],\"contourcarpet\":[{\"colorbar\":{\"outlinewidth\":0,\"ticks\":\"\"},\"type\":\"contourcarpet\"}],\"heatmap\":[{\"colorbar\":{\"outlinewidth\":0,\"ticks\":\"\"},\"colorscale\":[[0.0,\"#0d0887\"],[0.1111111111111111,\"#46039f\"],[0.2222222222222222,\"#7201a8\"],[0.3333333333333333,\"#9c179e\"],[0.4444444444444444,\"#bd3786\"],[0.5555555555555556,\"#d8576b\"],[0.6666666666666666,\"#ed7953\"],[0.7777777777777778,\"#fb9f3a\"],[0.8888888888888888,\"#fdca26\"],[1.0,\"#f0f921\"]],\"type\":\"heatmap\"}],\"heatmapgl\":[{\"colorbar\":{\"outlinewidth\":0,\"ticks\":\"\"},\"colorscale\":[[0.0,\"#0d0887\"],[0.1111111111111111,\"#46039f\"],[0.2222222222222222,\"#7201a8\"],[0.3333333333333333,\"#9c179e\"],[0.4444444444444444,\"#bd3786\"],[0.5555555555555556,\"#d8576b\"],[0.6666666666666666,\"#ed7953\"],[0.7777777777777778,\"#fb9f3a\"],[0.8888888888888888,\"#fdca26\"],[1.0,\"#f0f921\"]],\"type\":\"heatmapgl\"}],\"histogram\":[{\"marker\":{\"pattern\":{\"fillmode\":\"overlay\",\"size\":10,\"solidity\":0.2}},\"type\":\"histogram\"}],\"histogram2d\":[{\"colorbar\":{\"outlinewidth\":0,\"ticks\":\"\"},\"colorscale\":[[0.0,\"#0d0887\"],[0.1111111111111111,\"#46039f\"],[0.2222222222222222,\"#7201a8\"],[0.3333333333333333,\"#9c179e\"],[0.4444444444444444,\"#bd3786\"],[0.5555555555555556,\"#d8576b\"],[0.6666666666666666,\"#ed7953\"],[0.7777777777777778,\"#fb9f3a\"],[0.8888888888888888,\"#fdca26\"],[1.0,\"#f0f921\"]],\"type\":\"histogram2d\"}],\"histogram2dcontour\":[{\"colorbar\":{\"outlinewidth\":0,\"ticks\":\"\"},\"colorscale\":[[0.0,\"#0d0887\"],[0.1111111111111111,\"#46039f\"],[0.2222222222222222,\"#7201a8\"],[0.3333333333333333,\"#9c179e\"],[0.4444444444444444,\"#bd3786\"],[0.5555555555555556,\"#d8576b\"],[0.6666666666666666,\"#ed7953\"],[0.7777777777777778,\"#fb9f3a\"],[0.8888888888888888,\"#fdca26\"],[1.0,\"#f0f921\"]],\"type\":\"histogram2dcontour\"}],\"mesh3d\":[{\"colorbar\":{\"outlinewidth\":0,\"ticks\":\"\"},\"type\":\"mesh3d\"}],\"parcoords\":[{\"line\":{\"colorbar\":{\"outlinewidth\":0,\"ticks\":\"\"}},\"type\":\"parcoords\"}],\"pie\":[{\"automargin\":true,\"type\":\"pie\"}],\"scatter\":[{\"marker\":{\"colorbar\":{\"outlinewidth\":0,\"ticks\":\"\"}},\"type\":\"scatter\"}],\"scatter3d\":[{\"line\":{\"colorbar\":{\"outlinewidth\":0,\"ticks\":\"\"}},\"marker\":{\"colorbar\":{\"outlinewidth\":0,\"ticks\":\"\"}},\"type\":\"scatter3d\"}],\"scattercarpet\":[{\"marker\":{\"colorbar\":{\"outlinewidth\":0,\"ticks\":\"\"}},\"type\":\"scattercarpet\"}],\"scattergeo\":[{\"marker\":{\"colorbar\":{\"outlinewidth\":0,\"ticks\":\"\"}},\"type\":\"scattergeo\"}],\"scattergl\":[{\"marker\":{\"colorbar\":{\"outlinewidth\":0,\"ticks\":\"\"}},\"type\":\"scattergl\"}],\"scattermapbox\":[{\"marker\":{\"colorbar\":{\"outlinewidth\":0,\"ticks\":\"\"}},\"type\":\"scattermapbox\"}],\"scatterpolar\":[{\"marker\":{\"colorbar\":{\"outlinewidth\":0,\"ticks\":\"\"}},\"type\":\"scatterpolar\"}],\"scatterpolargl\":[{\"marker\":{\"colorbar\":{\"outlinewidth\":0,\"ticks\":\"\"}},\"type\":\"scatterpolargl\"}],\"scatterternary\":[{\"marker\":{\"colorbar\":{\"outlinewidth\":0,\"ticks\":\"\"}},\"type\":\"scatterternary\"}],\"surface\":[{\"colorbar\":{\"outlinewidth\":0,\"ticks\":\"\"},\"colorscale\":[[0.0,\"#0d0887\"],[0.1111111111111111,\"#46039f\"],[0.2222222222222222,\"#7201a8\"],[0.3333333333333333,\"#9c179e\"],[0.4444444444444444,\"#bd3786\"],[0.5555555555555556,\"#d8576b\"],[0.6666666666666666,\"#ed7953\"],[0.7777777777777778,\"#fb9f3a\"],[0.8888888888888888,\"#fdca26\"],[1.0,\"#f0f921\"]],\"type\":\"surface\"}],\"table\":[{\"cells\":{\"fill\":{\"color\":\"#EBF0F8\"},\"line\":{\"color\":\"white\"}},\"header\":{\"fill\":{\"color\":\"#C8D4E3\"},\"line\":{\"color\":\"white\"}},\"type\":\"table\"}]},\"layout\":{\"annotationdefaults\":{\"arrowcolor\":\"#2a3f5f\",\"arrowhead\":0,\"arrowwidth\":1},\"autotypenumbers\":\"strict\",\"coloraxis\":{\"colorbar\":{\"outlinewidth\":0,\"ticks\":\"\"}},\"colorscale\":{\"diverging\":[[0,\"#8e0152\"],[0.1,\"#c51b7d\"],[0.2,\"#de77ae\"],[0.3,\"#f1b6da\"],[0.4,\"#fde0ef\"],[0.5,\"#f7f7f7\"],[0.6,\"#e6f5d0\"],[0.7,\"#b8e186\"],[0.8,\"#7fbc41\"],[0.9,\"#4d9221\"],[1,\"#276419\"]],\"sequential\":[[0.0,\"#0d0887\"],[0.1111111111111111,\"#46039f\"],[0.2222222222222222,\"#7201a8\"],[0.3333333333333333,\"#9c179e\"],[0.4444444444444444,\"#bd3786\"],[0.5555555555555556,\"#d8576b\"],[0.6666666666666666,\"#ed7953\"],[0.7777777777777778,\"#fb9f3a\"],[0.8888888888888888,\"#fdca26\"],[1.0,\"#f0f921\"]],\"sequentialminus\":[[0.0,\"#0d0887\"],[0.1111111111111111,\"#46039f\"],[0.2222222222222222,\"#7201a8\"],[0.3333333333333333,\"#9c179e\"],[0.4444444444444444,\"#bd3786\"],[0.5555555555555556,\"#d8576b\"],[0.6666666666666666,\"#ed7953\"],[0.7777777777777778,\"#fb9f3a\"],[0.8888888888888888,\"#fdca26\"],[1.0,\"#f0f921\"]]},\"colorway\":[\"#636efa\",\"#EF553B\",\"#00cc96\",\"#ab63fa\",\"#FFA15A\",\"#19d3f3\",\"#FF6692\",\"#B6E880\",\"#FF97FF\",\"#FECB52\"],\"font\":{\"color\":\"#2a3f5f\"},\"geo\":{\"bgcolor\":\"white\",\"lakecolor\":\"white\",\"landcolor\":\"#E5ECF6\",\"showlakes\":true,\"showland\":true,\"subunitcolor\":\"white\"},\"hoverlabel\":{\"align\":\"left\"},\"hovermode\":\"closest\",\"mapbox\":{\"style\":\"light\"},\"paper_bgcolor\":\"white\",\"plot_bgcolor\":\"#E5ECF6\",\"polar\":{\"angularaxis\":{\"gridcolor\":\"white\",\"linecolor\":\"white\",\"ticks\":\"\"},\"bgcolor\":\"#E5ECF6\",\"radialaxis\":{\"gridcolor\":\"white\",\"linecolor\":\"white\",\"ticks\":\"\"}},\"scene\":{\"xaxis\":{\"backgroundcolor\":\"#E5ECF6\",\"gridcolor\":\"white\",\"gridwidth\":2,\"linecolor\":\"white\",\"showbackground\":true,\"ticks\":\"\",\"zerolinecolor\":\"white\"},\"yaxis\":{\"backgroundcolor\":\"#E5ECF6\",\"gridcolor\":\"white\",\"gridwidth\":2,\"linecolor\":\"white\",\"showbackground\":true,\"ticks\":\"\",\"zerolinecolor\":\"white\"},\"zaxis\":{\"backgroundcolor\":\"#E5ECF6\",\"gridcolor\":\"white\",\"gridwidth\":2,\"linecolor\":\"white\",\"showbackground\":true,\"ticks\":\"\",\"zerolinecolor\":\"white\"}},\"shapedefaults\":{\"line\":{\"color\":\"#2a3f5f\"}},\"ternary\":{\"aaxis\":{\"gridcolor\":\"white\",\"linecolor\":\"white\",\"ticks\":\"\"},\"baxis\":{\"gridcolor\":\"white\",\"linecolor\":\"white\",\"ticks\":\"\"},\"bgcolor\":\"#E5ECF6\",\"caxis\":{\"gridcolor\":\"white\",\"linecolor\":\"white\",\"ticks\":\"\"}},\"title\":{\"x\":0.05},\"xaxis\":{\"automargin\":true,\"gridcolor\":\"white\",\"linecolor\":\"white\",\"ticks\":\"\",\"title\":{\"standoff\":15},\"zerolinecolor\":\"white\",\"zerolinewidth\":2},\"yaxis\":{\"automargin\":true,\"gridcolor\":\"white\",\"linecolor\":\"white\",\"ticks\":\"\",\"title\":{\"standoff\":15},\"zerolinecolor\":\"white\",\"zerolinewidth\":2}}},\"xaxis\":{\"anchor\":\"y\",\"domain\":[0.0,1.0],\"title\":{\"text\":\"dteday\"},\"rangeslider\":{\"visible\":true},\"rangeselector\":{\"buttons\":[{\"count\":1,\"label\":\"1y\",\"step\":\"year\",\"stepmode\":\"backward\"},{\"count\":2,\"label\":\"3y\",\"step\":\"year\",\"stepmode\":\"backward\"},{\"count\":3,\"label\":\"5y\",\"step\":\"year\",\"stepmode\":\"backward\"},{\"step\":\"all\"}]}},\"yaxis\":{\"anchor\":\"x\",\"domain\":[0.0,1.0],\"title\":{\"text\":\"cnt\"}},\"legend\":{\"tracegroupgap\":0},\"title\":{\"text\":\"B-Bikes\"}},                        {\"responsive\": true}                    ).then(function(){\n",
              "                            \n",
              "var gd = document.getElementById('57da21d3-624b-42cd-95da-099ae08f31db');\n",
              "var x = new MutationObserver(function (mutations, observer) {{\n",
              "        var display = window.getComputedStyle(gd).display;\n",
              "        if (!display || display === 'none') {{\n",
              "            console.log([gd, 'removed!']);\n",
              "            Plotly.purge(gd);\n",
              "            observer.disconnect();\n",
              "        }}\n",
              "}});\n",
              "\n",
              "// Listen for the removal of the full notebook cells\n",
              "var notebookContainer = gd.closest('#notebook-container');\n",
              "if (notebookContainer) {{\n",
              "    x.observe(notebookContainer, {childList: true});\n",
              "}}\n",
              "\n",
              "// Listen for the clearing of the current output cell\n",
              "var outputEl = gd.closest('.output');\n",
              "if (outputEl) {{\n",
              "    x.observe(outputEl, {childList: true});\n",
              "}}\n",
              "\n",
              "                        })                };                });            </script>        </div>"
            ]
          },
          "metadata": {},
          "output_type": "display_data"
        }
      ],
      "source": [
        "fig = px.line(new, x='dteday', y='cnt', hover_data=['temp'], title='B-Bikes')\n",
        "\n",
        "fig.update_xaxes(\n",
        "    rangeslider_visible=True,\n",
        "    rangeselector=dict(\n",
        "        buttons=list([\n",
        "            dict(count=1, label=\"1y\", step=\"year\", stepmode=\"backward\"),\n",
        "            dict(count=2, label=\"3y\", step=\"year\", stepmode=\"backward\"),\n",
        "            dict(count=3, label=\"5y\", step=\"year\", stepmode=\"backward\"),\n",
        "            dict(step=\"all\")\n",
        "        ])\n",
        "    )\n",
        ")\n",
        "fig.show()"
      ]
    },
    {
      "cell_type": "code",
      "execution_count": null,
      "id": "fe20053e",
      "metadata": {
        "id": "fe20053e",
        "outputId": "eff2bc5c-dc66-4569-b287-c05e5c59464e"
      },
      "outputs": [
        {
          "data": {
            "text/html": [
              "<div>\n",
              "<style scoped>\n",
              "    .dataframe tbody tr th:only-of-type {\n",
              "        vertical-align: middle;\n",
              "    }\n",
              "\n",
              "    .dataframe tbody tr th {\n",
              "        vertical-align: top;\n",
              "    }\n",
              "\n",
              "    .dataframe thead th {\n",
              "        text-align: right;\n",
              "    }\n",
              "</style>\n",
              "<table border=\"1\" class=\"dataframe\">\n",
              "  <thead>\n",
              "    <tr style=\"text-align: right;\">\n",
              "      <th></th>\n",
              "      <th>season</th>\n",
              "      <th>mnth</th>\n",
              "      <th>hum</th>\n",
              "      <th>temp</th>\n",
              "      <th>windspeed</th>\n",
              "      <th>cnt</th>\n",
              "    </tr>\n",
              "  </thead>\n",
              "  <tbody>\n",
              "    <tr>\n",
              "      <th>season</th>\n",
              "      <td>1.000000</td>\n",
              "      <td>0.831032</td>\n",
              "      <td>0.208220</td>\n",
              "      <td>0.333361</td>\n",
              "      <td>-0.229607</td>\n",
              "      <td>0.404584</td>\n",
              "    </tr>\n",
              "    <tr>\n",
              "      <th>mnth</th>\n",
              "      <td>0.831032</td>\n",
              "      <td>1.000000</td>\n",
              "      <td>0.224937</td>\n",
              "      <td>0.219083</td>\n",
              "      <td>-0.208013</td>\n",
              "      <td>0.278191</td>\n",
              "    </tr>\n",
              "    <tr>\n",
              "      <th>hum</th>\n",
              "      <td>0.208220</td>\n",
              "      <td>0.224937</td>\n",
              "      <td>1.000000</td>\n",
              "      <td>0.128565</td>\n",
              "      <td>-0.248506</td>\n",
              "      <td>-0.098543</td>\n",
              "    </tr>\n",
              "    <tr>\n",
              "      <th>temp</th>\n",
              "      <td>0.333361</td>\n",
              "      <td>0.219083</td>\n",
              "      <td>0.128565</td>\n",
              "      <td>1.000000</td>\n",
              "      <td>-0.158186</td>\n",
              "      <td>0.627044</td>\n",
              "    </tr>\n",
              "    <tr>\n",
              "      <th>windspeed</th>\n",
              "      <td>-0.229607</td>\n",
              "      <td>-0.208013</td>\n",
              "      <td>-0.248506</td>\n",
              "      <td>-0.158186</td>\n",
              "      <td>1.000000</td>\n",
              "      <td>-0.235132</td>\n",
              "    </tr>\n",
              "    <tr>\n",
              "      <th>cnt</th>\n",
              "      <td>0.404584</td>\n",
              "      <td>0.278191</td>\n",
              "      <td>-0.098543</td>\n",
              "      <td>0.627044</td>\n",
              "      <td>-0.235132</td>\n",
              "      <td>1.000000</td>\n",
              "    </tr>\n",
              "  </tbody>\n",
              "</table>\n",
              "</div>"
            ],
            "text/plain": [
              "             season      mnth       hum      temp  windspeed       cnt\n",
              "season     1.000000  0.831032  0.208220  0.333361  -0.229607  0.404584\n",
              "mnth       0.831032  1.000000  0.224937  0.219083  -0.208013  0.278191\n",
              "hum        0.208220  0.224937  1.000000  0.128565  -0.248506 -0.098543\n",
              "temp       0.333361  0.219083  0.128565  1.000000  -0.158186  0.627044\n",
              "windspeed -0.229607 -0.208013 -0.248506 -0.158186   1.000000 -0.235132\n",
              "cnt        0.404584  0.278191 -0.098543  0.627044  -0.235132  1.000000"
            ]
          },
          "execution_count": 38,
          "metadata": {},
          "output_type": "execute_result"
        }
      ],
      "source": [
        "new.corr()"
      ]
    },
    {
      "cell_type": "code",
      "execution_count": null,
      "id": "2504a874",
      "metadata": {
        "id": "2504a874",
        "outputId": "59a35b28-bc04-4887-8c19-e88ea998c34b"
      },
      "outputs": [
        {
          "data": {
            "text/plain": [
              "<AxesSubplot:>"
            ]
          },
          "execution_count": 39,
          "metadata": {},
          "output_type": "execute_result"
        },
        {
          "data": {
            "image/png": "[encoded data removed]",
            "text/plain": [
              "<Figure size 864x576 with 2 Axes>"
            ]
          },
          "metadata": {
            "needs_background": "light"
          },
          "output_type": "display_data"
        }
      ],
      "source": [
        "sns.heatmap(new.corr(),annot = True, cmap = 'coolwarm')"
      ]
    },
    {
      "cell_type": "code",
      "execution_count": null,
      "id": "4fdaf6a7",
      "metadata": {
        "id": "4fdaf6a7",
        "outputId": "f630dcfa-a936-4315-ade7-aa126922f647"
      },
      "outputs": [
        {
          "data": {
            "text/html": [
              "<div>\n",
              "<style scoped>\n",
              "    .dataframe tbody tr th:only-of-type {\n",
              "        vertical-align: middle;\n",
              "    }\n",
              "\n",
              "    .dataframe tbody tr th {\n",
              "        vertical-align: top;\n",
              "    }\n",
              "\n",
              "    .dataframe thead th {\n",
              "        text-align: right;\n",
              "    }\n",
              "</style>\n",
              "<table border=\"1\" class=\"dataframe\">\n",
              "  <thead>\n",
              "    <tr style=\"text-align: right;\">\n",
              "      <th></th>\n",
              "      <th>season</th>\n",
              "      <th>mnth</th>\n",
              "      <th>hum</th>\n",
              "      <th>temp</th>\n",
              "      <th>windspeed</th>\n",
              "      <th>cnt</th>\n",
              "    </tr>\n",
              "    <tr>\n",
              "      <th>dteday</th>\n",
              "      <th></th>\n",
              "      <th></th>\n",
              "      <th></th>\n",
              "      <th></th>\n",
              "      <th></th>\n",
              "      <th></th>\n",
              "    </tr>\n",
              "  </thead>\n",
              "  <tbody>\n",
              "    <tr>\n",
              "      <th>2018-01-01</th>\n",
              "      <td>1</td>\n",
              "      <td>1</td>\n",
              "      <td>80.5833</td>\n",
              "      <td>14.110847</td>\n",
              "      <td>10.749882</td>\n",
              "      <td>985</td>\n",
              "    </tr>\n",
              "    <tr>\n",
              "      <th>2018-01-02</th>\n",
              "      <td>1</td>\n",
              "      <td>1</td>\n",
              "      <td>69.6087</td>\n",
              "      <td>14.902598</td>\n",
              "      <td>16.652113</td>\n",
              "      <td>801</td>\n",
              "    </tr>\n",
              "    <tr>\n",
              "      <th>2018-01-03</th>\n",
              "      <td>1</td>\n",
              "      <td>1</td>\n",
              "      <td>43.7273</td>\n",
              "      <td>8.050924</td>\n",
              "      <td>16.636703</td>\n",
              "      <td>1349</td>\n",
              "    </tr>\n",
              "    <tr>\n",
              "      <th>2018-01-04</th>\n",
              "      <td>1</td>\n",
              "      <td>1</td>\n",
              "      <td>59.0435</td>\n",
              "      <td>8.200000</td>\n",
              "      <td>10.739832</td>\n",
              "      <td>1562</td>\n",
              "    </tr>\n",
              "    <tr>\n",
              "      <th>2018-01-05</th>\n",
              "      <td>1</td>\n",
              "      <td>1</td>\n",
              "      <td>43.6957</td>\n",
              "      <td>9.305237</td>\n",
              "      <td>12.522300</td>\n",
              "      <td>1600</td>\n",
              "    </tr>\n",
              "  </tbody>\n",
              "</table>\n",
              "</div>"
            ],
            "text/plain": [
              "            season  mnth      hum       temp  windspeed   cnt\n",
              "dteday                                                       \n",
              "2018-01-01       1     1  80.5833  14.110847  10.749882   985\n",
              "2018-01-02       1     1  69.6087  14.902598  16.652113   801\n",
              "2018-01-03       1     1  43.7273   8.050924  16.636703  1349\n",
              "2018-01-04       1     1  59.0435   8.200000  10.739832  1562\n",
              "2018-01-05       1     1  43.6957   9.305237  12.522300  1600"
            ]
          },
          "execution_count": 40,
          "metadata": {},
          "output_type": "execute_result"
        }
      ],
      "source": [
        "new = new.set_index('dteday')\n",
        "new.head()"
      ]
    },
    {
      "cell_type": "code",
      "execution_count": null,
      "id": "a038a5ce",
      "metadata": {
        "id": "a038a5ce",
        "outputId": "e13404e3-9066-408f-a017-cbd21dd4335b"
      },
      "outputs": [
        {
          "data": {
            "text/plain": [
              "array([<AxesSubplot:xlabel='dteday'>, <AxesSubplot:xlabel='dteday'>,\n",
              "       <AxesSubplot:xlabel='dteday'>, <AxesSubplot:xlabel='dteday'>,\n",
              "       <AxesSubplot:xlabel='dteday'>, <AxesSubplot:xlabel='dteday'>],\n",
              "      dtype=object)"
            ]
          },
          "execution_count": 41,
          "metadata": {},
          "output_type": "execute_result"
        },
        {
          "data": {
            "image/png": "[encoded data removed]",
            "text/plain": [
              "<Figure size 864x576 with 6 Axes>"
            ]
          },
          "metadata": {
            "needs_background": "light"
          },
          "output_type": "display_data"
        }
      ],
      "source": [
        "new.plot(subplots=True)"
      ]
    },
    {
      "cell_type": "code",
      "execution_count": null,
      "id": "8b42d18f",
      "metadata": {
        "id": "8b42d18f",
        "outputId": "647edbc1-5710-48bf-9600-031827bbb31c"
      },
      "outputs": [
        {
          "data": {
            "text/plain": [
              "<AxesSubplot:xlabel='dteday'>"
            ]
          },
          "execution_count": 79,
          "metadata": {},
          "output_type": "execute_result"
        },
        {
          "data": {
            "image/png": "[encoded data removed]",
            "text/plain": [
              "<Figure size 864x576 with 1 Axes>"
            ]
          },
          "metadata": {
            "needs_background": "light"
          },
          "output_type": "display_data"
        }
      ],
      "source": [
        "new['cnt'].plot()"
      ]
    },
    {
      "cell_type": "code",
      "execution_count": null,
      "id": "e0e681a9",
      "metadata": {
        "id": "e0e681a9"
      },
      "outputs": [],
      "source": [
        "from statsmodels.tsa.stattools import adfuller\n",
        "def test_stationarity(timeseries, cutoff = 0.05):\n",
        "\n",
        "    #Perform Dickey-Fuller test:\n",
        "    print('Results of Dickey-Fuller Test:')\n",
        "    dftest = adfuller(timeseries, autolag='AIC', maxlag = 20 )\n",
        "    dfoutput = pd.Series(dftest[0:4], index=['Test Statistic','p-value','#Lags Used','Number of Observations Used'])\n",
        "    for key,value in dftest[4].items():\n",
        "        dfoutput['Critical Value (%s)'%key] = value\n",
        "    pvalue = dftest[1]\n",
        "    if pvalue < cutoff:\n",
        "        print('p-value = %.4f. The series is likely stationary.' % pvalue)\n",
        "    else:\n",
        "        print('p-value = %.4f. The series is likely non-stationary.' % pvalue)\n",
        "\n",
        "    print(dfoutput)"
      ]
    },
    {
      "cell_type": "code",
      "execution_count": null,
      "id": "4c8b7f38",
      "metadata": {
        "id": "4c8b7f38",
        "outputId": "a89834d6-46b5-4dfa-e7b7-a6e768197f67"
      },
      "outputs": [
        {
          "name": "stdout",
          "output_type": "stream",
          "text": [
            "Column name: season\n",
            "Results of Dickey-Fuller Test:\n",
            "p-value = 0.2014. The series is likely non-stationary.\n",
            "Test Statistic                  -2.213538\n",
            "p-value                          0.201369\n",
            "#Lags Used                       0.000000\n",
            "Number of Observations Used    729.000000\n",
            "Critical Value (1%)             -3.439352\n",
            "Critical Value (5%)             -2.865513\n",
            "Critical Value (10%)            -2.568886\n",
            "dtype: float64\n",
            "##################################################\n",
            "Column name: mnth\n",
            "Results of Dickey-Fuller Test:\n",
            "p-value = 0.4090. The series is likely non-stationary.\n",
            "Test Statistic                  -1.743174\n",
            "p-value                          0.409016\n",
            "#Lags Used                       0.000000\n",
            "Number of Observations Used    729.000000\n",
            "Critical Value (1%)             -3.439352\n",
            "Critical Value (5%)             -2.865513\n",
            "Critical Value (10%)            -2.568886\n",
            "dtype: float64\n",
            "##################################################\n",
            "Column name: hum\n",
            "Results of Dickey-Fuller Test:\n",
            "p-value = 0.0000. The series is likely stationary.\n",
            "Test Statistic                  -5.005572\n",
            "p-value                          0.000022\n",
            "#Lags Used                      14.000000\n",
            "Number of Observations Used    715.000000\n",
            "Critical Value (1%)             -3.439529\n",
            "Critical Value (5%)             -2.865591\n",
            "Critical Value (10%)            -2.568927\n",
            "dtype: float64\n",
            "##################################################\n",
            "Column name: temp\n",
            "Results of Dickey-Fuller Test:\n",
            "p-value = 0.4545. The series is likely non-stationary.\n",
            "Test Statistic                  -1.654814\n",
            "p-value                          0.454531\n",
            "#Lags Used                      16.000000\n",
            "Number of Observations Used    713.000000\n",
            "Critical Value (1%)             -3.439555\n",
            "Critical Value (5%)             -2.865602\n",
            "Critical Value (10%)            -2.568933\n",
            "dtype: float64\n",
            "##################################################\n",
            "Column name: windspeed\n",
            "Results of Dickey-Fuller Test:\n",
            "p-value = 0.0005. The series is likely stationary.\n",
            "Test Statistic                  -4.263235\n",
            "p-value                          0.000514\n",
            "#Lags Used                      15.000000\n",
            "Number of Observations Used    714.000000\n",
            "Critical Value (1%)             -3.439542\n",
            "Critical Value (5%)             -2.865596\n",
            "Critical Value (10%)            -2.568930\n",
            "dtype: float64\n",
            "##################################################\n",
            "Column name: cnt\n",
            "Results of Dickey-Fuller Test:\n",
            "p-value = 0.3498. The series is likely non-stationary.\n",
            "Test Statistic                  -1.862690\n",
            "p-value                          0.349811\n",
            "#Lags Used                      13.000000\n",
            "Number of Observations Used    716.000000\n",
            "Critical Value (1%)             -3.439516\n",
            "Critical Value (5%)             -2.865585\n",
            "Critical Value (10%)            -2.568924\n",
            "dtype: float64\n",
            "##################################################\n"
          ]
        }
      ],
      "source": [
        "for col in new.columns:\n",
        "    print('Column name:',col)\n",
        "    test_stationarity(new[col])\n",
        "    print('#'*50)"
      ]
    },
    {
      "cell_type": "code",
      "execution_count": null,
      "id": "04413dcc",
      "metadata": {
        "id": "04413dcc",
        "outputId": "dbe7b4c9-af1a-4c0a-8607-4ff371122826"
      },
      "outputs": [
        {
          "data": {
            "text/plain": [
              "Index(['season', 'mnth', 'hum', 'temp', 'windspeed', 'cnt'], dtype='object')"
            ]
          },
          "execution_count": 49,
          "metadata": {},
          "output_type": "execute_result"
        }
      ],
      "source": [
        "new.columns"
      ]
    },
    {
      "cell_type": "code",
      "execution_count": null,
      "id": "6c6930a6",
      "metadata": {
        "id": "6c6930a6",
        "outputId": "5dd8f4b6-161b-4965-9a46-72544dfabb84"
      },
      "outputs": [
        {
          "data": {
            "text/html": [
              "<div>\n",
              "<style scoped>\n",
              "    .dataframe tbody tr th:only-of-type {\n",
              "        vertical-align: middle;\n",
              "    }\n",
              "\n",
              "    .dataframe tbody tr th {\n",
              "        vertical-align: top;\n",
              "    }\n",
              "\n",
              "    .dataframe thead th {\n",
              "        text-align: right;\n",
              "    }\n",
              "</style>\n",
              "<table border=\"1\" class=\"dataframe\">\n",
              "  <thead>\n",
              "    <tr style=\"text-align: right;\">\n",
              "      <th></th>\n",
              "      <th>hum</th>\n",
              "      <th>windspeed</th>\n",
              "    </tr>\n",
              "    <tr>\n",
              "      <th>dteday</th>\n",
              "      <th></th>\n",
              "      <th></th>\n",
              "    </tr>\n",
              "  </thead>\n",
              "  <tbody>\n",
              "    <tr>\n",
              "      <th>2018-01-01</th>\n",
              "      <td>80.5833</td>\n",
              "      <td>10.749882</td>\n",
              "    </tr>\n",
              "    <tr>\n",
              "      <th>2018-01-02</th>\n",
              "      <td>69.6087</td>\n",
              "      <td>16.652113</td>\n",
              "    </tr>\n",
              "    <tr>\n",
              "      <th>2018-01-03</th>\n",
              "      <td>43.7273</td>\n",
              "      <td>16.636703</td>\n",
              "    </tr>\n",
              "    <tr>\n",
              "      <th>2018-01-04</th>\n",
              "      <td>59.0435</td>\n",
              "      <td>10.739832</td>\n",
              "    </tr>\n",
              "    <tr>\n",
              "      <th>2018-01-05</th>\n",
              "      <td>43.6957</td>\n",
              "      <td>12.522300</td>\n",
              "    </tr>\n",
              "    <tr>\n",
              "      <th>...</th>\n",
              "      <td>...</td>\n",
              "      <td>...</td>\n",
              "    </tr>\n",
              "    <tr>\n",
              "      <th>2019-12-27</th>\n",
              "      <td>65.2917</td>\n",
              "      <td>23.458911</td>\n",
              "    </tr>\n",
              "    <tr>\n",
              "      <th>2019-12-28</th>\n",
              "      <td>59.0000</td>\n",
              "      <td>10.416557</td>\n",
              "    </tr>\n",
              "    <tr>\n",
              "      <th>2019-12-29</th>\n",
              "      <td>75.2917</td>\n",
              "      <td>8.333661</td>\n",
              "    </tr>\n",
              "    <tr>\n",
              "      <th>2019-12-30</th>\n",
              "      <td>48.3333</td>\n",
              "      <td>23.500518</td>\n",
              "    </tr>\n",
              "    <tr>\n",
              "      <th>2019-12-31</th>\n",
              "      <td>57.7500</td>\n",
              "      <td>10.374682</td>\n",
              "    </tr>\n",
              "  </tbody>\n",
              "</table>\n",
              "<p>730 rows × 2 columns</p>\n",
              "</div>"
            ],
            "text/plain": [
              "                hum  windspeed\n",
              "dteday                        \n",
              "2018-01-01  80.5833  10.749882\n",
              "2018-01-02  69.6087  16.652113\n",
              "2018-01-03  43.7273  16.636703\n",
              "2018-01-04  59.0435  10.739832\n",
              "2018-01-05  43.6957  12.522300\n",
              "...             ...        ...\n",
              "2019-12-27  65.2917  23.458911\n",
              "2019-12-28  59.0000  10.416557\n",
              "2019-12-29  75.2917   8.333661\n",
              "2019-12-30  48.3333  23.500518\n",
              "2019-12-31  57.7500  10.374682\n",
              "\n",
              "[730 rows x 2 columns]"
            ]
          },
          "execution_count": 50,
          "metadata": {},
          "output_type": "execute_result"
        }
      ],
      "source": [
        "stat_dataset = new[['hum','windspeed']]\n",
        "stat_dataset"
      ]
    },
    {
      "cell_type": "code",
      "execution_count": null,
      "id": "d3bfede4",
      "metadata": {
        "id": "d3bfede4",
        "outputId": "6bccd5df-3f0c-42f6-cf9d-53c54f142bf8"
      },
      "outputs": [
        {
          "name": "stdout",
          "output_type": "stream",
          "text": [
            "Results of Dickey-Fuller Test:\n",
            "p-value = 0.0000. The series is likely stationary.\n",
            "Test Statistic                 -26.944387\n",
            "p-value                          0.000000\n",
            "#Lags Used                       0.000000\n",
            "Number of Observations Used    728.000000\n",
            "Critical Value (1%)             -3.439364\n",
            "Critical Value (5%)             -2.865518\n",
            "Critical Value (10%)            -2.568888\n",
            "dtype: float64\n"
          ]
        }
      ],
      "source": [
        "stat_dataset['diff_season'] = new['season']-new['season'].shift(1)\n",
        "test_stationarity(stat_dataset['diff_season'].dropna())"
      ]
    },
    {
      "cell_type": "code",
      "execution_count": null,
      "id": "15b445ab",
      "metadata": {
        "id": "15b445ab",
        "outputId": "145a261f-0921-4628-e5a8-6fd23fa987bc"
      },
      "outputs": [
        {
          "name": "stdout",
          "output_type": "stream",
          "text": [
            "Results of Dickey-Fuller Test:\n",
            "p-value = 0.0000. The series is likely stationary.\n",
            "Test Statistic                 -26.975759\n",
            "p-value                          0.000000\n",
            "#Lags Used                       0.000000\n",
            "Number of Observations Used    728.000000\n",
            "Critical Value (1%)             -3.439364\n",
            "Critical Value (5%)             -2.865518\n",
            "Critical Value (10%)            -2.568888\n",
            "dtype: float64\n"
          ]
        }
      ],
      "source": [
        "stat_dataset['diff_mnth'] = new['mnth']-new['mnth'].shift(1)\n",
        "test_stationarity(stat_dataset['diff_mnth'].dropna())"
      ]
    },
    {
      "cell_type": "code",
      "execution_count": null,
      "id": "558d2c55",
      "metadata": {
        "id": "558d2c55",
        "outputId": "0fb634a6-1d28-4488-994f-ac229f09f32d"
      },
      "outputs": [
        {
          "name": "stdout",
          "output_type": "stream",
          "text": [
            "Results of Dickey-Fuller Test:\n",
            "p-value = 0.0000. The series is likely stationary.\n",
            "Test Statistic                -8.721242e+00\n",
            "p-value                        3.380987e-14\n",
            "#Lags Used                     1.500000e+01\n",
            "Number of Observations Used    7.130000e+02\n",
            "Critical Value (1%)           -3.439555e+00\n",
            "Critical Value (5%)           -2.865602e+00\n",
            "Critical Value (10%)          -2.568933e+00\n",
            "dtype: float64\n"
          ]
        }
      ],
      "source": [
        "stat_dataset['diff_temp'] = new['temp']-new['temp'].shift(1)\n",
        "test_stationarity(stat_dataset['diff_temp'].dropna())"
      ]
    },
    {
      "cell_type": "code",
      "execution_count": null,
      "id": "5afddc76",
      "metadata": {
        "id": "5afddc76",
        "outputId": "38402858-a849-499b-fd45-742622cbdb6d"
      },
      "outputs": [
        {
          "name": "stdout",
          "output_type": "stream",
          "text": [
            "Results of Dickey-Fuller Test:\n",
            "p-value = 0.0000. The series is likely stationary.\n",
            "Test Statistic                -1.186692e+01\n",
            "p-value                        6.641911e-22\n",
            "#Lags Used                     1.200000e+01\n",
            "Number of Observations Used    7.160000e+02\n",
            "Critical Value (1%)           -3.439516e+00\n",
            "Critical Value (5%)           -2.865585e+00\n",
            "Critical Value (10%)          -2.568924e+00\n",
            "dtype: float64\n"
          ]
        }
      ],
      "source": [
        "stat_dataset['diff_cnt'] = new['cnt']-new['cnt'].shift(1)\n",
        "test_stationarity(stat_dataset['diff_cnt'].dropna())"
      ]
    },
    {
      "cell_type": "code",
      "execution_count": null,
      "id": "35031335",
      "metadata": {
        "id": "35031335",
        "outputId": "964cdd46-ed88-4ddf-a971-ee07117f8604"
      },
      "outputs": [
        {
          "data": {
            "text/html": [
              "<div>\n",
              "<style scoped>\n",
              "    .dataframe tbody tr th:only-of-type {\n",
              "        vertical-align: middle;\n",
              "    }\n",
              "\n",
              "    .dataframe tbody tr th {\n",
              "        vertical-align: top;\n",
              "    }\n",
              "\n",
              "    .dataframe thead th {\n",
              "        text-align: right;\n",
              "    }\n",
              "</style>\n",
              "<table border=\"1\" class=\"dataframe\">\n",
              "  <thead>\n",
              "    <tr style=\"text-align: right;\">\n",
              "      <th></th>\n",
              "      <th>hum</th>\n",
              "      <th>windspeed</th>\n",
              "      <th>diff_season</th>\n",
              "      <th>diff_mnth</th>\n",
              "      <th>diff_temp</th>\n",
              "      <th>diff_cnt</th>\n",
              "    </tr>\n",
              "    <tr>\n",
              "      <th>dteday</th>\n",
              "      <th></th>\n",
              "      <th></th>\n",
              "      <th></th>\n",
              "      <th></th>\n",
              "      <th></th>\n",
              "      <th></th>\n",
              "    </tr>\n",
              "  </thead>\n",
              "  <tbody>\n",
              "    <tr>\n",
              "      <th>2018-01-01</th>\n",
              "      <td>80.5833</td>\n",
              "      <td>10.749882</td>\n",
              "      <td>NaN</td>\n",
              "      <td>NaN</td>\n",
              "      <td>NaN</td>\n",
              "      <td>NaN</td>\n",
              "    </tr>\n",
              "    <tr>\n",
              "      <th>2018-01-02</th>\n",
              "      <td>69.6087</td>\n",
              "      <td>16.652113</td>\n",
              "      <td>0.0</td>\n",
              "      <td>0.0</td>\n",
              "      <td>0.791751</td>\n",
              "      <td>-184.0</td>\n",
              "    </tr>\n",
              "    <tr>\n",
              "      <th>2018-01-03</th>\n",
              "      <td>43.7273</td>\n",
              "      <td>16.636703</td>\n",
              "      <td>0.0</td>\n",
              "      <td>0.0</td>\n",
              "      <td>-6.851674</td>\n",
              "      <td>548.0</td>\n",
              "    </tr>\n",
              "    <tr>\n",
              "      <th>2018-01-04</th>\n",
              "      <td>59.0435</td>\n",
              "      <td>10.739832</td>\n",
              "      <td>0.0</td>\n",
              "      <td>0.0</td>\n",
              "      <td>0.149076</td>\n",
              "      <td>213.0</td>\n",
              "    </tr>\n",
              "    <tr>\n",
              "      <th>2018-01-05</th>\n",
              "      <td>43.6957</td>\n",
              "      <td>12.522300</td>\n",
              "      <td>0.0</td>\n",
              "      <td>0.0</td>\n",
              "      <td>1.105237</td>\n",
              "      <td>38.0</td>\n",
              "    </tr>\n",
              "    <tr>\n",
              "      <th>...</th>\n",
              "      <td>...</td>\n",
              "      <td>...</td>\n",
              "      <td>...</td>\n",
              "      <td>...</td>\n",
              "      <td>...</td>\n",
              "      <td>...</td>\n",
              "    </tr>\n",
              "    <tr>\n",
              "      <th>2019-12-27</th>\n",
              "      <td>65.2917</td>\n",
              "      <td>23.458911</td>\n",
              "      <td>0.0</td>\n",
              "      <td>0.0</td>\n",
              "      <td>0.444194</td>\n",
              "      <td>1673.0</td>\n",
              "    </tr>\n",
              "    <tr>\n",
              "      <th>2019-12-28</th>\n",
              "      <td>59.0000</td>\n",
              "      <td>10.416557</td>\n",
              "      <td>0.0</td>\n",
              "      <td>0.0</td>\n",
              "      <td>-0.034194</td>\n",
              "      <td>981.0</td>\n",
              "    </tr>\n",
              "    <tr>\n",
              "      <th>2019-12-29</th>\n",
              "      <td>75.2917</td>\n",
              "      <td>8.333661</td>\n",
              "      <td>0.0</td>\n",
              "      <td>0.0</td>\n",
              "      <td>0.000000</td>\n",
              "      <td>-1754.0</td>\n",
              "    </tr>\n",
              "    <tr>\n",
              "      <th>2019-12-30</th>\n",
              "      <td>48.3333</td>\n",
              "      <td>23.500518</td>\n",
              "      <td>0.0</td>\n",
              "      <td>0.0</td>\n",
              "      <td>0.102500</td>\n",
              "      <td>455.0</td>\n",
              "    </tr>\n",
              "    <tr>\n",
              "      <th>2019-12-31</th>\n",
              "      <td>57.7500</td>\n",
              "      <td>10.374682</td>\n",
              "      <td>0.0</td>\n",
              "      <td>0.0</td>\n",
              "      <td>-1.640000</td>\n",
              "      <td>933.0</td>\n",
              "    </tr>\n",
              "  </tbody>\n",
              "</table>\n",
              "<p>730 rows × 6 columns</p>\n",
              "</div>"
            ],
            "text/plain": [
              "                hum  windspeed  diff_season  diff_mnth  diff_temp  diff_cnt\n",
              "dteday                                                                     \n",
              "2018-01-01  80.5833  10.749882          NaN        NaN        NaN       NaN\n",
              "2018-01-02  69.6087  16.652113          0.0        0.0   0.791751    -184.0\n",
              "2018-01-03  43.7273  16.636703          0.0        0.0  -6.851674     548.0\n",
              "2018-01-04  59.0435  10.739832          0.0        0.0   0.149076     213.0\n",
              "2018-01-05  43.6957  12.522300          0.0        0.0   1.105237      38.0\n",
              "...             ...        ...          ...        ...        ...       ...\n",
              "2019-12-27  65.2917  23.458911          0.0        0.0   0.444194    1673.0\n",
              "2019-12-28  59.0000  10.416557          0.0        0.0  -0.034194     981.0\n",
              "2019-12-29  75.2917   8.333661          0.0        0.0   0.000000   -1754.0\n",
              "2019-12-30  48.3333  23.500518          0.0        0.0   0.102500     455.0\n",
              "2019-12-31  57.7500  10.374682          0.0        0.0  -1.640000     933.0\n",
              "\n",
              "[730 rows x 6 columns]"
            ]
          },
          "execution_count": 55,
          "metadata": {},
          "output_type": "execute_result"
        }
      ],
      "source": [
        "stat_dataset"
      ]
    },
    {
      "cell_type": "code",
      "execution_count": null,
      "id": "0d32d1ff",
      "metadata": {
        "id": "0d32d1ff",
        "outputId": "464a6d36-6074-4392-de06-a6473c4e77f5"
      },
      "outputs": [
        {
          "data": {
            "text/html": [
              "<div>\n",
              "<style scoped>\n",
              "    .dataframe tbody tr th:only-of-type {\n",
              "        vertical-align: middle;\n",
              "    }\n",
              "\n",
              "    .dataframe tbody tr th {\n",
              "        vertical-align: top;\n",
              "    }\n",
              "\n",
              "    .dataframe thead th {\n",
              "        text-align: right;\n",
              "    }\n",
              "</style>\n",
              "<table border=\"1\" class=\"dataframe\">\n",
              "  <thead>\n",
              "    <tr style=\"text-align: right;\">\n",
              "      <th></th>\n",
              "      <th>hum</th>\n",
              "      <th>windspeed</th>\n",
              "      <th>diff_season</th>\n",
              "      <th>diff_mnth</th>\n",
              "      <th>diff_temp</th>\n",
              "      <th>diff_cnt</th>\n",
              "    </tr>\n",
              "    <tr>\n",
              "      <th>dteday</th>\n",
              "      <th></th>\n",
              "      <th></th>\n",
              "      <th></th>\n",
              "      <th></th>\n",
              "      <th></th>\n",
              "      <th></th>\n",
              "    </tr>\n",
              "  </thead>\n",
              "  <tbody>\n",
              "    <tr>\n",
              "      <th>2018-01-02</th>\n",
              "      <td>69.6087</td>\n",
              "      <td>16.652113</td>\n",
              "      <td>0.0</td>\n",
              "      <td>0.0</td>\n",
              "      <td>0.791751</td>\n",
              "      <td>-184.0</td>\n",
              "    </tr>\n",
              "    <tr>\n",
              "      <th>2018-01-03</th>\n",
              "      <td>43.7273</td>\n",
              "      <td>16.636703</td>\n",
              "      <td>0.0</td>\n",
              "      <td>0.0</td>\n",
              "      <td>-6.851674</td>\n",
              "      <td>548.0</td>\n",
              "    </tr>\n",
              "    <tr>\n",
              "      <th>2018-01-04</th>\n",
              "      <td>59.0435</td>\n",
              "      <td>10.739832</td>\n",
              "      <td>0.0</td>\n",
              "      <td>0.0</td>\n",
              "      <td>0.149076</td>\n",
              "      <td>213.0</td>\n",
              "    </tr>\n",
              "    <tr>\n",
              "      <th>2018-01-05</th>\n",
              "      <td>43.6957</td>\n",
              "      <td>12.522300</td>\n",
              "      <td>0.0</td>\n",
              "      <td>0.0</td>\n",
              "      <td>1.105237</td>\n",
              "      <td>38.0</td>\n",
              "    </tr>\n",
              "    <tr>\n",
              "      <th>2018-01-06</th>\n",
              "      <td>51.8261</td>\n",
              "      <td>6.000868</td>\n",
              "      <td>0.0</td>\n",
              "      <td>0.0</td>\n",
              "      <td>-0.926969</td>\n",
              "      <td>6.0</td>\n",
              "    </tr>\n",
              "  </tbody>\n",
              "</table>\n",
              "</div>"
            ],
            "text/plain": [
              "                hum  windspeed  diff_season  diff_mnth  diff_temp  diff_cnt\n",
              "dteday                                                                     \n",
              "2018-01-02  69.6087  16.652113          0.0        0.0   0.791751    -184.0\n",
              "2018-01-03  43.7273  16.636703          0.0        0.0  -6.851674     548.0\n",
              "2018-01-04  59.0435  10.739832          0.0        0.0   0.149076     213.0\n",
              "2018-01-05  43.6957  12.522300          0.0        0.0   1.105237      38.0\n",
              "2018-01-06  51.8261   6.000868          0.0        0.0  -0.926969       6.0"
            ]
          },
          "execution_count": 56,
          "metadata": {},
          "output_type": "execute_result"
        }
      ],
      "source": [
        "stat_dataset.dropna(inplace=True)\n",
        "stat_dataset.head()"
      ]
    },
    {
      "cell_type": "code",
      "execution_count": null,
      "id": "255a7774",
      "metadata": {
        "id": "255a7774",
        "outputId": "4e2680c5-eba7-4926-e307-d4ec610cdc5d"
      },
      "outputs": [
        {
          "data": {
            "text/html": [
              "<div>\n",
              "<style scoped>\n",
              "    .dataframe tbody tr th:only-of-type {\n",
              "        vertical-align: middle;\n",
              "    }\n",
              "\n",
              "    .dataframe tbody tr th {\n",
              "        vertical-align: top;\n",
              "    }\n",
              "\n",
              "    .dataframe thead th {\n",
              "        text-align: right;\n",
              "    }\n",
              "</style>\n",
              "<table border=\"1\" class=\"dataframe\">\n",
              "  <thead>\n",
              "    <tr style=\"text-align: right;\">\n",
              "      <th></th>\n",
              "      <th>hum</th>\n",
              "      <th>windspeed</th>\n",
              "      <th>diff_season</th>\n",
              "      <th>diff_mnth</th>\n",
              "      <th>diff_temp</th>\n",
              "      <th>diff_cnt</th>\n",
              "    </tr>\n",
              "    <tr>\n",
              "      <th>dteday</th>\n",
              "      <th></th>\n",
              "      <th></th>\n",
              "      <th></th>\n",
              "      <th></th>\n",
              "      <th></th>\n",
              "      <th></th>\n",
              "    </tr>\n",
              "  </thead>\n",
              "  <tbody>\n",
              "    <tr>\n",
              "      <th>2019-08-08</th>\n",
              "      <td>67.2917</td>\n",
              "      <td>7.416900</td>\n",
              "      <td>0.0</td>\n",
              "      <td>0.0</td>\n",
              "      <td>0.580847</td>\n",
              "      <td>261.0</td>\n",
              "    </tr>\n",
              "    <tr>\n",
              "      <th>2019-08-09</th>\n",
              "      <td>62.0417</td>\n",
              "      <td>10.458700</td>\n",
              "      <td>0.0</td>\n",
              "      <td>0.0</td>\n",
              "      <td>0.239153</td>\n",
              "      <td>-248.0</td>\n",
              "    </tr>\n",
              "    <tr>\n",
              "      <th>2019-08-10</th>\n",
              "      <td>71.5833</td>\n",
              "      <td>16.000471</td>\n",
              "      <td>0.0</td>\n",
              "      <td>0.0</td>\n",
              "      <td>-1.640000</td>\n",
              "      <td>-1500.0</td>\n",
              "    </tr>\n",
              "    <tr>\n",
              "      <th>2019-08-11</th>\n",
              "      <td>73.2917</td>\n",
              "      <td>13.834093</td>\n",
              "      <td>0.0</td>\n",
              "      <td>0.0</td>\n",
              "      <td>-0.956653</td>\n",
              "      <td>513.0</td>\n",
              "    </tr>\n",
              "    <tr>\n",
              "      <th>2019-08-12</th>\n",
              "      <td>53.0417</td>\n",
              "      <td>8.208304</td>\n",
              "      <td>0.0</td>\n",
              "      <td>0.0</td>\n",
              "      <td>0.341653</td>\n",
              "      <td>245.0</td>\n",
              "    </tr>\n",
              "    <tr>\n",
              "      <th>...</th>\n",
              "      <td>...</td>\n",
              "      <td>...</td>\n",
              "      <td>...</td>\n",
              "      <td>...</td>\n",
              "      <td>...</td>\n",
              "      <td>...</td>\n",
              "    </tr>\n",
              "    <tr>\n",
              "      <th>2019-12-27</th>\n",
              "      <td>65.2917</td>\n",
              "      <td>23.458911</td>\n",
              "      <td>0.0</td>\n",
              "      <td>0.0</td>\n",
              "      <td>0.444194</td>\n",
              "      <td>1673.0</td>\n",
              "    </tr>\n",
              "    <tr>\n",
              "      <th>2019-12-28</th>\n",
              "      <td>59.0000</td>\n",
              "      <td>10.416557</td>\n",
              "      <td>0.0</td>\n",
              "      <td>0.0</td>\n",
              "      <td>-0.034194</td>\n",
              "      <td>981.0</td>\n",
              "    </tr>\n",
              "    <tr>\n",
              "      <th>2019-12-29</th>\n",
              "      <td>75.2917</td>\n",
              "      <td>8.333661</td>\n",
              "      <td>0.0</td>\n",
              "      <td>0.0</td>\n",
              "      <td>0.000000</td>\n",
              "      <td>-1754.0</td>\n",
              "    </tr>\n",
              "    <tr>\n",
              "      <th>2019-12-30</th>\n",
              "      <td>48.3333</td>\n",
              "      <td>23.500518</td>\n",
              "      <td>0.0</td>\n",
              "      <td>0.0</td>\n",
              "      <td>0.102500</td>\n",
              "      <td>455.0</td>\n",
              "    </tr>\n",
              "    <tr>\n",
              "      <th>2019-12-31</th>\n",
              "      <td>57.7500</td>\n",
              "      <td>10.374682</td>\n",
              "      <td>0.0</td>\n",
              "      <td>0.0</td>\n",
              "      <td>-1.640000</td>\n",
              "      <td>933.0</td>\n",
              "    </tr>\n",
              "  </tbody>\n",
              "</table>\n",
              "<p>146 rows × 6 columns</p>\n",
              "</div>"
            ],
            "text/plain": [
              "                hum  windspeed  diff_season  diff_mnth  diff_temp  diff_cnt\n",
              "dteday                                                                     \n",
              "2019-08-08  67.2917   7.416900          0.0        0.0   0.580847     261.0\n",
              "2019-08-09  62.0417  10.458700          0.0        0.0   0.239153    -248.0\n",
              "2019-08-10  71.5833  16.000471          0.0        0.0  -1.640000   -1500.0\n",
              "2019-08-11  73.2917  13.834093          0.0        0.0  -0.956653     513.0\n",
              "2019-08-12  53.0417   8.208304          0.0        0.0   0.341653     245.0\n",
              "...             ...        ...          ...        ...        ...       ...\n",
              "2019-12-27  65.2917  23.458911          0.0        0.0   0.444194    1673.0\n",
              "2019-12-28  59.0000  10.416557          0.0        0.0  -0.034194     981.0\n",
              "2019-12-29  75.2917   8.333661          0.0        0.0   0.000000   -1754.0\n",
              "2019-12-30  48.3333  23.500518          0.0        0.0   0.102500     455.0\n",
              "2019-12-31  57.7500  10.374682          0.0        0.0  -1.640000     933.0\n",
              "\n",
              "[146 rows x 6 columns]"
            ]
          },
          "execution_count": 57,
          "metadata": {},
          "output_type": "execute_result"
        }
      ],
      "source": [
        "train = stat_dataset[:int(0.8*(len(stat_dataset)))]\n",
        "test = stat_dataset[int(0.8*(len(stat_dataset))):]\n",
        "test"
      ]
    },
    {
      "cell_type": "code",
      "execution_count": null,
      "id": "f1cbebed",
      "metadata": {
        "id": "f1cbebed",
        "outputId": "790f7a21-28ca-4ea0-d846-d63c1cfe9c19"
      },
      "outputs": [
        {
          "name": "stdout",
          "output_type": "stream",
          "text": [
            "(583, 6) (146, 6)\n"
          ]
        }
      ],
      "source": [
        "print(train.shape, test.shape)"
      ]
    },
    {
      "cell_type": "code",
      "execution_count": null,
      "id": "40eb4f61",
      "metadata": {
        "id": "40eb4f61",
        "outputId": "7e8d24ab-167b-476e-b37e-506767aea6d8"
      },
      "outputs": [
        {
          "name": "stdout",
          "output_type": "stream",
          "text": [
            "Order ==  1\n",
            "AIC: 17.923457732702886\n",
            "BIC: 18.23856384748763\n",
            "Order ==  2\n",
            "AIC: 17.782030375884275\n",
            "BIC: 18.368003799351484\n",
            "Order ==  3\n",
            "AIC: 17.81730357414676\n",
            "BIC: 18.674864270359883\n",
            "Order ==  4\n",
            "AIC: 17.84313472333259\n",
            "BIC: 18.973005831512125\n",
            "Order ==  5\n",
            "AIC: 17.864337792609835\n",
            "BIC: 19.26724564654247\n",
            "Order ==  6\n",
            "AIC: 17.914079806382976\n",
            "BIC: 19.59075395398228\n",
            "Order ==  7\n",
            "AIC: 17.967182438852145\n",
            "BIC: 19.91835566187218\n",
            "Order ==  8\n",
            "AIC: 18.01007782596019\n",
            "BIC: 20.23648615986353\n",
            "Order ==  9\n",
            "AIC: 18.061195440174227\n",
            "BIC: 20.56357819415586\n",
            "Order ==  10\n",
            "AIC: 18.127633958409476\n",
            "BIC: 20.906733735578054\n",
            "Order ==  11\n",
            "AIC: 17.158295208671724\n",
            "BIC: 20.214857926389694\n",
            "Order ==  12\n",
            "AIC: 17.213973506704782\n",
            "BIC: 20.548748417088902\n",
            "Order ==  13\n",
            "AIC: 17.21245212399144\n",
            "BIC: 20.82619183457522\n",
            "Order ==  14\n",
            "AIC: 17.230107582656334\n",
            "BIC: 21.123568077215964\n"
          ]
        }
      ],
      "source": [
        "model = VAR(train, freq='D')\n",
        "\n",
        "for i in range(1,15):\n",
        "    results = model.fit(i)\n",
        "    print('Order == ', i)\n",
        "    print('AIC:', results.aic)\n",
        "    print('BIC:', results.bic)"
      ]
    },
    {
      "cell_type": "code",
      "execution_count": null,
      "id": "d88e2baa",
      "metadata": {
        "id": "d88e2baa",
        "outputId": "8baa230a-b3da-4655-d3b3-c81727e0a668"
      },
      "outputs": [
        {
          "data": {
            "text/html": [
              "<table class=\"simpletable\">\n",
              "<caption>VAR Order Selection (* highlights the minimums)</caption>\n",
              "<tr>\n",
              "   <td></td>      <th>AIC</th>         <th>BIC</th>         <th>FPE</th>        <th>HQIC</th>    \n",
              "</tr>\n",
              "<tr>\n",
              "  <th>0</th>  <td>     18.98</td>  <td>     19.03</td>  <td> 1.755e+08</td>  <td>     19.00</td> \n",
              "</tr>\n",
              "<tr>\n",
              "  <th>1</th>  <td>     18.03</td>  <td>     18.35*</td> <td> 6.742e+07</td>  <td>     18.15</td> \n",
              "</tr>\n",
              "<tr>\n",
              "  <th>2</th>  <td>     17.90</td>  <td>     18.50</td>  <td> 5.926e+07</td>  <td>     18.13*</td>\n",
              "</tr>\n",
              "<tr>\n",
              "  <th>3</th>  <td>     17.93</td>  <td>     18.80</td>  <td> 6.095e+07</td>  <td>     18.27</td> \n",
              "</tr>\n",
              "<tr>\n",
              "  <th>4</th>  <td>     17.95</td>  <td>     19.10</td>  <td> 6.228e+07</td>  <td>     18.40</td> \n",
              "</tr>\n",
              "<tr>\n",
              "  <th>5</th>  <td>     17.96</td>  <td>     19.39</td>  <td> 6.317e+07</td>  <td>     18.52</td> \n",
              "</tr>\n",
              "<tr>\n",
              "  <th>6</th>  <td>     18.01</td>  <td>     19.71</td>  <td> 6.627e+07</td>  <td>     18.67</td> \n",
              "</tr>\n",
              "<tr>\n",
              "  <th>7</th>  <td>     18.06</td>  <td>     20.04</td>  <td> 6.958e+07</td>  <td>     18.83</td> \n",
              "</tr>\n",
              "<tr>\n",
              "  <th>8</th>  <td>     18.10</td>  <td>     20.36</td>  <td> 7.272e+07</td>  <td>     18.98</td> \n",
              "</tr>\n",
              "<tr>\n",
              "  <th>9</th>  <td>     18.14</td>  <td>     20.68</td>  <td> 7.605e+07</td>  <td>     19.13</td> \n",
              "</tr>\n",
              "<tr>\n",
              "  <th>10</th> <td>     18.20</td>  <td>     21.01</td>  <td> 8.066e+07</td>  <td>     19.30</td> \n",
              "</tr>\n",
              "<tr>\n",
              "  <th>11</th> <td>     17.23*</td> <td>     20.32</td>  <td> 3.050e+07*</td> <td>     18.43</td> \n",
              "</tr>\n",
              "<tr>\n",
              "  <th>12</th> <td>     17.28</td>  <td>     20.64</td>  <td> 3.213e+07</td>  <td>     18.59</td> \n",
              "</tr>\n",
              "<tr>\n",
              "  <th>13</th> <td>     17.27</td>  <td>     20.91</td>  <td> 3.185e+07</td>  <td>     18.69</td> \n",
              "</tr>\n",
              "<tr>\n",
              "  <th>14</th> <td>     17.27</td>  <td>     21.19</td>  <td> 3.214e+07</td>  <td>     18.80</td> \n",
              "</tr>\n",
              "<tr>\n",
              "  <th>15</th> <td>     17.33</td>  <td>     21.52</td>  <td> 3.408e+07</td>  <td>     18.97</td> \n",
              "</tr>\n",
              "<tr>\n",
              "  <th>16</th> <td>     17.38</td>  <td>     21.86</td>  <td> 3.623e+07</td>  <td>     19.13</td> \n",
              "</tr>\n",
              "<tr>\n",
              "  <th>17</th> <td>     17.45</td>  <td>     22.20</td>  <td> 3.895e+07</td>  <td>     19.31</td> \n",
              "</tr>\n",
              "<tr>\n",
              "  <th>18</th> <td>     17.53</td>  <td>     22.56</td>  <td> 4.227e+07</td>  <td>     19.49</td> \n",
              "</tr>\n",
              "<tr>\n",
              "  <th>19</th> <td>     17.59</td>  <td>     22.89</td>  <td> 4.512e+07</td>  <td>     19.66</td> \n",
              "</tr>\n",
              "</table>"
            ],
            "text/plain": [
              "<class 'statsmodels.iolib.table.SimpleTable'>"
            ]
          },
          "execution_count": 64,
          "metadata": {},
          "output_type": "execute_result"
        }
      ],
      "source": [
        "model.select_order().summary()"
      ]
    },
    {
      "cell_type": "code",
      "execution_count": null,
      "id": "b6c42093",
      "metadata": {
        "id": "b6c42093",
        "outputId": "3d09b191-a373-44c8-ba73-cded71be4920"
      },
      "outputs": [
        {
          "data": {
            "text/html": [
              "<div>\n",
              "<style scoped>\n",
              "    .dataframe tbody tr th:only-of-type {\n",
              "        vertical-align: middle;\n",
              "    }\n",
              "\n",
              "    .dataframe tbody tr th {\n",
              "        vertical-align: top;\n",
              "    }\n",
              "\n",
              "    .dataframe thead th {\n",
              "        text-align: right;\n",
              "    }\n",
              "</style>\n",
              "<table border=\"1\" class=\"dataframe\">\n",
              "  <thead>\n",
              "    <tr style=\"text-align: right;\">\n",
              "      <th></th>\n",
              "      <th>season</th>\n",
              "      <th>mnth</th>\n",
              "      <th>hum</th>\n",
              "      <th>temp</th>\n",
              "      <th>windspeed</th>\n",
              "      <th>cnt</th>\n",
              "    </tr>\n",
              "    <tr>\n",
              "      <th>dteday</th>\n",
              "      <th></th>\n",
              "      <th></th>\n",
              "      <th></th>\n",
              "      <th></th>\n",
              "      <th></th>\n",
              "      <th></th>\n",
              "    </tr>\n",
              "  </thead>\n",
              "  <tbody>\n",
              "    <tr>\n",
              "      <th>2019-08-08</th>\n",
              "      <td>3</td>\n",
              "      <td>8</td>\n",
              "      <td>67.2917</td>\n",
              "      <td>30.750000</td>\n",
              "      <td>7.416900</td>\n",
              "      <td>7534</td>\n",
              "    </tr>\n",
              "    <tr>\n",
              "      <th>2019-08-09</th>\n",
              "      <td>3</td>\n",
              "      <td>8</td>\n",
              "      <td>62.0417</td>\n",
              "      <td>30.989153</td>\n",
              "      <td>10.458700</td>\n",
              "      <td>7286</td>\n",
              "    </tr>\n",
              "    <tr>\n",
              "      <th>2019-08-10</th>\n",
              "      <td>3</td>\n",
              "      <td>8</td>\n",
              "      <td>71.5833</td>\n",
              "      <td>29.349153</td>\n",
              "      <td>16.000471</td>\n",
              "      <td>5786</td>\n",
              "    </tr>\n",
              "    <tr>\n",
              "      <th>2019-08-11</th>\n",
              "      <td>3</td>\n",
              "      <td>8</td>\n",
              "      <td>73.2917</td>\n",
              "      <td>28.392500</td>\n",
              "      <td>13.834093</td>\n",
              "      <td>6299</td>\n",
              "    </tr>\n",
              "    <tr>\n",
              "      <th>2019-08-12</th>\n",
              "      <td>3</td>\n",
              "      <td>8</td>\n",
              "      <td>53.0417</td>\n",
              "      <td>28.734153</td>\n",
              "      <td>8.208304</td>\n",
              "      <td>6544</td>\n",
              "    </tr>\n",
              "    <tr>\n",
              "      <th>...</th>\n",
              "      <td>...</td>\n",
              "      <td>...</td>\n",
              "      <td>...</td>\n",
              "      <td>...</td>\n",
              "      <td>...</td>\n",
              "      <td>...</td>\n",
              "    </tr>\n",
              "    <tr>\n",
              "      <th>2019-12-27</th>\n",
              "      <td>1</td>\n",
              "      <td>12</td>\n",
              "      <td>65.2917</td>\n",
              "      <td>10.420847</td>\n",
              "      <td>23.458911</td>\n",
              "      <td>2114</td>\n",
              "    </tr>\n",
              "    <tr>\n",
              "      <th>2019-12-28</th>\n",
              "      <td>1</td>\n",
              "      <td>12</td>\n",
              "      <td>59.0000</td>\n",
              "      <td>10.386653</td>\n",
              "      <td>10.416557</td>\n",
              "      <td>3095</td>\n",
              "    </tr>\n",
              "    <tr>\n",
              "      <th>2019-12-29</th>\n",
              "      <td>1</td>\n",
              "      <td>12</td>\n",
              "      <td>75.2917</td>\n",
              "      <td>10.386653</td>\n",
              "      <td>8.333661</td>\n",
              "      <td>1341</td>\n",
              "    </tr>\n",
              "    <tr>\n",
              "      <th>2019-12-30</th>\n",
              "      <td>1</td>\n",
              "      <td>12</td>\n",
              "      <td>48.3333</td>\n",
              "      <td>10.489153</td>\n",
              "      <td>23.500518</td>\n",
              "      <td>1796</td>\n",
              "    </tr>\n",
              "    <tr>\n",
              "      <th>2019-12-31</th>\n",
              "      <td>1</td>\n",
              "      <td>12</td>\n",
              "      <td>57.7500</td>\n",
              "      <td>8.849153</td>\n",
              "      <td>10.374682</td>\n",
              "      <td>2729</td>\n",
              "    </tr>\n",
              "  </tbody>\n",
              "</table>\n",
              "<p>146 rows × 6 columns</p>\n",
              "</div>"
            ],
            "text/plain": [
              "            season  mnth      hum       temp  windspeed   cnt\n",
              "dteday                                                       \n",
              "2019-08-08       3     8  67.2917  30.750000   7.416900  7534\n",
              "2019-08-09       3     8  62.0417  30.989153  10.458700  7286\n",
              "2019-08-10       3     8  71.5833  29.349153  16.000471  5786\n",
              "2019-08-11       3     8  73.2917  28.392500  13.834093  6299\n",
              "2019-08-12       3     8  53.0417  28.734153   8.208304  6544\n",
              "...            ...   ...      ...        ...        ...   ...\n",
              "2019-12-27       1    12  65.2917  10.420847  23.458911  2114\n",
              "2019-12-28       1    12  59.0000  10.386653  10.416557  3095\n",
              "2019-12-29       1    12  75.2917  10.386653   8.333661  1341\n",
              "2019-12-30       1    12  48.3333  10.489153  23.500518  1796\n",
              "2019-12-31       1    12  57.7500   8.849153  10.374682  2729\n",
              "\n",
              "[146 rows x 6 columns]"
            ]
          },
          "execution_count": 66,
          "metadata": {},
          "output_type": "execute_result"
        }
      ],
      "source": [
        "train = new[:int(0.8*(len(new)))]\n",
        "test = new[int(0.8*(len(new))):]\n",
        "test"
      ]
    },
    {
      "cell_type": "code",
      "execution_count": null,
      "id": "4a26472a",
      "metadata": {
        "id": "4a26472a"
      },
      "outputs": [],
      "source": [
        "from statsmodels.tsa.vector_ar.var_model import VAR"
      ]
    },
    {
      "cell_type": "code",
      "execution_count": null,
      "id": "f89b679b",
      "metadata": {
        "id": "f89b679b",
        "outputId": "51763f10-457e-4c9a-d5bb-b4b7a28ec3de"
      },
      "outputs": [
        {
          "data": {
            "text/plain": [
              "array([[3.02628693e+00, 8.22786577e+00, 7.16260927e+01, 3.03360272e+01,\n",
              "        1.03503869e+01, 7.03538713e+03],\n",
              "       [3.00579037e+00, 8.25211516e+00, 6.83752133e+01, 3.08411456e+01,\n",
              "        1.13317981e+01, 7.21874492e+03],\n",
              "       [3.02121859e+00, 8.22192914e+00, 6.45655495e+01, 3.02207705e+01,\n",
              "        1.08787758e+01, 7.00242299e+03],\n",
              "       [3.02771038e+00, 8.19296769e+00, 6.30001464e+01, 3.08005656e+01,\n",
              "        1.19227170e+01, 6.89632890e+03],\n",
              "       [3.05698851e+00, 8.11779889e+00, 6.26574830e+01, 3.10379665e+01,\n",
              "        1.13890087e+01, 7.10297372e+03],\n",
              "       [3.12138402e+00, 8.15871224e+00, 6.60801710e+01, 3.12871038e+01,\n",
              "        1.11372501e+01, 7.02206209e+03],\n",
              "       [3.14591157e+00, 8.22393058e+00, 6.57558588e+01, 3.11455522e+01,\n",
              "        1.21194250e+01, 6.90966517e+03],\n",
              "       [3.15025417e+00, 8.33496461e+00, 6.58294053e+01, 3.05635837e+01,\n",
              "        1.14517482e+01, 6.81226353e+03],\n",
              "       [3.17179681e+00, 8.29965921e+00, 6.68406912e+01, 3.05811330e+01,\n",
              "        1.10795420e+01, 6.69233027e+03],\n",
              "       [3.18804222e+00, 8.26004506e+00, 6.46292344e+01, 3.05562899e+01,\n",
              "        1.12678402e+01, 6.88297423e+03],\n",
              "       [3.19663456e+00, 8.23727040e+00, 6.27239498e+01, 3.06675259e+01,\n",
              "        1.15697814e+01, 7.06694647e+03],\n",
              "       [3.20187043e+00, 8.24449588e+00, 6.25112951e+01, 3.06045949e+01,\n",
              "        1.14524717e+01, 6.98429099e+03],\n",
              "       [3.20204165e+00, 8.23128515e+00, 6.39559599e+01, 3.06771382e+01,\n",
              "        1.12562565e+01, 6.95092354e+03],\n",
              "       [3.21196634e+00, 8.24960676e+00, 6.40226047e+01, 3.06114460e+01,\n",
              "        1.16319129e+01, 6.84781847e+03],\n",
              "       [3.22870981e+00, 8.25794022e+00, 6.44780980e+01, 3.04265112e+01,\n",
              "        1.13836969e+01, 6.77002375e+03],\n",
              "       [3.24192340e+00, 8.27503613e+00, 6.40202863e+01, 3.04652805e+01,\n",
              "        1.14730497e+01, 6.83543460e+03],\n",
              "       [3.25197790e+00, 8.34703928e+00, 6.30832718e+01, 3.04993761e+01,\n",
              "        1.14417074e+01, 6.84320196e+03],\n",
              "       [3.26043401e+00, 8.42013512e+00, 6.36190150e+01, 3.05942881e+01,\n",
              "        1.12084797e+01, 6.84554536e+03],\n",
              "       [3.26637977e+00, 8.47992647e+00, 6.45851990e+01, 3.05788759e+01,\n",
              "        1.10854659e+01, 6.81098897e+03],\n",
              "       [3.27466884e+00, 8.52616824e+00, 6.52044334e+01, 3.06037617e+01,\n",
              "        1.11271975e+01, 6.79635062e+03],\n",
              "       [3.28297827e+00, 8.57260639e+00, 6.47564270e+01, 3.05869214e+01,\n",
              "        1.13222510e+01, 6.77992748e+03],\n",
              "       [3.28797134e+00, 8.61506250e+00, 6.43003051e+01, 3.05437861e+01,\n",
              "        1.13836973e+01, 6.77081323e+03],\n",
              "       [3.29536560e+00, 8.64944278e+00, 6.41654931e+01, 3.04810494e+01,\n",
              "        1.14252006e+01, 6.73007480e+03],\n",
              "       [3.30340167e+00, 8.68819253e+00, 6.40119848e+01, 3.04335917e+01,\n",
              "        1.13683772e+01, 6.71919520e+03],\n",
              "       [3.31075804e+00, 8.72167775e+00, 6.44912222e+01, 3.04577635e+01,\n",
              "        1.12631752e+01, 6.70754271e+03],\n",
              "       [3.31811048e+00, 8.76170635e+00, 6.46879110e+01, 3.04603847e+01,\n",
              "        1.13304924e+01, 6.68331732e+03],\n",
              "       [3.32227493e+00, 8.80129034e+00, 6.45066912e+01, 3.04401508e+01,\n",
              "        1.13852115e+01, 6.67298676e+03],\n",
              "       [3.32837256e+00, 8.83709138e+00, 6.42489081e+01, 3.03854329e+01,\n",
              "        1.13680474e+01, 6.65753790e+03],\n",
              "       [3.33540750e+00, 8.86815167e+00, 6.42026741e+01, 3.03399696e+01,\n",
              "        1.13133770e+01, 6.64615108e+03],\n",
              "       [3.34249499e+00, 8.89141504e+00, 6.42311020e+01, 3.03238623e+01,\n",
              "        1.12696216e+01, 6.63901529e+03],\n",
              "       [3.34832467e+00, 8.91476315e+00, 6.43553251e+01, 3.03187351e+01,\n",
              "        1.12565991e+01, 6.62562430e+03],\n",
              "       [3.35331684e+00, 8.93697944e+00, 6.45324385e+01, 3.03147095e+01,\n",
              "        1.12712739e+01, 6.60841612e+03],\n",
              "       [3.35781199e+00, 8.95868651e+00, 6.46097906e+01, 3.02763249e+01,\n",
              "        1.13001257e+01, 6.58441652e+03],\n",
              "       [3.36288983e+00, 8.98131147e+00, 6.46149648e+01, 3.02354914e+01,\n",
              "        1.12904331e+01, 6.56583109e+03],\n",
              "       [3.36864303e+00, 9.00239922e+00, 6.46149517e+01, 3.01966966e+01,\n",
              "        1.12538091e+01, 6.55135513e+03],\n",
              "       [3.37411078e+00, 9.02289154e+00, 6.46218617e+01, 3.01728772e+01,\n",
              "        1.12337948e+01, 6.54196062e+03],\n",
              "       [3.37881235e+00, 9.04257754e+00, 6.46559878e+01, 3.01560385e+01,\n",
              "        1.12326773e+01, 6.52797196e+03],\n",
              "       [3.38293496e+00, 9.06046946e+00, 6.47356251e+01, 3.01266452e+01,\n",
              "        1.12250427e+01, 6.51136518e+03],\n",
              "       [3.38710375e+00, 9.07834056e+00, 6.48247614e+01, 3.00908313e+01,\n",
              "        1.12227497e+01, 6.49373460e+03],\n",
              "       [3.39136052e+00, 9.09676447e+00, 6.48659170e+01, 3.00484134e+01,\n",
              "        1.12192849e+01, 6.47660835e+03],\n",
              "       [3.39563177e+00, 9.11525007e+00, 6.48920111e+01, 3.00109304e+01,\n",
              "        1.12082279e+01, 6.46266506e+03],\n",
              "       [3.39983274e+00, 9.13288161e+00, 6.49069606e+01, 2.99794273e+01,\n",
              "        1.12026949e+01, 6.44891392e+03],\n",
              "       [3.40369356e+00, 9.14976191e+00, 6.49437411e+01, 2.99485802e+01,\n",
              "        1.11982799e+01, 6.43397343e+03],\n",
              "       [3.40732090e+00, 9.16580464e+00, 6.49972551e+01, 2.99151581e+01,\n",
              "        1.11937153e+01, 6.41784122e+03],\n",
              "       [3.41079786e+00, 9.18135628e+00, 6.50600239e+01, 2.98770396e+01,\n",
              "        1.11861657e+01, 6.40113640e+03],\n",
              "       [3.41422713e+00, 9.19693163e+00, 6.51067703e+01, 2.98382147e+01,\n",
              "        1.11831999e+01, 6.38543276e+03],\n",
              "       [3.41748419e+00, 9.21247119e+00, 6.51229497e+01, 2.97987078e+01,\n",
              "        1.11826068e+01, 6.37050720e+03],\n",
              "       [3.42063020e+00, 9.22722499e+00, 6.51454131e+01, 2.97599881e+01,\n",
              "        1.11766397e+01, 6.35586382e+03],\n",
              "       [3.42365378e+00, 9.24125750e+00, 6.51719211e+01, 2.97216125e+01,\n",
              "        1.11736431e+01, 6.34100521e+03],\n",
              "       [3.42649200e+00, 9.25475225e+00, 6.52069349e+01, 2.96825401e+01,\n",
              "        1.11702772e+01, 6.32590940e+03],\n",
              "       [3.42918193e+00, 9.26776544e+00, 6.52483816e+01, 2.96423781e+01,\n",
              "        1.11683559e+01, 6.31039121e+03],\n",
              "       [3.43169234e+00, 9.28048384e+00, 6.52819610e+01, 2.96006761e+01,\n",
              "        1.11676668e+01, 6.29490286e+03],\n",
              "       [3.43406355e+00, 9.29283085e+00, 6.53074536e+01, 2.95585969e+01,\n",
              "        1.11666125e+01, 6.27972970e+03],\n",
              "       [3.43632181e+00, 9.30477633e+00, 6.53286763e+01, 2.95161882e+01,\n",
              "        1.11643146e+01, 6.26470838e+03],\n",
              "       [3.43845087e+00, 9.31614412e+00, 6.53558627e+01, 2.94741529e+01,\n",
              "        1.11603737e+01, 6.24989663e+03],\n",
              "       [3.44044091e+00, 9.32700480e+00, 6.53852770e+01, 2.94320447e+01,\n",
              "        1.11584464e+01, 6.23498979e+03],\n",
              "       [3.44226055e+00, 9.33747731e+00, 6.54146222e+01, 2.93893550e+01,\n",
              "        1.11573679e+01, 6.22003200e+03],\n",
              "       [3.44393019e+00, 9.34745166e+00, 6.54439586e+01, 2.93456411e+01,\n",
              "        1.11565484e+01, 6.20494885e+03],\n",
              "       [3.44547259e+00, 9.35703838e+00, 6.54687782e+01, 2.93009909e+01,\n",
              "        1.11562002e+01, 6.18994648e+03],\n",
              "       [3.44689680e+00, 9.36619832e+00, 6.54911492e+01, 2.92561723e+01,\n",
              "        1.11552859e+01, 6.17516629e+03],\n",
              "       [3.44820186e+00, 9.37492271e+00, 6.55136845e+01, 2.92112902e+01,\n",
              "        1.11542374e+01, 6.16048165e+03],\n",
              "       [3.44936467e+00, 9.38320513e+00, 6.55376752e+01, 2.91665188e+01,\n",
              "        1.11537268e+01, 6.14581872e+03],\n",
              "       [3.45038243e+00, 9.39103162e+00, 6.55616009e+01, 2.91213118e+01,\n",
              "        1.11538304e+01, 6.13107217e+03],\n",
              "       [3.45126423e+00, 9.39843272e+00, 6.55850302e+01, 2.90754545e+01,\n",
              "        1.11539702e+01, 6.11632255e+03],\n",
              "       [3.45202475e+00, 9.40539422e+00, 6.56072599e+01, 2.90290728e+01,\n",
              "        1.11541478e+01, 6.10163591e+03],\n",
              "       [3.45266682e+00, 9.41194288e+00, 6.56275363e+01, 2.89823178e+01,\n",
              "        1.11544109e+01, 6.08707341e+03],\n",
              "       [3.45318719e+00, 9.41807040e+00, 6.56469047e+01, 2.89355307e+01,\n",
              "        1.11547327e+01, 6.07264000e+03],\n",
              "       [3.45358221e+00, 9.42375505e+00, 6.56665813e+01, 2.88885812e+01,\n",
              "        1.11552224e+01, 6.05823037e+03],\n",
              "       [3.45385084e+00, 9.42900862e+00, 6.56863832e+01, 2.88414138e+01,\n",
              "        1.11560986e+01, 6.04384794e+03],\n",
              "       [3.45399725e+00, 9.43384133e+00, 6.57055355e+01, 2.87938828e+01,\n",
              "        1.11572069e+01, 6.02947842e+03],\n",
              "       [3.45402738e+00, 9.43826716e+00, 6.57239282e+01, 2.87460093e+01,\n",
              "        1.11583824e+01, 6.01517329e+03],\n",
              "       [3.45394365e+00, 9.44229501e+00, 6.57411107e+01, 2.86979232e+01,\n",
              "        1.11597670e+01, 6.00094955e+03],\n",
              "       [3.45374528e+00, 9.44592109e+00, 6.57574225e+01, 2.86496640e+01,\n",
              "        1.11612111e+01, 5.98680167e+03],\n",
              "       [3.45343328e+00, 9.44914003e+00, 6.57735913e+01, 2.86012960e+01,\n",
              "        1.11627487e+01, 5.97272054e+03],\n",
              "       [3.45300799e+00, 9.45195571e+00, 6.57895896e+01, 2.85527588e+01,\n",
              "        1.11644792e+01, 5.95868668e+03],\n",
              "       [3.45247072e+00, 9.45437954e+00, 6.58052334e+01, 2.85040281e+01,\n",
              "        1.11664163e+01, 5.94470686e+03],\n",
              "       [3.45182423e+00, 9.45642171e+00, 6.58200895e+01, 2.84550963e+01,\n",
              "        1.11685417e+01, 5.93078866e+03],\n",
              "       [3.45107092e+00, 9.45808397e+00, 6.58341968e+01, 2.84059959e+01,\n",
              "        1.11707727e+01, 5.91694464e+03],\n",
              "       [3.45021332e+00, 9.45936970e+00, 6.58475578e+01, 2.83567839e+01,\n",
              "        1.11731553e+01, 5.90317719e+03],\n",
              "       [3.44925174e+00, 9.46028116e+00, 6.58603952e+01, 2.83074799e+01,\n",
              "        1.11756445e+01, 5.88948187e+03],\n",
              "       [3.44818771e+00, 9.46082095e+00, 6.58729517e+01, 2.82580954e+01,\n",
              "        1.11782674e+01, 5.87585257e+03],\n",
              "       [3.44702219e+00, 9.46099933e+00, 6.58850370e+01, 2.82086129e+01,\n",
              "        1.11810836e+01, 5.86228556e+03],\n",
              "       [3.44575682e+00, 9.46082197e+00, 6.58965861e+01, 2.81590299e+01,\n",
              "        1.11840368e+01, 5.84878661e+03],\n",
              "       [3.44439436e+00, 9.46029354e+00, 6.59075242e+01, 2.81093579e+01,\n",
              "        1.11871168e+01, 5.83536030e+03],\n",
              "       [3.44293655e+00, 9.45941783e+00, 6.59178605e+01, 2.80596275e+01,\n",
              "        1.11903089e+01, 5.82201385e+03],\n",
              "       [3.44138494e+00, 9.45819808e+00, 6.59276731e+01, 2.80098628e+01,\n",
              "        1.11936244e+01, 5.80874579e+03],\n",
              "       [3.43974050e+00, 9.45663913e+00, 6.59370285e+01, 2.79600723e+01,\n",
              "        1.11970704e+01, 5.79555286e+03],\n",
              "       [3.43800462e+00, 9.45474499e+00, 6.59459651e+01, 2.79102586e+01,\n",
              "        1.12006499e+01, 5.78243270e+03],\n",
              "       [3.43617908e+00, 9.45252227e+00, 6.59543977e+01, 2.78604196e+01,\n",
              "        1.12043694e+01, 5.76938628e+03],\n",
              "       [3.43426578e+00, 9.44997634e+00, 6.59623035e+01, 2.78105682e+01,\n",
              "        1.12082028e+01, 5.75641812e+03],\n",
              "       [3.43226670e+00, 9.44711152e+00, 6.59696874e+01, 2.77607195e+01,\n",
              "        1.12121463e+01, 5.74353029e+03],\n",
              "       [3.43018332e+00, 9.44393307e+00, 6.59765645e+01, 2.77108921e+01,\n",
              "        1.12162035e+01, 5.73072459e+03],\n",
              "       [3.42801705e+00, 9.44044505e+00, 6.59829865e+01, 2.76610966e+01,\n",
              "        1.12203707e+01, 5.71799948e+03],\n",
              "       [3.42576938e+00, 9.43665235e+00, 6.59889793e+01, 2.76113375e+01,\n",
              "        1.12246498e+01, 5.70535416e+03],\n",
              "       [3.42344193e+00, 9.43256016e+00, 6.59945291e+01, 2.75616215e+01,\n",
              "        1.12290412e+01, 5.69278960e+03],\n",
              "       [3.42103642e+00, 9.42817381e+00, 6.59996098e+01, 2.75119552e+01,\n",
              "        1.12335400e+01, 5.68030731e+03],\n",
              "       [3.41855456e+00, 9.42349838e+00, 6.60042211e+01, 2.74623515e+01,\n",
              "        1.12381398e+01, 5.66790938e+03],\n",
              "       [3.41599796e+00, 9.41853840e+00, 6.60083765e+01, 2.74128222e+01,\n",
              "        1.12428388e+01, 5.65559614e+03],\n",
              "       [3.41336814e+00, 9.41329871e+00, 6.60120969e+01, 2.73633774e+01,\n",
              "        1.12476359e+01, 5.64336787e+03],\n",
              "       [3.41066663e+00, 9.40778408e+00, 6.60154002e+01, 2.73140250e+01,\n",
              "        1.12525293e+01, 5.63122443e+03],\n",
              "       [3.40789502e+00, 9.40199956e+00, 6.60182912e+01, 2.72647711e+01,\n",
              "        1.12575177e+01, 5.61916614e+03],\n",
              "       [3.40505489e+00, 9.39595041e+00, 6.60207600e+01, 2.72156235e+01,\n",
              "        1.12626000e+01, 5.60719412e+03],\n",
              "       [3.40214787e+00, 9.38964163e+00, 6.60228049e+01, 2.71665906e+01,\n",
              "        1.12677706e+01, 5.59530929e+03],\n",
              "       [3.39917554e+00, 9.38307804e+00, 6.60244376e+01, 2.71176820e+01,\n",
              "        1.12730264e+01, 5.58351253e+03],\n",
              "       [3.39613946e+00, 9.37626445e+00, 6.60256679e+01, 2.70689067e+01,\n",
              "        1.12783666e+01, 5.57180414e+03],\n",
              "       [3.39304112e+00, 9.36920569e+00, 6.60265088e+01, 2.70202723e+01,\n",
              "        1.12837889e+01, 5.56018435e+03],\n",
              "       [3.38988206e+00, 9.36190667e+00, 6.60269666e+01, 2.69717857e+01,\n",
              "        1.12892924e+01, 5.54865340e+03],\n",
              "       [3.38666381e+00, 9.35437236e+00, 6.60270423e+01, 2.69234534e+01,\n",
              "        1.12948746e+01, 5.53721175e+03],\n",
              "       [3.38338791e+00, 9.34660768e+00, 6.60267381e+01, 2.68752830e+01,\n",
              "        1.13005327e+01, 5.52586008e+03],\n",
              "       [3.38005589e+00, 9.33861749e+00, 6.60260590e+01, 2.68272819e+01,\n",
              "        1.13062636e+01, 5.51459895e+03],\n",
              "       [3.37666927e+00, 9.33040657e+00, 6.60250152e+01, 2.67794578e+01,\n",
              "        1.13120650e+01, 5.50342880e+03],\n",
              "       [3.37322951e+00, 9.32197974e+00, 6.60236139e+01, 2.67318177e+01,\n",
              "        1.13179358e+01, 5.49234986e+03],\n",
              "       [3.36973809e+00, 9.31334179e+00, 6.60218624e+01, 2.66843680e+01,\n",
              "        1.13238736e+01, 5.48136238e+03],\n",
              "       [3.36619649e+00, 9.30449754e+00, 6.60197659e+01, 2.66371146e+01,\n",
              "        1.13298765e+01, 5.47046665e+03],\n",
              "       [3.36260617e+00, 9.29545178e+00, 6.60173274e+01, 2.65900640e+01,\n",
              "        1.13359423e+01, 5.45966310e+03],\n",
              "       [3.35896861e+00, 9.28620926e+00, 6.60145528e+01, 2.65432225e+01,\n",
              "        1.13420684e+01, 5.44895210e+03],\n",
              "       [3.35528523e+00, 9.27677470e+00, 6.60114485e+01, 2.64965965e+01,\n",
              "        1.13482527e+01, 5.43833396e+03],\n",
              "       [3.35155748e+00, 9.26715276e+00, 6.60080220e+01, 2.64501921e+01,\n",
              "        1.13544934e+01, 5.42780887e+03],\n",
              "       [3.34778675e+00, 9.25734812e+00, 6.60042799e+01, 2.64040149e+01,\n",
              "        1.13607884e+01, 5.41737700e+03],\n",
              "       [3.34397446e+00, 9.24736544e+00, 6.60002278e+01, 2.63580705e+01,\n",
              "        1.13671359e+01, 5.40703857e+03],\n",
              "       [3.34012201e+00, 9.23720935e+00, 6.59958709e+01, 2.63123640e+01,\n",
              "        1.13735336e+01, 5.39679379e+03],\n",
              "       [3.33623078e+00, 9.22688447e+00, 6.59912139e+01, 2.62669011e+01,\n",
              "        1.13799796e+01, 5.38664290e+03],\n",
              "       [3.33230215e+00, 9.21639533e+00, 6.59862631e+01, 2.62216870e+01,\n",
              "        1.13864716e+01, 5.37658608e+03],\n",
              "       [3.32833747e+00, 9.20574648e+00, 6.59810250e+01, 2.61767267e+01,\n",
              "        1.13930079e+01, 5.36662347e+03],\n",
              "       [3.32433810e+00, 9.19494241e+00, 6.59755057e+01, 2.61320253e+01,\n",
              "        1.13995865e+01, 5.35675516e+03],\n",
              "       [3.32030535e+00, 9.18398759e+00, 6.59697109e+01, 2.60875874e+01,\n",
              "        1.14062056e+01, 5.34698124e+03],\n",
              "       [3.31624056e+00, 9.17288649e+00, 6.59636462e+01, 2.60434176e+01,\n",
              "        1.14128633e+01, 5.33730182e+03],\n",
              "       [3.31214504e+00, 9.16164351e+00, 6.59573168e+01, 2.59995205e+01,\n",
              "        1.14195575e+01, 5.32771698e+03],\n",
              "       [3.30802007e+00, 9.15026302e+00, 6.59507282e+01, 2.59559003e+01,\n",
              "        1.14262865e+01, 5.31822679e+03],\n",
              "       [3.30386694e+00, 9.13874937e+00, 6.59438866e+01, 2.59125614e+01,\n",
              "        1.14330483e+01, 5.30883130e+03],\n",
              "       [3.29968693e+00, 9.12710686e+00, 6.59367976e+01, 2.58695078e+01,\n",
              "        1.14398411e+01, 5.29953051e+03],\n",
              "       [3.29548127e+00, 9.11533977e+00, 6.59294669e+01, 2.58267436e+01,\n",
              "        1.14466632e+01, 5.29032442e+03],\n",
              "       [3.29125122e+00, 9.10345232e+00, 6.59219000e+01, 2.57842725e+01,\n",
              "        1.14535128e+01, 5.28121303e+03],\n",
              "       [3.28699800e+00, 9.09144873e+00, 6.59141022e+01, 2.57420982e+01,\n",
              "        1.14603881e+01, 5.27219631e+03],\n",
              "       [3.28272283e+00, 9.07933315e+00, 6.59060788e+01, 2.57002242e+01,\n",
              "        1.14672874e+01, 5.26327423e+03],\n",
              "       [3.27842690e+00, 9.06710971e+00, 6.58978354e+01, 2.56586541e+01,\n",
              "        1.14742088e+01, 5.25444673e+03],\n",
              "       [3.27411140e+00, 9.05478250e+00, 6.58893775e+01, 2.56173912e+01,\n",
              "        1.14811508e+01, 5.24571374e+03],\n",
              "       [3.26977750e+00, 9.04235555e+00, 6.58807105e+01, 2.55764387e+01,\n",
              "        1.14881116e+01, 5.23707516e+03],\n",
              "       [3.26542637e+00, 9.02983289e+00, 6.58718396e+01, 2.55357995e+01,\n",
              "        1.14950896e+01, 5.22853089e+03],\n",
              "       [3.26105913e+00, 9.01721848e+00, 6.58627702e+01, 2.54954767e+01,\n",
              "        1.15020832e+01, 5.22008080e+03],\n",
              "       [3.25667692e+00, 9.00451625e+00, 6.58535074e+01, 2.54554731e+01,\n",
              "        1.15090907e+01, 5.21172478e+03],\n",
              "       [3.25228086e+00, 8.99173008e+00, 6.58440563e+01, 2.54157914e+01,\n",
              "        1.15161106e+01, 5.20346267e+03],\n",
              "       [3.24787205e+00, 8.97886384e+00, 6.58344222e+01, 2.53764342e+01,\n",
              "        1.15231412e+01, 5.19529431e+03],\n",
              "       [3.24345157e+00, 8.96592131e+00, 6.58246103e+01, 2.53374040e+01,\n",
              "        1.15301811e+01, 5.18721952e+03],\n",
              "       [3.23902048e+00, 8.95290627e+00, 6.58146256e+01, 2.52987032e+01,\n",
              "        1.15372286e+01, 5.17923811e+03],\n",
              "       [3.23457986e+00, 8.93982245e+00, 6.58044730e+01, 2.52603339e+01,\n",
              "        1.15442824e+01, 5.17134989e+03]])"
            ]
          },
          "execution_count": 72,
          "metadata": {},
          "output_type": "execute_result"
        }
      ],
      "source": [
        "model = VAR(train, freq='D')\n",
        "var_model = model.fit(11)\n",
        "\n",
        "y = 'cnt'\n",
        "y_hat = var_model.forecast(var_model.y, steps= 146)\n",
        "y_hat"
      ]
    },
    {
      "cell_type": "code",
      "execution_count": null,
      "id": "1a7b80ec",
      "metadata": {
        "scrolled": true,
        "id": "1a7b80ec",
        "outputId": "cea44bc8-d29f-4649-8f6a-a36fc2125842"
      },
      "outputs": [
        {
          "data": {
            "text/plain": [
              "array([7035.38713312, 7218.74491657, 7002.42298914, 6896.32890281,\n",
              "       7102.97372445, 7022.06209445, 6909.66517256, 6812.26352735,\n",
              "       6692.33026882, 6882.97423379, 7066.94646731, 6984.2909924 ,\n",
              "       6950.92353584, 6847.81847242, 6770.02374947, 6835.43460239,\n",
              "       6843.20195787, 6845.54535984, 6810.98896856, 6796.35061824,\n",
              "       6779.9274834 , 6770.81322812, 6730.07479802, 6719.1952011 ,\n",
              "       6707.54271423, 6683.31732103, 6672.98675532, 6657.53789518,\n",
              "       6646.15107749, 6639.01528801, 6625.62430346, 6608.41611822,\n",
              "       6584.41651962, 6565.83108868, 6551.35512858, 6541.9606155 ,\n",
              "       6527.97196017, 6511.3651829 , 6493.73460366, 6476.60835321,\n",
              "       6462.66506036, 6448.91392208, 6433.97343273, 6417.84121602,\n",
              "       6401.13640441, 6385.4327641 , 6370.50720452, 6355.8638235 ,\n",
              "       6341.00521365, 6325.90940421, 6310.39121456, 6294.90285708,\n",
              "       6279.7296962 , 6264.70837604, 6249.89663114, 6234.98979224,\n",
              "       6220.03200474, 6204.94884971, 6189.94647961, 6175.166293  ,\n",
              "       6160.4816497 , 6145.81872016, 6131.07217186, 6116.32255198,\n",
              "       6101.63590852, 6087.07340535, 6072.63999566, 6058.23037077,\n",
              "       6043.84794025, 6029.4784249 , 6015.17328697, 6000.94954511,\n",
              "       5986.80166901, 5972.72053945, 5958.68668439, 5944.70685525,\n",
              "       5930.78866259, 5916.94464422, 5903.17718672, 5889.48187231,\n",
              "       5875.85256719, 5862.28556406, 5848.78661037, 5835.36029931,\n",
              "       5822.01385423, 5808.74578876, 5795.55286091, 5782.43270191,\n",
              "       5769.38627969, 5756.41811785, 5743.53028986, 5730.72459279,\n",
              "       5717.99947756, 5705.35415551, 5692.78959859, 5680.30731376,\n",
              "       5667.90937842, 5655.59613939, 5643.36786656, 5631.22443428,\n",
              "       5619.16614013, 5607.19412383, 5595.30929497, 5583.51252744,\n",
              "       5571.804138  , 5560.18434825, 5548.65339979, 5537.21175427,\n",
              "       5525.86008169, 5514.59895275, 5503.42879833, 5492.34985892,\n",
              "       5481.36237587, 5470.46665346, 5459.66309914, 5448.95210393,\n",
              "       5438.33395547, 5427.80886878, 5417.37700213, 5407.0385661 ,\n",
              "       5396.79378674, 5386.64289817, 5376.58608476, 5366.62347014,\n",
              "       5356.75516061, 5346.98124268, 5337.3018179 , 5327.71697734,\n",
              "       5318.22678985, 5308.83129606, 5299.53050627, 5290.32442098,\n",
              "       5281.21302827, 5272.1963093 , 5263.27422965, 5254.44673245,\n",
              "       5245.71374077, 5237.07516028, 5228.5308858 , 5220.08080084,\n",
              "       5211.72477606, 5203.46266561, 5195.29430628, 5187.21951958,\n",
              "       5179.23811432, 5171.34988783])"
            ]
          },
          "execution_count": 73,
          "metadata": {},
          "output_type": "execute_result"
        }
      ],
      "source": [
        "y_hat[:,-1]"
      ]
    },
    {
      "cell_type": "code",
      "execution_count": null,
      "id": "754fe3ce",
      "metadata": {
        "id": "754fe3ce",
        "outputId": "b2e490b7-626b-4577-cf0b-ae3db0b32290"
      },
      "outputs": [
        {
          "data": {
            "text/html": [
              "<div>\n",
              "<style scoped>\n",
              "    .dataframe tbody tr th:only-of-type {\n",
              "        vertical-align: middle;\n",
              "    }\n",
              "\n",
              "    .dataframe tbody tr th {\n",
              "        vertical-align: top;\n",
              "    }\n",
              "\n",
              "    .dataframe thead th {\n",
              "        text-align: right;\n",
              "    }\n",
              "</style>\n",
              "<table border=\"1\" class=\"dataframe\">\n",
              "  <thead>\n",
              "    <tr style=\"text-align: right;\">\n",
              "      <th></th>\n",
              "      <th>Cnt_pred</th>\n",
              "    </tr>\n",
              "    <tr>\n",
              "      <th>dteday</th>\n",
              "      <th></th>\n",
              "    </tr>\n",
              "  </thead>\n",
              "  <tbody>\n",
              "    <tr>\n",
              "      <th>2019-08-08</th>\n",
              "      <td>7035.387133</td>\n",
              "    </tr>\n",
              "    <tr>\n",
              "      <th>2019-08-09</th>\n",
              "      <td>7218.744917</td>\n",
              "    </tr>\n",
              "    <tr>\n",
              "      <th>2019-08-10</th>\n",
              "      <td>7002.422989</td>\n",
              "    </tr>\n",
              "    <tr>\n",
              "      <th>2019-08-11</th>\n",
              "      <td>6896.328903</td>\n",
              "    </tr>\n",
              "    <tr>\n",
              "      <th>2019-08-12</th>\n",
              "      <td>7102.973724</td>\n",
              "    </tr>\n",
              "    <tr>\n",
              "      <th>...</th>\n",
              "      <td>...</td>\n",
              "    </tr>\n",
              "    <tr>\n",
              "      <th>2019-12-27</th>\n",
              "      <td>5203.462666</td>\n",
              "    </tr>\n",
              "    <tr>\n",
              "      <th>2019-12-28</th>\n",
              "      <td>5195.294306</td>\n",
              "    </tr>\n",
              "    <tr>\n",
              "      <th>2019-12-29</th>\n",
              "      <td>5187.219520</td>\n",
              "    </tr>\n",
              "    <tr>\n",
              "      <th>2019-12-30</th>\n",
              "      <td>5179.238114</td>\n",
              "    </tr>\n",
              "    <tr>\n",
              "      <th>2019-12-31</th>\n",
              "      <td>5171.349888</td>\n",
              "    </tr>\n",
              "  </tbody>\n",
              "</table>\n",
              "<p>146 rows × 1 columns</p>\n",
              "</div>"
            ],
            "text/plain": [
              "               Cnt_pred\n",
              "dteday                 \n",
              "2019-08-08  7035.387133\n",
              "2019-08-09  7218.744917\n",
              "2019-08-10  7002.422989\n",
              "2019-08-11  6896.328903\n",
              "2019-08-12  7102.973724\n",
              "...                 ...\n",
              "2019-12-27  5203.462666\n",
              "2019-12-28  5195.294306\n",
              "2019-12-29  5187.219520\n",
              "2019-12-30  5179.238114\n",
              "2019-12-31  5171.349888\n",
              "\n",
              "[146 rows x 1 columns]"
            ]
          },
          "execution_count": 75,
          "metadata": {},
          "output_type": "execute_result"
        }
      ],
      "source": [
        "y_pred = pd.DataFrame(y_hat[:,-1])\n",
        "y_pred.index = test.index\n",
        "y_pred.columns = ['Cnt_pred']\n",
        "y_pred"
      ]
    },
    {
      "cell_type": "code",
      "execution_count": null,
      "id": "6db9367e",
      "metadata": {
        "id": "6db9367e"
      },
      "outputs": [],
      "source": [
        "def MAPE(y_test, y_pred):\n",
        "    y_test, y_pred = np.array(y_test), np.array(y_pred)\n",
        "    return np.mean(np.abs(y_test-y_pred)/y_test)*100"
      ]
    },
    {
      "cell_type": "code",
      "execution_count": null,
      "id": "c5df4957",
      "metadata": {
        "id": "c5df4957",
        "outputId": "0880d48f-bc70-46f0-f7aa-0429887607ae"
      },
      "outputs": [
        {
          "data": {
            "text/plain": [
              "236.7329032183354"
            ]
          },
          "execution_count": 78,
          "metadata": {},
          "output_type": "execute_result"
        }
      ],
      "source": [
        "MAPE(test['cnt'], y_pred)\n",
        "# error is 236%"
      ]
    },
    {
      "cell_type": "code",
      "execution_count": null,
      "id": "a6972f6b",
      "metadata": {
        "id": "a6972f6b",
        "outputId": "00c1dc3d-584a-4150-b0db-7eb69b3dbb7c"
      },
      "outputs": [
        {
          "data": {
            "text/html": [
              "<div>\n",
              "<style scoped>\n",
              "    .dataframe tbody tr th:only-of-type {\n",
              "        vertical-align: middle;\n",
              "    }\n",
              "\n",
              "    .dataframe tbody tr th {\n",
              "        vertical-align: top;\n",
              "    }\n",
              "\n",
              "    .dataframe thead th {\n",
              "        text-align: right;\n",
              "    }\n",
              "</style>\n",
              "<table border=\"1\" class=\"dataframe\">\n",
              "  <thead>\n",
              "    <tr style=\"text-align: right;\">\n",
              "      <th></th>\n",
              "      <th>season</th>\n",
              "      <th>mnth</th>\n",
              "      <th>hum</th>\n",
              "      <th>temp</th>\n",
              "      <th>windspeed</th>\n",
              "      <th>cnt</th>\n",
              "    </tr>\n",
              "    <tr>\n",
              "      <th>dteday</th>\n",
              "      <th></th>\n",
              "      <th></th>\n",
              "      <th></th>\n",
              "      <th></th>\n",
              "      <th></th>\n",
              "      <th></th>\n",
              "    </tr>\n",
              "  </thead>\n",
              "  <tbody>\n",
              "    <tr>\n",
              "      <th>2019-08-08</th>\n",
              "      <td>3</td>\n",
              "      <td>8</td>\n",
              "      <td>67.2917</td>\n",
              "      <td>30.750000</td>\n",
              "      <td>7.416900</td>\n",
              "      <td>7534</td>\n",
              "    </tr>\n",
              "    <tr>\n",
              "      <th>2019-08-09</th>\n",
              "      <td>3</td>\n",
              "      <td>8</td>\n",
              "      <td>62.0417</td>\n",
              "      <td>30.989153</td>\n",
              "      <td>10.458700</td>\n",
              "      <td>7286</td>\n",
              "    </tr>\n",
              "    <tr>\n",
              "      <th>2019-08-10</th>\n",
              "      <td>3</td>\n",
              "      <td>8</td>\n",
              "      <td>71.5833</td>\n",
              "      <td>29.349153</td>\n",
              "      <td>16.000471</td>\n",
              "      <td>5786</td>\n",
              "    </tr>\n",
              "    <tr>\n",
              "      <th>2019-08-11</th>\n",
              "      <td>3</td>\n",
              "      <td>8</td>\n",
              "      <td>73.2917</td>\n",
              "      <td>28.392500</td>\n",
              "      <td>13.834093</td>\n",
              "      <td>6299</td>\n",
              "    </tr>\n",
              "    <tr>\n",
              "      <th>2019-08-12</th>\n",
              "      <td>3</td>\n",
              "      <td>8</td>\n",
              "      <td>53.0417</td>\n",
              "      <td>28.734153</td>\n",
              "      <td>8.208304</td>\n",
              "      <td>6544</td>\n",
              "    </tr>\n",
              "    <tr>\n",
              "      <th>...</th>\n",
              "      <td>...</td>\n",
              "      <td>...</td>\n",
              "      <td>...</td>\n",
              "      <td>...</td>\n",
              "      <td>...</td>\n",
              "      <td>...</td>\n",
              "    </tr>\n",
              "    <tr>\n",
              "      <th>2019-12-27</th>\n",
              "      <td>1</td>\n",
              "      <td>12</td>\n",
              "      <td>65.2917</td>\n",
              "      <td>10.420847</td>\n",
              "      <td>23.458911</td>\n",
              "      <td>2114</td>\n",
              "    </tr>\n",
              "    <tr>\n",
              "      <th>2019-12-28</th>\n",
              "      <td>1</td>\n",
              "      <td>12</td>\n",
              "      <td>59.0000</td>\n",
              "      <td>10.386653</td>\n",
              "      <td>10.416557</td>\n",
              "      <td>3095</td>\n",
              "    </tr>\n",
              "    <tr>\n",
              "      <th>2019-12-29</th>\n",
              "      <td>1</td>\n",
              "      <td>12</td>\n",
              "      <td>75.2917</td>\n",
              "      <td>10.386653</td>\n",
              "      <td>8.333661</td>\n",
              "      <td>1341</td>\n",
              "    </tr>\n",
              "    <tr>\n",
              "      <th>2019-12-30</th>\n",
              "      <td>1</td>\n",
              "      <td>12</td>\n",
              "      <td>48.3333</td>\n",
              "      <td>10.489153</td>\n",
              "      <td>23.500518</td>\n",
              "      <td>1796</td>\n",
              "    </tr>\n",
              "    <tr>\n",
              "      <th>2019-12-31</th>\n",
              "      <td>1</td>\n",
              "      <td>12</td>\n",
              "      <td>57.7500</td>\n",
              "      <td>8.849153</td>\n",
              "      <td>10.374682</td>\n",
              "      <td>2729</td>\n",
              "    </tr>\n",
              "  </tbody>\n",
              "</table>\n",
              "<p>146 rows × 6 columns</p>\n",
              "</div>"
            ],
            "text/plain": [
              "            season  mnth      hum       temp  windspeed   cnt\n",
              "dteday                                                       \n",
              "2019-08-08       3     8  67.2917  30.750000   7.416900  7534\n",
              "2019-08-09       3     8  62.0417  30.989153  10.458700  7286\n",
              "2019-08-10       3     8  71.5833  29.349153  16.000471  5786\n",
              "2019-08-11       3     8  73.2917  28.392500  13.834093  6299\n",
              "2019-08-12       3     8  53.0417  28.734153   8.208304  6544\n",
              "...            ...   ...      ...        ...        ...   ...\n",
              "2019-12-27       1    12  65.2917  10.420847  23.458911  2114\n",
              "2019-12-28       1    12  59.0000  10.386653  10.416557  3095\n",
              "2019-12-29       1    12  75.2917  10.386653   8.333661  1341\n",
              "2019-12-30       1    12  48.3333  10.489153  23.500518  1796\n",
              "2019-12-31       1    12  57.7500   8.849153  10.374682  2729\n",
              "\n",
              "[146 rows x 6 columns]"
            ]
          },
          "execution_count": 77,
          "metadata": {},
          "output_type": "execute_result"
        }
      ],
      "source": [
        "test"
      ]
    },
    {
      "cell_type": "code",
      "execution_count": null,
      "id": "bfb36a09",
      "metadata": {
        "id": "bfb36a09"
      },
      "outputs": [],
      "source": []
    },
    {
      "cell_type": "code",
      "execution_count": null,
      "id": "6a79414b",
      "metadata": {
        "id": "6a79414b"
      },
      "outputs": [],
      "source": [
        "Salary hike"
      ]
    },
    {
      "cell_type": "code",
      "execution_count": null,
      "id": "0b8e224d",
      "metadata": {
        "id": "0b8e224d"
      },
      "outputs": [],
      "source": [
        "5 >> 30%\n",
        "6.5LPA"
      ]
    },
    {
      "cell_type": "code",
      "execution_count": null,
      "id": "eef66d86",
      "metadata": {
        "id": "eef66d86"
      },
      "outputs": [],
      "source": [
        "9LPA"
      ]
    },
    {
      "cell_type": "code",
      "execution_count": null,
      "id": "622cab7c",
      "metadata": {
        "id": "622cab7c"
      },
      "outputs": [],
      "source": [
        "10 LPA"
      ]
    },
    {
      "cell_type": "code",
      "execution_count": null,
      "id": "e9ec684f",
      "metadata": {
        "id": "e9ec684f"
      },
      "outputs": [],
      "source": [
        "14 LPA"
      ]
    },
    {
      "cell_type": "code",
      "execution_count": null,
      "id": "09608e69",
      "metadata": {
        "id": "09608e69"
      },
      "outputs": [],
      "source": [
        "180%"
      ]
    },
    {
      "cell_type": "code",
      "execution_count": null,
      "id": "f86a61c0",
      "metadata": {
        "id": "f86a61c0"
      },
      "outputs": [],
      "source": [
        "240% >> 17LPA"
      ]
    },
    {
      "cell_type": "code",
      "execution_count": null,
      "id": "dfe7e03c",
      "metadata": {
        "id": "dfe7e03c",
        "outputId": "c3dcd60c-20ed-4bd4-8f4d-b539631929cf"
      },
      "outputs": [
        {
          "data": {
            "text/plain": [
              "-240.0"
            ]
          },
          "execution_count": 80,
          "metadata": {},
          "output_type": "execute_result"
        }
      ],
      "source": [
        "((5 - 17)/5)*100"
      ]
    },
    {
      "cell_type": "code",
      "execution_count": null,
      "id": "d93d7f39",
      "metadata": {
        "id": "d93d7f39"
      },
      "outputs": [],
      "source": [
        "20 >> pred 68"
      ]
    },
    {
      "cell_type": "code",
      "execution_count": null,
      "id": "759352f9",
      "metadata": {
        "id": "759352f9"
      },
      "outputs": [],
      "source": []
    },
    {
      "cell_type": "code",
      "execution_count": null,
      "id": "6b76efb5",
      "metadata": {
        "id": "6b76efb5"
      },
      "outputs": [],
      "source": []
    },
    {
      "cell_type": "code",
      "execution_count": null,
      "id": "fe3c1c4c",
      "metadata": {
        "id": "fe3c1c4c"
      },
      "outputs": [],
      "source": []
    },
    {
      "cell_type": "code",
      "execution_count": null,
      "id": "ecea8144",
      "metadata": {
        "id": "ecea8144"
      },
      "outputs": [],
      "source": []
    },
    {
      "cell_type": "code",
      "execution_count": null,
      "id": "a7e4ef10",
      "metadata": {
        "id": "a7e4ef10"
      },
      "outputs": [],
      "source": []
    },
    {
      "cell_type": "code",
      "execution_count": null,
      "id": "25d243a3",
      "metadata": {
        "id": "25d243a3"
      },
      "outputs": [],
      "source": []
    },
    {
      "cell_type": "code",
      "execution_count": null,
      "id": "ba5176f8",
      "metadata": {
        "id": "ba5176f8"
      },
      "outputs": [],
      "source": []
    },
    {
      "cell_type": "code",
      "execution_count": null,
      "id": "2d37199b",
      "metadata": {
        "id": "2d37199b"
      },
      "outputs": [],
      "source": []
    },
    {
      "cell_type": "code",
      "execution_count": null,
      "id": "1beb5229",
      "metadata": {
        "id": "1beb5229"
      },
      "outputs": [],
      "source": []
    },
    {
      "cell_type": "code",
      "execution_count": null,
      "id": "aefe8d63",
      "metadata": {
        "id": "aefe8d63"
      },
      "outputs": [],
      "source": []
    },
    {
      "cell_type": "code",
      "execution_count": null,
      "id": "5c3975d4",
      "metadata": {
        "id": "5c3975d4"
      },
      "outputs": [],
      "source": []
    },
    {
      "cell_type": "code",
      "execution_count": null,
      "id": "ac34e2d7",
      "metadata": {
        "id": "ac34e2d7"
      },
      "outputs": [],
      "source": []
    },
    {
      "cell_type": "code",
      "execution_count": null,
      "id": "786d3516",
      "metadata": {
        "id": "786d3516"
      },
      "outputs": [],
      "source": []
    },
    {
      "cell_type": "code",
      "execution_count": null,
      "id": "60244f1e",
      "metadata": {
        "id": "60244f1e"
      },
      "outputs": [],
      "source": []
    },
    {
      "cell_type": "code",
      "execution_count": null,
      "id": "7acf30f8",
      "metadata": {
        "id": "7acf30f8"
      },
      "outputs": [],
      "source": []
    },
    {
      "cell_type": "code",
      "execution_count": null,
      "id": "acabae8a",
      "metadata": {
        "id": "acabae8a"
      },
      "outputs": [],
      "source": []
    },
    {
      "cell_type": "code",
      "execution_count": null,
      "id": "1926b0c6",
      "metadata": {
        "id": "1926b0c6"
      },
      "outputs": [],
      "source": []
    },
    {
      "cell_type": "code",
      "execution_count": null,
      "id": "0b535ad6",
      "metadata": {
        "id": "0b535ad6"
      },
      "outputs": [],
      "source": []
    },
    {
      "cell_type": "code",
      "execution_count": null,
      "id": "a9442f78",
      "metadata": {
        "id": "a9442f78"
      },
      "outputs": [],
      "source": []
    },
    {
      "cell_type": "code",
      "execution_count": null,
      "id": "8fdb10cb",
      "metadata": {
        "id": "8fdb10cb"
      },
      "outputs": [],
      "source": []
    },
    {
      "cell_type": "code",
      "execution_count": null,
      "id": "fc79b46f",
      "metadata": {
        "id": "fc79b46f"
      },
      "outputs": [],
      "source": []
    },
    {
      "cell_type": "code",
      "execution_count": null,
      "id": "8c1d863b",
      "metadata": {
        "id": "8c1d863b"
      },
      "outputs": [],
      "source": []
    },
    {
      "cell_type": "code",
      "execution_count": null,
      "id": "4159d508",
      "metadata": {
        "id": "4159d508"
      },
      "outputs": [],
      "source": []
    },
    {
      "cell_type": "code",
      "execution_count": null,
      "id": "14f7fb40",
      "metadata": {
        "id": "14f7fb40"
      },
      "outputs": [],
      "source": []
    },
    {
      "cell_type": "code",
      "execution_count": null,
      "id": "89ebb72e",
      "metadata": {
        "id": "89ebb72e"
      },
      "outputs": [],
      "source": []
    },
    {
      "cell_type": "code",
      "execution_count": null,
      "id": "ee294f38",
      "metadata": {
        "id": "ee294f38"
      },
      "outputs": [],
      "source": []
    },
    {
      "cell_type": "code",
      "execution_count": null,
      "id": "e0c42864",
      "metadata": {
        "id": "e0c42864"
      },
      "outputs": [],
      "source": []
    },
    {
      "cell_type": "code",
      "execution_count": null,
      "id": "5bf1507a",
      "metadata": {
        "id": "5bf1507a"
      },
      "outputs": [],
      "source": []
    },
    {
      "cell_type": "code",
      "execution_count": null,
      "id": "4e40a274",
      "metadata": {
        "id": "4e40a274"
      },
      "outputs": [],
      "source": []
    },
    {
      "cell_type": "code",
      "execution_count": null,
      "id": "71443ca0",
      "metadata": {
        "id": "71443ca0"
      },
      "outputs": [],
      "source": []
    },
    {
      "cell_type": "code",
      "execution_count": null,
      "id": "c24d6a2a",
      "metadata": {
        "id": "c24d6a2a"
      },
      "outputs": [],
      "source": []
    },
    {
      "cell_type": "code",
      "execution_count": null,
      "id": "b775967c",
      "metadata": {
        "id": "b775967c"
      },
      "outputs": [],
      "source": []
    },
    {
      "cell_type": "code",
      "execution_count": null,
      "id": "b3642636",
      "metadata": {
        "id": "b3642636"
      },
      "outputs": [],
      "source": []
    },
    {
      "cell_type": "code",
      "execution_count": null,
      "id": "a4027913",
      "metadata": {
        "id": "a4027913"
      },
      "outputs": [],
      "source": []
    },
    {
      "cell_type": "code",
      "execution_count": null,
      "id": "1a193cfd",
      "metadata": {
        "id": "1a193cfd"
      },
      "outputs": [],
      "source": []
    },
    {
      "cell_type": "code",
      "execution_count": null,
      "id": "50b4bdec",
      "metadata": {
        "id": "50b4bdec"
      },
      "outputs": [],
      "source": []
    },
    {
      "cell_type": "code",
      "execution_count": null,
      "id": "7eb86ad8",
      "metadata": {
        "id": "7eb86ad8"
      },
      "outputs": [],
      "source": []
    }
  ],
  "metadata": {
    "kernelspec": {
      "display_name": "Python 3",
      "language": "python",
      "name": "python3"
    },
    "language_info": {
      "codemirror_mode": {
        "name": "ipython",
        "version": 3
      },
      "file_extension": ".py",
      "mimetype": "text/x-python",
      "name": "python",
      "nbconvert_exporter": "python",
      "pygments_lexer": "ipython3",
      "version": "3.8.8"
    },
    "colab": {
      "provenance": []
    }
  },
  "nbformat": 4,
  "nbformat_minor": 5
}